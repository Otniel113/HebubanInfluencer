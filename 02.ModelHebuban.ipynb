{
  "nbformat": 4,
  "nbformat_minor": 0,
  "metadata": {
    "colab": {
      "name": "02.ModelHebuban.ipynb",
      "provenance": [],
      "collapsed_sections": []
    },
    "kernelspec": {
      "name": "python3",
      "display_name": "Python 3"
    },
    "language_info": {
      "name": "python"
    }
  },
  "cells": [
    {
      "cell_type": "markdown",
      "source": [
        "# Run All"
      ],
      "metadata": {
        "id": "dqPTJfieVGuv"
      }
    },
    {
      "cell_type": "markdown",
      "source": [
        "## Import and Load"
      ],
      "metadata": {
        "id": "tYE7az_TVI_a"
      }
    },
    {
      "cell_type": "markdown",
      "source": [
        "Import library yang dibutuhkan"
      ],
      "metadata": {
        "id": "4enSTSAyubGk"
      }
    },
    {
      "cell_type": "code",
      "execution_count": 99,
      "metadata": {
        "id": "HfarWBYwUH4j"
      },
      "outputs": [],
      "source": [
        "import pandas as pd\n",
        "import networkx as nx\n",
        "import seaborn as sns\n",
        "import matplotlib as mpl\n",
        "import matplotlib.pyplot as plt\n",
        "from matplotlib import rcParams\n",
        "%matplotlib inline\n",
        "import itertools"
      ]
    },
    {
      "cell_type": "markdown",
      "source": [
        "Mengubah Style"
      ],
      "metadata": {
        "id": "Tlke4cg-udxv"
      }
    },
    {
      "cell_type": "code",
      "source": [
        "rcParams['figure.figsize'] = 15, 8\n",
        "mpl.style.use(['ggplot'])"
      ],
      "metadata": {
        "id": "QTBl5kAJjn9c"
      },
      "execution_count": 100,
      "outputs": []
    },
    {
      "cell_type": "markdown",
      "source": [
        "Load Dataset"
      ],
      "metadata": {
        "id": "DsO6hkpxufpk"
      }
    },
    {
      "cell_type": "code",
      "source": [
        "df_hebuban = pd.read_excel('https://drive.google.com/uc?id=1l3tRHD0umuyyHLJxMBVZY_szLNRKgAa1')"
      ],
      "metadata": {
        "id": "aLRoXtPiUwrc"
      },
      "execution_count": null,
      "outputs": []
    },
    {
      "cell_type": "markdown",
      "source": [
        "Lihat Dataset"
      ],
      "metadata": {
        "id": "1G53BXPeujBB"
      }
    },
    {
      "cell_type": "code",
      "source": [
        "df_hebuban.head()"
      ],
      "metadata": {
        "colab": {
          "base_uri": "https://localhost:8080/",
          "height": 531
        },
        "id": "KTsL462HVA1S",
        "outputId": "9c292fdc-4c9d-4d66-e55d-ede5c40be7e0"
      },
      "execution_count": null,
      "outputs": [
        {
          "output_type": "execute_result",
          "data": {
            "text/plain": [
              "  author_username  referenced_author_username            author_id  \\\n",
              "0       yasuthi13  Tidak ada referenced tweet   716452119931330560   \n",
              "1    KOKUHAKU_210             sHjSu1LfvuPseH0  1476093504011276289   \n",
              "2        hakuoden  Tidak ada referenced tweet  1089445166128062464   \n",
              "3    West99974912                     824_aoi  1342479462776983552   \n",
              "4    West99974912              yumekibogakuen  1342479462776983552   \n",
              "\n",
              "         referenced_author_id             tweet_id  \\\n",
              "0  Tidak ada referenced tweet  1511905311535247361   \n",
              "1         1503233976655237121  1511905300995264517   \n",
              "2  Tidak ada referenced tweet  1511905296406704131   \n",
              "3                  3111958734  1511905133478572037   \n",
              "4         1255058861112692736  1511905123781382145   \n",
              "\n",
              "          referenced_tweet_id  \\\n",
              "0  Tidak ada referenced tweet   \n",
              "1         1511886232745558018   \n",
              "2  Tidak ada referenced tweet   \n",
              "3         1511696175866707972   \n",
              "4         1511636485249765387   \n",
              "\n",
              "                                                text  \\\n",
              "0                           ヘブバンの2章普通に泣けるんだが…\\n#ヘブバン   \n",
              "1  RT @sHjSu1LfvuPseH0: #hvbnFA\\n#ヘブバン\\n#大島四ツ葉\\n\\...   \n",
              "2  ( ⌒ ͜ ⌒ )＜おでん今日の #ヘブバン\\n\\n緊急参戦！\\nLDブログのゲームNO.1...   \n",
              "3  RT @824_aoi: 次回の #ゆめきぼ 学園は…！🕊\\n\\n🏫4月13日21:00〜🏫...   \n",
              "4  RT @yumekibogakuen: #古賀葵 の羽ばたけ！！ #ゆめきぼ 学園\\nお友達...   \n",
              "\n",
              "                  created_at          relation lang               source  \n",
              "0  2022-04-07 03:14:50+00:00  Tidak ada relasi   ja   Twitter for iPhone  \n",
              "1  2022-04-07 03:14:48+00:00         retweeted   ja   Twitter for iPhone  \n",
              "2  2022-04-07 03:14:47+00:00  Tidak ada relasi   ja  Twitter for Android  \n",
              "3  2022-04-07 03:14:08+00:00         retweeted   ja   Twitter for iPhone  \n",
              "4  2022-04-07 03:14:06+00:00         retweeted   ja   Twitter for iPhone  "
            ],
            "text/html": [
              "\n",
              "  <div id=\"df-356be9c5-895b-44a7-a12f-4707f8b381ef\">\n",
              "    <div class=\"colab-df-container\">\n",
              "      <div>\n",
              "<style scoped>\n",
              "    .dataframe tbody tr th:only-of-type {\n",
              "        vertical-align: middle;\n",
              "    }\n",
              "\n",
              "    .dataframe tbody tr th {\n",
              "        vertical-align: top;\n",
              "    }\n",
              "\n",
              "    .dataframe thead th {\n",
              "        text-align: right;\n",
              "    }\n",
              "</style>\n",
              "<table border=\"1\" class=\"dataframe\">\n",
              "  <thead>\n",
              "    <tr style=\"text-align: right;\">\n",
              "      <th></th>\n",
              "      <th>author_username</th>\n",
              "      <th>referenced_author_username</th>\n",
              "      <th>author_id</th>\n",
              "      <th>referenced_author_id</th>\n",
              "      <th>tweet_id</th>\n",
              "      <th>referenced_tweet_id</th>\n",
              "      <th>text</th>\n",
              "      <th>created_at</th>\n",
              "      <th>relation</th>\n",
              "      <th>lang</th>\n",
              "      <th>source</th>\n",
              "    </tr>\n",
              "  </thead>\n",
              "  <tbody>\n",
              "    <tr>\n",
              "      <th>0</th>\n",
              "      <td>yasuthi13</td>\n",
              "      <td>Tidak ada referenced tweet</td>\n",
              "      <td>716452119931330560</td>\n",
              "      <td>Tidak ada referenced tweet</td>\n",
              "      <td>1511905311535247361</td>\n",
              "      <td>Tidak ada referenced tweet</td>\n",
              "      <td>ヘブバンの2章普通に泣けるんだが…\\n#ヘブバン</td>\n",
              "      <td>2022-04-07 03:14:50+00:00</td>\n",
              "      <td>Tidak ada relasi</td>\n",
              "      <td>ja</td>\n",
              "      <td>Twitter for iPhone</td>\n",
              "    </tr>\n",
              "    <tr>\n",
              "      <th>1</th>\n",
              "      <td>KOKUHAKU_210</td>\n",
              "      <td>sHjSu1LfvuPseH0</td>\n",
              "      <td>1476093504011276289</td>\n",
              "      <td>1503233976655237121</td>\n",
              "      <td>1511905300995264517</td>\n",
              "      <td>1511886232745558018</td>\n",
              "      <td>RT @sHjSu1LfvuPseH0: #hvbnFA\\n#ヘブバン\\n#大島四ツ葉\\n\\...</td>\n",
              "      <td>2022-04-07 03:14:48+00:00</td>\n",
              "      <td>retweeted</td>\n",
              "      <td>ja</td>\n",
              "      <td>Twitter for iPhone</td>\n",
              "    </tr>\n",
              "    <tr>\n",
              "      <th>2</th>\n",
              "      <td>hakuoden</td>\n",
              "      <td>Tidak ada referenced tweet</td>\n",
              "      <td>1089445166128062464</td>\n",
              "      <td>Tidak ada referenced tweet</td>\n",
              "      <td>1511905296406704131</td>\n",
              "      <td>Tidak ada referenced tweet</td>\n",
              "      <td>( ⌒ ͜ ⌒ )＜おでん今日の #ヘブバン\\n\\n緊急参戦！\\nLDブログのゲームNO.1...</td>\n",
              "      <td>2022-04-07 03:14:47+00:00</td>\n",
              "      <td>Tidak ada relasi</td>\n",
              "      <td>ja</td>\n",
              "      <td>Twitter for Android</td>\n",
              "    </tr>\n",
              "    <tr>\n",
              "      <th>3</th>\n",
              "      <td>West99974912</td>\n",
              "      <td>824_aoi</td>\n",
              "      <td>1342479462776983552</td>\n",
              "      <td>3111958734</td>\n",
              "      <td>1511905133478572037</td>\n",
              "      <td>1511696175866707972</td>\n",
              "      <td>RT @824_aoi: 次回の #ゆめきぼ 学園は…！🕊\\n\\n🏫4月13日21:00〜🏫...</td>\n",
              "      <td>2022-04-07 03:14:08+00:00</td>\n",
              "      <td>retweeted</td>\n",
              "      <td>ja</td>\n",
              "      <td>Twitter for iPhone</td>\n",
              "    </tr>\n",
              "    <tr>\n",
              "      <th>4</th>\n",
              "      <td>West99974912</td>\n",
              "      <td>yumekibogakuen</td>\n",
              "      <td>1342479462776983552</td>\n",
              "      <td>1255058861112692736</td>\n",
              "      <td>1511905123781382145</td>\n",
              "      <td>1511636485249765387</td>\n",
              "      <td>RT @yumekibogakuen: #古賀葵 の羽ばたけ！！ #ゆめきぼ 学園\\nお友達...</td>\n",
              "      <td>2022-04-07 03:14:06+00:00</td>\n",
              "      <td>retweeted</td>\n",
              "      <td>ja</td>\n",
              "      <td>Twitter for iPhone</td>\n",
              "    </tr>\n",
              "  </tbody>\n",
              "</table>\n",
              "</div>\n",
              "      <button class=\"colab-df-convert\" onclick=\"convertToInteractive('df-356be9c5-895b-44a7-a12f-4707f8b381ef')\"\n",
              "              title=\"Convert this dataframe to an interactive table.\"\n",
              "              style=\"display:none;\">\n",
              "        \n",
              "  <svg xmlns=\"http://www.w3.org/2000/svg\" height=\"24px\"viewBox=\"0 0 24 24\"\n",
              "       width=\"24px\">\n",
              "    <path d=\"M0 0h24v24H0V0z\" fill=\"none\"/>\n",
              "    <path d=\"M18.56 5.44l.94 2.06.94-2.06 2.06-.94-2.06-.94-.94-2.06-.94 2.06-2.06.94zm-11 1L8.5 8.5l.94-2.06 2.06-.94-2.06-.94L8.5 2.5l-.94 2.06-2.06.94zm10 10l.94 2.06.94-2.06 2.06-.94-2.06-.94-.94-2.06-.94 2.06-2.06.94z\"/><path d=\"M17.41 7.96l-1.37-1.37c-.4-.4-.92-.59-1.43-.59-.52 0-1.04.2-1.43.59L10.3 9.45l-7.72 7.72c-.78.78-.78 2.05 0 2.83L4 21.41c.39.39.9.59 1.41.59.51 0 1.02-.2 1.41-.59l7.78-7.78 2.81-2.81c.8-.78.8-2.07 0-2.86zM5.41 20L4 18.59l7.72-7.72 1.47 1.35L5.41 20z\"/>\n",
              "  </svg>\n",
              "      </button>\n",
              "      \n",
              "  <style>\n",
              "    .colab-df-container {\n",
              "      display:flex;\n",
              "      flex-wrap:wrap;\n",
              "      gap: 12px;\n",
              "    }\n",
              "\n",
              "    .colab-df-convert {\n",
              "      background-color: #E8F0FE;\n",
              "      border: none;\n",
              "      border-radius: 50%;\n",
              "      cursor: pointer;\n",
              "      display: none;\n",
              "      fill: #1967D2;\n",
              "      height: 32px;\n",
              "      padding: 0 0 0 0;\n",
              "      width: 32px;\n",
              "    }\n",
              "\n",
              "    .colab-df-convert:hover {\n",
              "      background-color: #E2EBFA;\n",
              "      box-shadow: 0px 1px 2px rgba(60, 64, 67, 0.3), 0px 1px 3px 1px rgba(60, 64, 67, 0.15);\n",
              "      fill: #174EA6;\n",
              "    }\n",
              "\n",
              "    [theme=dark] .colab-df-convert {\n",
              "      background-color: #3B4455;\n",
              "      fill: #D2E3FC;\n",
              "    }\n",
              "\n",
              "    [theme=dark] .colab-df-convert:hover {\n",
              "      background-color: #434B5C;\n",
              "      box-shadow: 0px 1px 3px 1px rgba(0, 0, 0, 0.15);\n",
              "      filter: drop-shadow(0px 1px 2px rgba(0, 0, 0, 0.3));\n",
              "      fill: #FFFFFF;\n",
              "    }\n",
              "  </style>\n",
              "\n",
              "      <script>\n",
              "        const buttonEl =\n",
              "          document.querySelector('#df-356be9c5-895b-44a7-a12f-4707f8b381ef button.colab-df-convert');\n",
              "        buttonEl.style.display =\n",
              "          google.colab.kernel.accessAllowed ? 'block' : 'none';\n",
              "\n",
              "        async function convertToInteractive(key) {\n",
              "          const element = document.querySelector('#df-356be9c5-895b-44a7-a12f-4707f8b381ef');\n",
              "          const dataTable =\n",
              "            await google.colab.kernel.invokeFunction('convertToInteractive',\n",
              "                                                     [key], {});\n",
              "          if (!dataTable) return;\n",
              "\n",
              "          const docLinkHtml = 'Like what you see? Visit the ' +\n",
              "            '<a target=\"_blank\" href=https://colab.research.google.com/notebooks/data_table.ipynb>data table notebook</a>'\n",
              "            + ' to learn more about interactive tables.';\n",
              "          element.innerHTML = '';\n",
              "          dataTable['output_type'] = 'display_data';\n",
              "          await google.colab.output.renderOutput(dataTable, element);\n",
              "          const docLink = document.createElement('div');\n",
              "          docLink.innerHTML = docLinkHtml;\n",
              "          element.appendChild(docLink);\n",
              "        }\n",
              "      </script>\n",
              "    </div>\n",
              "  </div>\n",
              "  "
            ]
          },
          "metadata": {},
          "execution_count": 3
        }
      ]
    },
    {
      "cell_type": "markdown",
      "source": [
        "Ukuran Dataset"
      ],
      "metadata": {
        "id": "KtBoY76SumUE"
      }
    },
    {
      "cell_type": "code",
      "source": [
        "df_hebuban.shape"
      ],
      "metadata": {
        "colab": {
          "base_uri": "https://localhost:8080/"
        },
        "id": "JDAkdxVsVMN0",
        "outputId": "1608266b-35f2-42db-cf60-348176b31590"
      },
      "execution_count": null,
      "outputs": [
        {
          "output_type": "execute_result",
          "data": {
            "text/plain": [
              "(14852, 11)"
            ]
          },
          "metadata": {},
          "execution_count": 4
        }
      ]
    },
    {
      "cell_type": "markdown",
      "source": [
        "Info Dataset"
      ],
      "metadata": {
        "id": "nryWLg6buoXl"
      }
    },
    {
      "cell_type": "code",
      "source": [
        "df_hebuban.info()"
      ],
      "metadata": {
        "colab": {
          "base_uri": "https://localhost:8080/"
        },
        "id": "Fh7ESFF2VPEq",
        "outputId": "f4b7770a-6404-4298-b37c-63ebb1b94dfb"
      },
      "execution_count": null,
      "outputs": [
        {
          "output_type": "stream",
          "name": "stdout",
          "text": [
            "<class 'pandas.core.frame.DataFrame'>\n",
            "RangeIndex: 14852 entries, 0 to 14851\n",
            "Data columns (total 11 columns):\n",
            " #   Column                      Non-Null Count  Dtype \n",
            "---  ------                      --------------  ----- \n",
            " 0   author_username             14852 non-null  object\n",
            " 1   referenced_author_username  14852 non-null  object\n",
            " 2   author_id                   14852 non-null  int64 \n",
            " 3   referenced_author_id        14852 non-null  object\n",
            " 4   tweet_id                    14852 non-null  int64 \n",
            " 5   referenced_tweet_id         14852 non-null  object\n",
            " 6   text                        14852 non-null  object\n",
            " 7   created_at                  14852 non-null  object\n",
            " 8   relation                    14852 non-null  object\n",
            " 9   lang                        14852 non-null  object\n",
            " 10  source                      14852 non-null  object\n",
            "dtypes: int64(2), object(9)\n",
            "memory usage: 1.2+ MB\n"
          ]
        }
      ]
    },
    {
      "cell_type": "markdown",
      "source": [
        "## Praproses"
      ],
      "metadata": {
        "id": "gabbsG8wVaPC"
      }
    },
    {
      "cell_type": "markdown",
      "source": [
        "### Melakukan Drop pada Tweet yang tidak berelasi"
      ],
      "metadata": {
        "id": "A4Hq-WpOZLof"
      }
    },
    {
      "cell_type": "markdown",
      "source": [
        "Mencari yang tidak memiliki relasi"
      ],
      "metadata": {
        "id": "rokz8r9CZSfZ"
      }
    },
    {
      "cell_type": "code",
      "source": [
        "df_hebuban['author_username'][df_hebuban[\"referenced_author_username\"] == \"Tidak ada referenced tweet\"].count()"
      ],
      "metadata": {
        "colab": {
          "base_uri": "https://localhost:8080/"
        },
        "id": "qbtbWH7eWO1G",
        "outputId": "ffa807bc-e624-444a-fd1e-81fa15a996d1"
      },
      "execution_count": null,
      "outputs": [
        {
          "output_type": "execute_result",
          "data": {
            "text/plain": [
              "6513"
            ]
          },
          "metadata": {},
          "execution_count": 10
        }
      ]
    },
    {
      "cell_type": "markdown",
      "source": [
        "Ditampung ke index_drop"
      ],
      "metadata": {
        "id": "RS7pdnBnZWtL"
      }
    },
    {
      "cell_type": "code",
      "source": [
        "index_drop = df_hebuban[df_hebuban[\"referenced_author_username\"] == \"Tidak ada referenced tweet\"].index\n",
        "len(index_drop)"
      ],
      "metadata": {
        "colab": {
          "base_uri": "https://localhost:8080/"
        },
        "id": "X6ZyvlycX1h3",
        "outputId": "217f06d9-16d8-40a1-f5a4-ebdd76e29846"
      },
      "execution_count": null,
      "outputs": [
        {
          "output_type": "execute_result",
          "data": {
            "text/plain": [
              "6513"
            ]
          },
          "metadata": {},
          "execution_count": 15
        }
      ]
    },
    {
      "cell_type": "markdown",
      "source": [
        "Melakukan drop dan melihat sisa data"
      ],
      "metadata": {
        "id": "Mw65aRPnZZ6Q"
      }
    },
    {
      "cell_type": "code",
      "source": [
        "df_hebuban = df_hebuban.drop(index_drop)\n",
        "df_hebuban.shape"
      ],
      "metadata": {
        "colab": {
          "base_uri": "https://localhost:8080/"
        },
        "id": "5cdkwgd1Y8RN",
        "outputId": "26c985d4-6eae-4792-8a8f-82cce5712aa6"
      },
      "execution_count": null,
      "outputs": [
        {
          "output_type": "execute_result",
          "data": {
            "text/plain": [
              "(8339, 11)"
            ]
          },
          "metadata": {},
          "execution_count": 18
        }
      ]
    },
    {
      "cell_type": "markdown",
      "source": [
        "### Cek Relasi ke Diri Sendiri"
      ],
      "metadata": {
        "id": "J1QKXO-uZmBM"
      }
    },
    {
      "cell_type": "markdown",
      "source": [
        "Mencari yang berelasi ke diri sendiri"
      ],
      "metadata": {
        "id": "PrDIOZ3GuubK"
      }
    },
    {
      "cell_type": "code",
      "source": [
        "df_hebuban['author_username'][df_hebuban[\"referenced_author_username\"] == df_hebuban[\"author_username\"]].count()"
      ],
      "metadata": {
        "colab": {
          "base_uri": "https://localhost:8080/"
        },
        "id": "HPzkaL0nZora",
        "outputId": "68926120-a158-4fd7-eafb-045c192c7c98"
      },
      "execution_count": null,
      "outputs": [
        {
          "output_type": "execute_result",
          "data": {
            "text/plain": [
              "299"
            ]
          },
          "metadata": {},
          "execution_count": 20
        }
      ]
    },
    {
      "cell_type": "markdown",
      "source": [
        "Menampung index yang akan didrop"
      ],
      "metadata": {
        "id": "SiGgmrkguxtv"
      }
    },
    {
      "cell_type": "code",
      "source": [
        "index_drop = df_hebuban['author_username'][df_hebuban[\"referenced_author_username\"] == df_hebuban[\"author_username\"]].index\n",
        "len(index_drop)"
      ],
      "metadata": {
        "colab": {
          "base_uri": "https://localhost:8080/"
        },
        "id": "Gl9J1zL3Z5Ij",
        "outputId": "673c8807-c810-42ed-db78-be20496b0e0c"
      },
      "execution_count": null,
      "outputs": [
        {
          "output_type": "execute_result",
          "data": {
            "text/plain": [
              "299"
            ]
          },
          "metadata": {},
          "execution_count": 23
        }
      ]
    },
    {
      "cell_type": "markdown",
      "source": [
        "Hasil akhir setelah drop"
      ],
      "metadata": {
        "id": "SWUeN-Jcu1IU"
      }
    },
    {
      "cell_type": "code",
      "source": [
        "df_hebuban = df_hebuban.drop(index_drop)\n",
        "df_hebuban.shape"
      ],
      "metadata": {
        "colab": {
          "base_uri": "https://localhost:8080/"
        },
        "id": "w7QhqgxSaC5F",
        "outputId": "28958bc2-173c-4466-e9aa-c43946d1a619"
      },
      "execution_count": null,
      "outputs": [
        {
          "output_type": "execute_result",
          "data": {
            "text/plain": [
              "(8040, 11)"
            ]
          },
          "metadata": {},
          "execution_count": 24
        }
      ]
    },
    {
      "cell_type": "markdown",
      "source": [
        "### Reset Index"
      ],
      "metadata": {
        "id": "v8cA7vljg-iM"
      }
    },
    {
      "cell_type": "markdown",
      "source": [
        "Melakukan reset index karena sebelumnya ada index yang didrop"
      ],
      "metadata": {
        "id": "_crikfH1u53z"
      }
    },
    {
      "cell_type": "code",
      "source": [
        "df_hebuban = df_hebuban.reset_index(drop=True)\n",
        "df_hebuban.head()"
      ],
      "metadata": {
        "colab": {
          "base_uri": "https://localhost:8080/",
          "height": 548
        },
        "id": "xOl86eYag7ji",
        "outputId": "77aa8d12-ffd4-4ea3-98d6-05c35b0f8bd9"
      },
      "execution_count": 44,
      "outputs": [
        {
          "output_type": "execute_result",
          "data": {
            "text/plain": [
              "  author_username referenced_author_username            author_id  \\\n",
              "0    KOKUHAKU_210            sHjSu1LfvuPseH0  1476093504011276289   \n",
              "1    West99974912                    824_aoi  1342479462776983552   \n",
              "2    West99974912             yumekibogakuen  1342479462776983552   \n",
              "3     sanagi_hvbn            sHjSu1LfvuPseH0  1497853701717135361   \n",
              "4    isshi_nekoha                   092596Tk  1465274875841769475   \n",
              "\n",
              "  referenced_author_id             tweet_id  referenced_tweet_id  \\\n",
              "0  1503233976655237121  1511905300995264517  1511886232745558018   \n",
              "1           3111958734  1511905133478572037  1511696175866707972   \n",
              "2  1255058861112692736  1511905123781382145  1511636485249765387   \n",
              "3  1503233976655237121  1511904694456963073  1511886232745558018   \n",
              "4           2373534090  1511904344882352138  1510215147054280705   \n",
              "\n",
              "                                                text  \\\n",
              "0  RT @sHjSu1LfvuPseH0: #hvbnFA\\n#ヘブバン\\n#大島四ツ葉\\n\\...   \n",
              "1  RT @824_aoi: 次回の #ゆめきぼ 学園は…！🕊\\n\\n🏫4月13日21:00〜🏫...   \n",
              "2  RT @yumekibogakuen: #古賀葵 の羽ばたけ！！ #ゆめきぼ 学園\\nお友達...   \n",
              "3  RT @sHjSu1LfvuPseH0: #hvbnFA\\n#ヘブバン\\n#大島四ツ葉\\n\\...   \n",
              "4  RT @092596Tk: くるくるパーカー(  ˘ω˘ )\\n#ヘブバン\\n#hvbnFA...   \n",
              "\n",
              "                  created_at   relation lang               source  \n",
              "0  2022-04-07 03:14:48+00:00  retweeted   ja   Twitter for iPhone  \n",
              "1  2022-04-07 03:14:08+00:00  retweeted   ja   Twitter for iPhone  \n",
              "2  2022-04-07 03:14:06+00:00  retweeted   ja   Twitter for iPhone  \n",
              "3  2022-04-07 03:12:23+00:00  retweeted   ja   Twitter for iPhone  \n",
              "4  2022-04-07 03:11:00+00:00  retweeted   ja  Twitter for Android  "
            ],
            "text/html": [
              "\n",
              "  <div id=\"df-8cdee5d4-7ca5-465d-a429-67fde37bc2b9\">\n",
              "    <div class=\"colab-df-container\">\n",
              "      <div>\n",
              "<style scoped>\n",
              "    .dataframe tbody tr th:only-of-type {\n",
              "        vertical-align: middle;\n",
              "    }\n",
              "\n",
              "    .dataframe tbody tr th {\n",
              "        vertical-align: top;\n",
              "    }\n",
              "\n",
              "    .dataframe thead th {\n",
              "        text-align: right;\n",
              "    }\n",
              "</style>\n",
              "<table border=\"1\" class=\"dataframe\">\n",
              "  <thead>\n",
              "    <tr style=\"text-align: right;\">\n",
              "      <th></th>\n",
              "      <th>author_username</th>\n",
              "      <th>referenced_author_username</th>\n",
              "      <th>author_id</th>\n",
              "      <th>referenced_author_id</th>\n",
              "      <th>tweet_id</th>\n",
              "      <th>referenced_tweet_id</th>\n",
              "      <th>text</th>\n",
              "      <th>created_at</th>\n",
              "      <th>relation</th>\n",
              "      <th>lang</th>\n",
              "      <th>source</th>\n",
              "    </tr>\n",
              "  </thead>\n",
              "  <tbody>\n",
              "    <tr>\n",
              "      <th>0</th>\n",
              "      <td>KOKUHAKU_210</td>\n",
              "      <td>sHjSu1LfvuPseH0</td>\n",
              "      <td>1476093504011276289</td>\n",
              "      <td>1503233976655237121</td>\n",
              "      <td>1511905300995264517</td>\n",
              "      <td>1511886232745558018</td>\n",
              "      <td>RT @sHjSu1LfvuPseH0: #hvbnFA\\n#ヘブバン\\n#大島四ツ葉\\n\\...</td>\n",
              "      <td>2022-04-07 03:14:48+00:00</td>\n",
              "      <td>retweeted</td>\n",
              "      <td>ja</td>\n",
              "      <td>Twitter for iPhone</td>\n",
              "    </tr>\n",
              "    <tr>\n",
              "      <th>1</th>\n",
              "      <td>West99974912</td>\n",
              "      <td>824_aoi</td>\n",
              "      <td>1342479462776983552</td>\n",
              "      <td>3111958734</td>\n",
              "      <td>1511905133478572037</td>\n",
              "      <td>1511696175866707972</td>\n",
              "      <td>RT @824_aoi: 次回の #ゆめきぼ 学園は…！🕊\\n\\n🏫4月13日21:00〜🏫...</td>\n",
              "      <td>2022-04-07 03:14:08+00:00</td>\n",
              "      <td>retweeted</td>\n",
              "      <td>ja</td>\n",
              "      <td>Twitter for iPhone</td>\n",
              "    </tr>\n",
              "    <tr>\n",
              "      <th>2</th>\n",
              "      <td>West99974912</td>\n",
              "      <td>yumekibogakuen</td>\n",
              "      <td>1342479462776983552</td>\n",
              "      <td>1255058861112692736</td>\n",
              "      <td>1511905123781382145</td>\n",
              "      <td>1511636485249765387</td>\n",
              "      <td>RT @yumekibogakuen: #古賀葵 の羽ばたけ！！ #ゆめきぼ 学園\\nお友達...</td>\n",
              "      <td>2022-04-07 03:14:06+00:00</td>\n",
              "      <td>retweeted</td>\n",
              "      <td>ja</td>\n",
              "      <td>Twitter for iPhone</td>\n",
              "    </tr>\n",
              "    <tr>\n",
              "      <th>3</th>\n",
              "      <td>sanagi_hvbn</td>\n",
              "      <td>sHjSu1LfvuPseH0</td>\n",
              "      <td>1497853701717135361</td>\n",
              "      <td>1503233976655237121</td>\n",
              "      <td>1511904694456963073</td>\n",
              "      <td>1511886232745558018</td>\n",
              "      <td>RT @sHjSu1LfvuPseH0: #hvbnFA\\n#ヘブバン\\n#大島四ツ葉\\n\\...</td>\n",
              "      <td>2022-04-07 03:12:23+00:00</td>\n",
              "      <td>retweeted</td>\n",
              "      <td>ja</td>\n",
              "      <td>Twitter for iPhone</td>\n",
              "    </tr>\n",
              "    <tr>\n",
              "      <th>4</th>\n",
              "      <td>isshi_nekoha</td>\n",
              "      <td>092596Tk</td>\n",
              "      <td>1465274875841769475</td>\n",
              "      <td>2373534090</td>\n",
              "      <td>1511904344882352138</td>\n",
              "      <td>1510215147054280705</td>\n",
              "      <td>RT @092596Tk: くるくるパーカー(  ˘ω˘ )\\n#ヘブバン\\n#hvbnFA...</td>\n",
              "      <td>2022-04-07 03:11:00+00:00</td>\n",
              "      <td>retweeted</td>\n",
              "      <td>ja</td>\n",
              "      <td>Twitter for Android</td>\n",
              "    </tr>\n",
              "  </tbody>\n",
              "</table>\n",
              "</div>\n",
              "      <button class=\"colab-df-convert\" onclick=\"convertToInteractive('df-8cdee5d4-7ca5-465d-a429-67fde37bc2b9')\"\n",
              "              title=\"Convert this dataframe to an interactive table.\"\n",
              "              style=\"display:none;\">\n",
              "        \n",
              "  <svg xmlns=\"http://www.w3.org/2000/svg\" height=\"24px\"viewBox=\"0 0 24 24\"\n",
              "       width=\"24px\">\n",
              "    <path d=\"M0 0h24v24H0V0z\" fill=\"none\"/>\n",
              "    <path d=\"M18.56 5.44l.94 2.06.94-2.06 2.06-.94-2.06-.94-.94-2.06-.94 2.06-2.06.94zm-11 1L8.5 8.5l.94-2.06 2.06-.94-2.06-.94L8.5 2.5l-.94 2.06-2.06.94zm10 10l.94 2.06.94-2.06 2.06-.94-2.06-.94-.94-2.06-.94 2.06-2.06.94z\"/><path d=\"M17.41 7.96l-1.37-1.37c-.4-.4-.92-.59-1.43-.59-.52 0-1.04.2-1.43.59L10.3 9.45l-7.72 7.72c-.78.78-.78 2.05 0 2.83L4 21.41c.39.39.9.59 1.41.59.51 0 1.02-.2 1.41-.59l7.78-7.78 2.81-2.81c.8-.78.8-2.07 0-2.86zM5.41 20L4 18.59l7.72-7.72 1.47 1.35L5.41 20z\"/>\n",
              "  </svg>\n",
              "      </button>\n",
              "      \n",
              "  <style>\n",
              "    .colab-df-container {\n",
              "      display:flex;\n",
              "      flex-wrap:wrap;\n",
              "      gap: 12px;\n",
              "    }\n",
              "\n",
              "    .colab-df-convert {\n",
              "      background-color: #E8F0FE;\n",
              "      border: none;\n",
              "      border-radius: 50%;\n",
              "      cursor: pointer;\n",
              "      display: none;\n",
              "      fill: #1967D2;\n",
              "      height: 32px;\n",
              "      padding: 0 0 0 0;\n",
              "      width: 32px;\n",
              "    }\n",
              "\n",
              "    .colab-df-convert:hover {\n",
              "      background-color: #E2EBFA;\n",
              "      box-shadow: 0px 1px 2px rgba(60, 64, 67, 0.3), 0px 1px 3px 1px rgba(60, 64, 67, 0.15);\n",
              "      fill: #174EA6;\n",
              "    }\n",
              "\n",
              "    [theme=dark] .colab-df-convert {\n",
              "      background-color: #3B4455;\n",
              "      fill: #D2E3FC;\n",
              "    }\n",
              "\n",
              "    [theme=dark] .colab-df-convert:hover {\n",
              "      background-color: #434B5C;\n",
              "      box-shadow: 0px 1px 3px 1px rgba(0, 0, 0, 0.15);\n",
              "      filter: drop-shadow(0px 1px 2px rgba(0, 0, 0, 0.3));\n",
              "      fill: #FFFFFF;\n",
              "    }\n",
              "  </style>\n",
              "\n",
              "      <script>\n",
              "        const buttonEl =\n",
              "          document.querySelector('#df-8cdee5d4-7ca5-465d-a429-67fde37bc2b9 button.colab-df-convert');\n",
              "        buttonEl.style.display =\n",
              "          google.colab.kernel.accessAllowed ? 'block' : 'none';\n",
              "\n",
              "        async function convertToInteractive(key) {\n",
              "          const element = document.querySelector('#df-8cdee5d4-7ca5-465d-a429-67fde37bc2b9');\n",
              "          const dataTable =\n",
              "            await google.colab.kernel.invokeFunction('convertToInteractive',\n",
              "                                                     [key], {});\n",
              "          if (!dataTable) return;\n",
              "\n",
              "          const docLinkHtml = 'Like what you see? Visit the ' +\n",
              "            '<a target=\"_blank\" href=https://colab.research.google.com/notebooks/data_table.ipynb>data table notebook</a>'\n",
              "            + ' to learn more about interactive tables.';\n",
              "          element.innerHTML = '';\n",
              "          dataTable['output_type'] = 'display_data';\n",
              "          await google.colab.output.renderOutput(dataTable, element);\n",
              "          const docLink = document.createElement('div');\n",
              "          docLink.innerHTML = docLinkHtml;\n",
              "          element.appendChild(docLink);\n",
              "        }\n",
              "      </script>\n",
              "    </div>\n",
              "  </div>\n",
              "  "
            ]
          },
          "metadata": {},
          "execution_count": 44
        }
      ]
    },
    {
      "cell_type": "markdown",
      "source": [
        "## Model Graf"
      ],
      "metadata": {
        "id": "idKYLAsvaK6T"
      }
    },
    {
      "cell_type": "markdown",
      "source": [
        "Membuat Graf"
      ],
      "metadata": {
        "id": "fgnCOSzmuUgu"
      }
    },
    {
      "cell_type": "code",
      "source": [
        "h_graph = nx.Graph()\n",
        "\n",
        "for i in range(len(df_hebuban)):\n",
        "  h_graph.add_edge(df_hebuban['author_username'][i], df_hebuban['referenced_author_username'][i])"
      ],
      "metadata": {
        "id": "jICiNk3giDNp"
      },
      "execution_count": 77,
      "outputs": []
    },
    {
      "cell_type": "markdown",
      "source": [
        "Visualisasi Graf. Waktu Run sekitar 1.5 menit"
      ],
      "metadata": {
        "id": "vjs8cFyRnEbk"
      }
    },
    {
      "cell_type": "code",
      "source": [
        "nx.draw_networkx(h_graph, node_size=50, width=3, with_labels=False)\n",
        "plt.show()"
      ],
      "metadata": {
        "colab": {
          "base_uri": "https://localhost:8080/",
          "height": 466
        },
        "id": "9-c4GKQNmJ-c",
        "outputId": "bd1bc016-9d13-4783-9b8b-e8ab5d0c8f46"
      },
      "execution_count": 79,
      "outputs": [
        {
          "output_type": "display_data",
          "data": {
            "text/plain": [
              "<Figure size 1080x576 with 1 Axes>"
            ],
            "image/png": "[encoded data removed]"
          },
          "metadata": {}
        }
      ]
    },
    {
      "cell_type": "markdown",
      "source": [
        "## Perhitungan Centrality"
      ],
      "metadata": {
        "id": "QeY52fnUsIJW"
      }
    },
    {
      "cell_type": "markdown",
      "source": [
        "Menggunakan eigenvector_centrality()"
      ],
      "metadata": {
        "id": "OL2hotFrsLnZ"
      }
    },
    {
      "cell_type": "code",
      "source": [
        "nilai_centrality = nx.eigenvector_centrality(h_graph, max_iter=200)\n",
        "nilai_centrality = dict(sorted(nilai_centrality.items(), key=lambda item: item[1],reverse=True))\n",
        "print(nilai_centrality)"
      ],
      "metadata": {
        "colab": {
          "base_uri": "https://localhost:8080/"
        },
        "id": "GZHFYho5l0Ji",
        "outputId": "7ccb0476-6a33-4c94-fc0e-b7f8a6b6313b"
      },
      "execution_count": 82,
      "outputs": [
        {
          "output_type": "stream",
          "name": "stdout",
          "text": [
            "{'heavenburnsred': 0.6993116894510734, 'Yuugen_99': 0.040408954937635404, 'ndjiru_n': 0.04039691177461465, '092596Tk': 0.038065117288972126, 'Tatika081': 0.029661526460543666, 'KegurunekuR33': 0.028998839773114373, 'game_tori10': 0.028088419035011917, 'ogayan0301': 0.02689414945554788, 'kegani_0207': 0.02685790274961548, 'DIVAvivylove1': 0.026282672095241037, 'sera050520': 0.02581270556177723, 'Helpless_16g': 0.02580206766356787, 'darkknocker1': 0.025463930426425797, 'takumi27270830': 0.024858383176466808, 'dozeu31': 0.02469499015330194, 'wildrose1448': 0.024505458900080157, 'akqqqqq': 0.023923939224005576, 'yumekuihiro': 0.02383628938210638, 'Tida254': 0.023772883775171505, 'chimera_zd2005': 0.02317332863850827, 'si1_1me': 0.02240492400390944, 'kuzunoha224': 0.022214899903234258, 'ryimya281': 0.02210916229556818, 'yurinosyumiaka': 0.02194969779656167, 'latecafe827': 0.021896142991585984, 'syuya2206': 0.02156519434561829, 'kurage_727': 0.021107916675118868, 'SINSIKENurosu': 0.021052831351647948, 'm_h_xx_hr100': 0.021023165437342867, 'muzono418tweet': 0.0208527539463395, 'd0O4LicbBYwqW8R': 0.020846564804883255, 'mirurusa': 0.020836928161345934, '__Heart_eartH__': 0.020616851000525797, 'Mist_KamenRider': 0.020455726389391013, 'jsan_1904': 0.02036898689376215, 'nwu8xWmeESAEIO1': 0.020277169604619106, 'Im2Fh': 0.020208527588038445, 'kasane_aohoshi': 0.02009075056538113, 're09726525': 0.019967603850326178, 'aodukiren': 0.01994873198711213, 'SnMoRwygRVZ1f0Z': 0.01992751036817297, 'NaNmoSirangena': 0.019897285766303792, 'aporo3_grablu': 0.019889079594804265, 'CNaLio_Memories': 0.019866242939355537, 'Yanagi__Kaworu': 0.019832524508700104, 'ocean_gf': 0.019825763679587636, 'kuro6ha': 0.01982474624511113, 'sarasara_14': 0.019796010917937548, 'shirasagih2': 0.01979298853273617, 'TwVQCit3IYROOuN': 0.01976497994603236, 'harumakiyuguch1': 0.01976468297486575, 'gustn1354': 0.01976468297486575, 'kazukazu__333': 0.01976468297486575, 'yoseF0831': 0.01976468297486575, 'shigure490': 0.01975568083241779, '777_7777_77777': 0.019749942994567116, 'hoshiumi_': 0.019693912880802543, 'Ruka_hevevan': 0.019677998436731823, 'gundam5373': 0.01966035877242864, 'YEBIS3': 0.019605931778320797, 'HngWtzNWVTm3lNF': 0.019545255330677032, 'kurukuru_pa_ka_': 0.0195178584814229, 'nekonyan0777': 0.019515463194827335, 'SOLAR_RAKER': 0.019515463194827335, 'baru2010': 0.019515166223660733, 'hero0352': 0.019485031569128234, '3KYga72Fbwfkkg7': 0.01948310977037997, 'ryudora_0820': 0.019413063252098843, 'keigo0824': 0.019396456044399425, '02fStar': 0.01937928060329825, 'syougetu1125': 0.01936837606473412, 'jSvwo4DoHCsEutw': 0.01936129931761299, 'Shiju2525': 0.019224078981409234, 'HBR_ljk17': 0.0192061160799346, 'Theseus111': 0.019128575750472925, 'wakuteka303': 0.019072103310073946, 'shisun13': 0.019002976565073982, 'Chatn0x': 0.019002976565073982, 'x_83_x': 0.019002976565073982, 'black1cat3': 0.019002976565073982, 'YUKKI_BERU': 0.019002976565073982, 'shiroan029': 0.019002976565073982, 'p7jvfBMnzM6DO8A': 0.019002976565073982, 'nri2MCkEqYBZI02': 0.019002976565073982, 'FPw4o': 0.019002976565073982, 'o9o22969794': 0.019002976565073982, 'cobolunlun': 0.019002976565073982, 'ropiresu': 0.019002976565073982, 'XKkntUeknnS6nCG': 0.019002976565073982, 'vcL6uLBget7Jgqo': 0.019002976565073982, 'yaup__': 0.019002976565073982, '0627Ukon': 0.019002976565073982, 'otakukun6421': 0.019002976565073982, 'mdjwtpgjw': 0.019002976565073982, 'pekorupusu': 0.019002976565073982, 'kakuzatouaisu': 0.019002976565073982, 'akiyama319': 0.019002976565073982, 'masamasa7thmoon': 0.019002976565073982, '8931da_con': 0.019002976565073982, 'senkounoo': 0.019002976565073982, '7Jk5RmebdZr35mw': 0.019002976565073982, 'dorothyart_': 0.019002976565073982, 'prideland_03': 0.019002976565073982, 'kurenai_key': 0.019002976565073982, 'domyo_michiaki': 0.019002976565073982, 'mukuti_avabel': 0.019002976565073982, 'tdDlNWuQDiRUNwo': 0.019002976565073982, 'dev1le_666': 0.019002976565073982, 'kamidorapad': 0.019002976565073982, 'Ktaso_c': 0.019002976565073982, 'pikapokekid25': 0.019002976565073982, 'Log_tr25': 0.019002679593907376, 'AnimalMuppets': 0.019002679593907376, 'g9QBiAip114ekCi': 0.019002679593907376, 'reiyou1': 0.019002679593907376, 'Hoxn53': 0.018939158765617137, 'jinhati': 0.018926668826746682, 'Y_okada_6_8': 0.01885665584860369, 'ingram_hp': 0.018800069374716726, 'd9w9b_edit': 0.01878845244434358, 'NoobChain': 0.018778643584318928, 'Takuny_39': 0.01873924987799791, 'tunakan_0417': 0.01873637052632882, 'dai32030705': 0.018655812584603262, 'evergamej2435': 0.018655501857313756, '8uuQmKJLXdaZWug': 0.018655501857313756, 'G7mOws46V9lxfaY': 0.018631060396290897, 'shoji_yuyu': 0.01862689834570742, 'Yuu06075838': 0.0186023378509671, 'adreerie': 0.018599295936654617, 'gP9Cyqm3baAezzF': 0.01859663719554037, 'BokuwaHarudesu': 0.018540460610595097, 'himamaneco': 0.018540460610595097, 'gameenjoy25': 0.018540460610595097, 'sora04022626': 0.018532866416288117, 'melet_rm': 0.018527510450540408, 'BCG_GCB': 0.018527510450540408, 'nisaka_yao_sdr': 0.018507155034477755, 'nissiy_ninini': 0.018472257206334986, 'tosi_fujibayasi': 0.01843920597673727, 'krwxm': 0.018358652719366753, 'mozu_tak': 0.018351084485026287, 'todayokz': 0.018293147251994157, 'choco_trigger': 0.018290895309999736, 'ich_bin__': 0.018281071506883295, 'Catsackey3': 0.018281071506883295, 'sedicelaverna': 0.018281071506883295, 'mame_beko': 0.018281071506883295, 'HeavenBR_altema': 0.018280881107429352, 'PoPuPAPA0807': 0.018219784904195634, 'GOLDEN84191753': 0.018177155384658764, 'sora_shoji_': 0.018177155384658764, 'pJv4xERM7JxvE9H': 0.018174987646886773, 'monokumaKH': 0.018117529443237725, 'nanasememe': 0.018111212732962092, 'ALDNOAHZERO10': 0.018100508650511445, 'TAKUchan941027': 0.018084638643946726, 'winwin7': 0.018064919833395185, 'mark294209247': 0.01806466291128052, 'ImasLoveStzr': 0.018062323228907735, '3ykNMLAy9XY5E4j': 0.018060292003423264, 'goobaro': 0.018047881481403957, 'lonely_future_': 0.018037018686252067, 'keitai_hiro': 0.01803452423070847, 'kawapi': 0.01803452423070847, 'kaooo_toki': 0.01800909508183098, 'Aoba_yuzu': 0.018001601085537403, 'Splanametaphor': 0.018001601085537403, 'kuro0102': 0.017999819453767787, 'WBJvQvKu5y1SdoK': 0.017991595067943084, 'villagea158': 0.01799154295312703, 'AVA_N0uv3au': 0.01799031029888489, '31zy16kKxPqQGOg': 0.01798881876743375, 'Watabe_': 0.017988641423828326, 'world_of_rinri': 0.017988641423828326, 'rin_WhiteSpell': 0.01798013522275704, 'Sp_SponbiXRArk': 0.017976758846351516, 'yukimi_cute': 0.01797674314804012, 'yuiyuichan': 0.01797674314804012, 'soccerkiseki21': 0.01797674314804012, 'tiku_uraka': 0.01797674314804012, 'samurai_197143': 0.0179648762688747, 'l_bnwm': 0.0179648762688747, 'Sumio_1010': 0.0179648762688747, 'KBzSugRWzG2Jnbp': 0.0179648762688747, 'kazu199829': 0.0179648762688747, 'oubeika11': 0.0179648762688747, 'CKSbadaer': 0.0179648762688747, 'QAJNhHQKCK5xQeD': 0.0179648762688747, 'kouya0214kouya': 0.0179648762688747, 'MANA17494101': 0.0179648762688747, 'COURAGgame': 0.0179648762688747, 'nikoni13162109': 0.0179648762688747, '869fc24ccbe6468': 0.0179648762688747, 'syuririn_game': 0.0179648762688747, '00Kanon2': 0.0179648762688747, 'rui_10_02': 0.0179648762688747, 'koumyon_star': 0.0179648762688747, 'tanihosi': 0.0179648762688747, '4S4iHpNRmX56nx1': 0.0179648762688747, 'heavenbunsredg8': 0.0179648762688747, 'kensyoudeateru': 0.0179648762688747, 'iPhone_86BRZ': 0.0179648762688747, 'Aniotaotunokai': 0.0179648762688747, 'kanonloid5893ex': 0.0179648762688747, 'yy0724fm': 0.0179648762688747, '2kK981': 0.0179648762688747, 'TK_112419': 0.0179648762688747, 'Kisaragi5946': 0.0179648762688747, 'RkTaiyo': 0.0179648762688747, 'fna4HdkYwpYRyoq': 0.0179648762688747, 'oXx27u8SBnEd9dH': 0.0179648762688747, 'yuki_19881024': 0.0179648762688747, 'shasiruTinolove': 0.0179648762688747, 'cocoha_chia': 0.0179648762688747, 'AigQct': 0.0179648762688747, 'theo_hru': 0.0179648762688747, 'rei_390': 0.0179648762688747, 'vawG4NauQkKrrTT': 0.0179648762688747, 'minatoakua99': 0.0179648762688747, 'tentyagoku': 0.0179648762688747, '3sSabanna': 0.0179648762688747, 'kethisu': 0.0179648762688747, 'JINKIRO_pad': 0.0179648762688747, 'Belle73613000': 0.0179648762688747, 'ogurin666ogurin': 0.0179648762688747, 'lovelive0512': 0.0179648762688747, 'pon_rokotu': 0.0179648762688747, 'twinklelll2424': 0.0179648762688747, 'Life0421': 0.0179648762688747, 'kure9kure9': 0.0179648762688747, 'admtwtjmg': 0.0179648762688747, 'BB_higum': 0.0179648762688747, 'Freedom1478': 0.0179648762688747, 'rinchomu_baby': 0.0179648762688747, 'yukilovekumag1': 0.0179648762688747, 'rimuru_916': 0.0179648762688747, 'fishtail227': 0.0179648762688747, 'Hrdaya21g': 0.0179648762688747, 'koyuzu_09': 0.0179648762688747, 'KF6LMXRUK2hgyze': 0.0179648762688747, 'rumichanpi': 0.0179648762688747, 'YHypermusic': 0.0179648762688747, 'rentarumagika15': 0.0179648762688747, 'fTpEjfcaIhE5JaS': 0.0179648762688747, 'torippidx': 0.0179648762688747, 'itttdblmUwTjLTV': 0.0179648762688747, '4ki_kun': 0.0179648762688747, 'ANIMALPLANETTE1': 0.0179648762688747, 'shirotakko': 0.0179648762688747, 'kanisaru_gassen': 0.0179648762688747, '00D0ELH48sGjZhH': 0.0179648762688747, 'SMLkitakomenews': 0.0179648762688747, 'cxx': 0.0179648762688747, 'senadose345': 0.0179648762688747, 'rasty_lunlun': 0.0179648762688747, 'Yama10044': 0.0179648762688747, 'elisu5010': 0.0179648762688747, 'sakuranodesu': 0.0179648762688747, 'ogDKQPAI6V1PGHN': 0.0179648762688747, 'cokuru88': 0.0179648762688747, 'kemkembarn': 0.0179648762688747, 'ppopooppopo': 0.0179648762688747, 'yamada1004': 0.0179648762688747, 'puchimanbou': 0.0179648762688747, 'yasshu0311': 0.0179648762688747, 'l5TvPgHmtsMbgd7': 0.0179648762688747, 'JP0bM5OgUUI9xs': 0.0179648762688747, 'Ura_Yooooo': 0.0179648762688747, 'UYu93310856': 0.0179648762688747, 'yunyun_4264': 0.0179648762688747, 'wMYPLBwBSC44fQo': 0.0179648762688747, 'ENT0816': 0.0179648762688747, 'lemoringo': 0.0179648762688747, 'romamegande': 0.0179648762688747, '1955yKaneko': 0.0179648762688747, 'j_b72': 0.0179648762688747, 'kuma_takachan': 0.0179648762688747, 'wanatu1122': 0.0179648762688747, 'nikomaru114514': 0.0179648762688747, 'Not_Teteu': 0.0179648762688747, 'Jin_cedef70112': 0.0179648762688747, 'hackadp': 0.0179648762688747, 'amagi_TM': 0.0179648762688747, 'I8BDav54vIOCUjB': 0.0179648762688747, 'xol7bu4mYlEDlJk': 0.0179648762688747, 'Sono_sis0830': 0.0179648762688747, 'Motoki_HR': 0.0179648762688747, 'jmasa10z': 0.0179648762688747, 'tdwkn84': 0.0179648762688747, 'EOEUMuHLKfqANqq': 0.0179648762688747, 'AM464KE': 0.0179648762688747, 'SsO06y3BPMOMPsx': 0.0179648762688747, 's43720177': 0.0179648762688747, 'FpJ5mQdGRiZJU3N': 0.0179648762688747, 'CornNiko': 0.0179648762688747, 'ayakeisuke': 0.0179648762688747, 'uaQg9PAi0h3MhTC': 0.0179648762688747, 'mY84jv76cFxvk2d': 0.0179648762688747, 'yt335Belle0608': 0.0179648762688747, 'Ryo54155684': 0.0179648762688747, 'g8htRoYoNaeDiFA': 0.0179648762688747, 'Murasaki_Ikoma_': 0.0179648762688747, 'w6yQ0a89AUkCJ7D': 0.0179648762688747, 'ruinCuber': 0.0179648762688747, 'EooZfUR9F56r8Jw': 0.0179648762688747, 'mikekabu1219': 0.0179648762688747, 'MISAO86': 0.0179648762688747, 'Gleaner_KS': 0.0179648762688747, '6SUKecJ82BKkNVz': 0.0179648762688747, 'Azem4144G': 0.0179648762688747, 'geatfae': 0.0179648762688747, 'Non_occhio_': 0.0179648762688747, 'DMTaiyaki_CF': 0.0179648762688747, 'Kaiotae0614': 0.0179648762688747, 'mss29yak': 0.0179648762688747, 'Ponpai55': 0.0179648762688747, 'KoutyaHaru1123': 0.0179648762688747, 'mugenjyou': 0.0179648762688747, 'neruw0': 0.0179648762688747, 'nanairoyui': 0.0179648762688747, 'HikaruKondo1221': 0.0179648762688747, 'shio_shio_shiok': 0.0179648762688747, 'l9XONY0y6cQOWjy': 0.0179648762688747, 'Ichikyo57': 0.0179648762688747, '3hLmaIRKUbKQQEl': 0.0179648762688747, 'haixrato': 0.0179648762688747, 'u56rWP7ozzvGCrH': 0.0179648762688747, 'iLoveLoliand2D': 0.0179648762688747, '51IEOBvgeVrWIHb': 0.0179648762688747, 'pekopeko1983': 0.0179648762688747, 'ganjigarame0000': 0.0179648762688747, 'wVIgrqKTZeupCHJ': 0.0179648762688747, 'asahina_seiso': 0.0179648762688747, 'F_Daiki0105': 0.0179648762688747, 'black_sk1': 0.0179648762688747, 'sei_FAVORITE_lv': 0.0179648762688747, 'meron035011': 0.0179648762688747, 'harupon1987': 0.0179648762688747, 'ellciel': 0.0179648762688747, 'urara1113': 0.0179648762688747, '510Mstar': 0.0179648762688747, 'BmdMmrR1YNtkdbw': 0.0179648762688747, 'nishi12553358': 0.0179648762688747, 'Denkai99': 0.0179648762688747, 'kisekisw': 0.0179648762688747, 'ChanWingHang1': 0.0179648762688747, 'APERU_': 0.0179648762688747, 'asuka_anaden': 0.0179648762688747, 'nagi0108_k': 0.0179648762688747, 'MosHimajin': 0.0179648762688747, 'S8aisa': 0.0179648762688747, 'holy_blood1': 0.0179648762688747, 'Riz798769': 0.0179648762688747, 'superbia006': 0.0179648762688747, 'stellar2073': 0.0179648762688747, 'gIatl4PcsUxuDZw': 0.0179648762688747, 'yio_taka': 0.0179648762688747, 'bobo65031988888': 0.0179648762688747, 'akina_name': 0.0179648762688747, '1919h2': 0.0179648762688747, 'Alonewolfko16': 0.0179648762688747, 'KcXoPZE16hTRqcH': 0.0179648762688747, 'rate_lightnovel': 0.0179648762688747, 'ao_rin': 0.0179648762688747, 'Aquarius_flos': 0.0179648762688747, 'nasr_seiris': 0.0179648762688747, 'hentaihus_in': 0.0179648762688747, 'Album_yozkuru': 0.0179648762688747, 'boUs9yboYiK1tuz': 0.0179648762688747, 'Munnmasaki0519': 0.0179648762688747, '1hoKuDXagofsOd0': 0.0179648762688747, 'pad_Magireco315': 0.0179648762688747, '0Qkzd': 0.0179648762688747, 'FBoBENrJuyxaW3k': 0.0179648762688747, 'tachibana_0321': 0.0179648762688747, 'obakataityan': 0.0179648762688747, 'Fu19534005': 0.0179648762688747, 'EMT_ELAINA_1017': 0.0179648762688747, 'K4_A5_Nstar': 0.0179648762688747, 'marshmallow_56_': 0.0179648762688747, 'Rearima11': 0.0179648762688747, 'IPYUCUS': 0.0179648762688747, 'madotsuki774': 0.0179648762688747, 'aoiakira9': 0.0179648762688747, 'concon55705322': 0.0179648762688747, 'kinumoof_': 0.0179648762688747, 'kitanokouji': 0.0179648762688747, 'tatty_imas': 0.0179648762688747, 'mumu_neco': 0.0179648762688747, 'ypskummsm': 0.0179648762688747, 'rihicos24': 0.0179648762688747, '052749Myka': 0.0179648762688747, 'myth6361': 0.0179648762688747, 'Katsuya48351105': 0.0179648762688747, 'zipFEApehJCSI3s': 0.0179648762688747, 'ipsinsan': 0.0179648762688747, 'Len_Falth': 0.0179648762688747, 'TH_1214_R': 0.0179648762688747, 'saori_2434': 0.0179648762688747, 'K21_K01': 0.0179648762688747, 'Kave_Game': 0.0179648762688747, 'IAUmPet7sRWoUZk': 0.0179648762688747, '9q9q9q9q9': 0.0179648762688747, 'LprxRxRWujNa2q2': 0.0179648762688747, 'sabanMisok': 0.0179648762688747, 'D2PbTcE2sMZedA3': 0.0179648762688747, 'whitetomo': 0.0179648762688747, 'raimu_UK': 0.0179648762688747, 'coneman81': 0.0179648762688747, 'tyouuun': 0.0179648762688747, 'ninomiyaren1013': 0.0179648762688747, 'MTdmq': 0.0179648762688747, 'EsHVCRqIdGgmo9R': 0.0179648762688747, '0321kenha': 0.0179648762688747, 'na_usapisu_7': 0.0179648762688747, 'setunarei_Turi': 0.0179648762688747, 'bnnn000': 0.0179648762688747, 'IveteSongs': 0.0179648762688747, 'c8e52bb431ea': 0.0179648762688747, 'kokoro_love01': 0.0179648762688747, 'Thd14NK7k3KPEqx': 0.0179648762688747, 'notudayo': 0.0179648762688747, 'haruho25': 0.0179648762688747, 'tumu35': 0.0179648762688747, 'kazu_cheru_': 0.0179648762688747, 'j70mFGH6GkbhAGQ': 0.0179648762688747, 'itsuwari_hb': 0.0179648762688747, 'Perfume_Tanpopo': 0.0179648762688747, '30Ao_oA03': 0.0179648762688747, 'taatoru66611': 0.0179648762688747, 'nige49cjVLd6j': 0.0179648762688747, 'twpr_tidus': 0.0179648762688747, 'xsa_yu': 0.0179648762688747, 'UE0RhJQTIFbHWRY': 0.0179648762688747, 'Jhs9O': 0.0179648762688747, '435i': 0.0179648762688747, 'TAOLLu1LorsVS31': 0.0179648762688747, 'koikoiheaven': 0.0179648762688747, 'maron0003': 0.0179648762688747, 'kusu_kenshou': 0.0179648762688747, '90sFHK4E4Rj1o9u': 0.0179648762688747, 'godnumera': 0.0179648762688747, 'Shikabane2929': 0.0179648762688747, '2runahoro3': 0.0179648762688747, 'YakiHamaguri330': 0.0179648762688747, 'kaz_815': 0.0179648762688747, 'Conanseralove': 0.0179648762688747, 'Aki88460840': 0.0179648762688747, 'ssrihttp': 0.0179648762688747, 'tokinokasaneut1': 0.0179648762688747, 'Attheendofthe12': 0.0179648762688747, '85xfra4cbSjUKLR': 0.0179648762688747, 'indechan': 0.0179648762688747, 'cafemoca2424': 0.0179648762688747, 'niboahi10': 0.0179648762688747, 'onion_fencer': 0.0179648762688747, 'ittoku3': 0.0179648762688747, 'manana_life': 0.0179648762688747, 'jirorosan': 0.0179648762688747, 'Himer21257011': 0.0179648762688747, 'kenponeotokyo': 0.0179648762688747, 'SB8BVNd83z13Dmh': 0.0179648762688747, 'senkianten': 0.0179648762688747, 'zioKaoPk8C2iAnG': 0.0179648762688747, 'kurabell555': 0.0179648762688747, 'tg3mwg2j': 0.0179648762688747, 'kisekiswso': 0.0179648762688747, 'kspezfkHr3IXjfR': 0.0179648762688747, 's520117': 0.0179648762688747, 'Pointing0326': 0.0179648762688747, 'Go05989043': 0.0179648762688747, 'yuukiosamu1': 0.0179648762688747, 'Awatateki19': 0.0179648762688747, 'gasu39129735': 0.0179648762688747, 'zeppelin2015': 0.0179648762688747, '84zTlmOx2PI4yPA': 0.0179648762688747, 'mon__0064': 0.0179648762688747, 'hid_40': 0.0179648762688747, '3J01a': 0.0179648762688747, 'I_Ai_4': 0.0179648762688747, 'karaage_kumasan': 0.0179648762688747, 'cheeeetatatata': 0.0179648762688747, '9ocICF6aGUwb7dn': 0.0179648762688747, 'yukihana42': 0.0179648762688747, 'RocketStream1': 0.0179648762688747, 'tanukiwokaitai': 0.0179648762688747, 'k3Rk97ejv275FRp': 0.0179648762688747, 'yanagihara777': 0.0179648762688747, 'koruririii': 0.0179648762688747, 'yuuto0411new': 0.0179648762688747, 'ruruka31499928': 0.0179648762688747, 'ranfwa_': 0.0179648762688747, 'CHZOiEVqYXwd7TM': 0.0179648762688747, 'mY8EJQQCjG9xKqf': 0.0179648762688747, 'aenn_pkmn': 0.0179648762688747, 'xkka5hC3iCDWEYM': 0.0179648762688747, 'anpnLv100': 0.0179648762688747, 'mtn_ende': 0.0179648762688747, 'narugasukisuki': 0.0179648762688747, 'aikawaayumu01': 0.0179648762688747, 'PCgozfGMvRkF05k': 0.0179648762688747, 'naruse_yugi': 0.0179648762688747, 'tfujfuzi': 0.0179648762688747, 'kqnkqn': 0.0179648762688747, 'rakkoara96': 0.0179648762688747, 'umai_sill': 0.0179648762688747, 'akatsuki_bon': 0.0179648762688747, 'har7m8ony': 0.0179648762688747, '8mu3se': 0.0179648762688747, '86musical': 0.0179648762688747, 'sw4eet8': 0.0179648762688747, 'ki1sa39ragi': 0.0179648762688747, 'l112inari': 0.0179648762688747, 't1opa1zi9': 0.0179648762688747, 'ya14gami2': 0.0179648762688747, 'n11im1a': 0.0179648762688747, 'fee63rique': 0.0179648762688747, 'wrea87th': 0.0179648762688747, 'go9ttin5': 0.0179648762688747, 'yukikoga22': 0.0179648762688747, 'rsiFSi0Oz4aVSBM': 0.0179648762688747, 'izapoke': 0.0179648762688747, 'ta149kanashi': 0.0179648762688747, 'r1ou20mpini': 0.0179648762688747, 'k12a7niii': 0.0179648762688747, 'ko124ilia': 0.0179648762688747, 'J270m0nnqElXmqf': 0.0179648762688747, 'wVmYr0sXjBdI4ER': 0.0179648762688747, 'Aketi_9': 0.0179648762688747, 'gy1ps0os8': 0.0179648762688747, 'ki1ryuu43': 0.0179648762688747, 'to8rneio0': 0.0179648762688747, 'ri13ng5': 0.0179648762688747, '5tune6': 0.0179648762688747, 'hamutaro86260': 0.0179648762688747, 'rino_bird_0707': 0.0179648762688747, 'rxPT5wbe12WpTZR': 0.0179648762688747, 'fnfnfn_s': 0.0179648762688747, 'k11ram0a': 0.0179648762688747, 'ko1ra18lli': 0.0179648762688747, 'ga6r4bo': 0.0179648762688747, 'tu1ku4mo8': 0.0179648762688747, 'pa136chi': 0.0179648762688747, 'e1pi17doto': 0.0179648762688747, 'y1uuki30': 0.0179648762688747, 'yuz144uriha': 0.0179648762688747, 'he131inzu': 0.0179648762688747, 'is1e5mi7': 0.0179648762688747, 'para75diso': 0.0179648762688747, 'segre6to1': 0.0179648762688747, 'fl4ow0er': 0.0179648762688747, 'se65renade': 0.0179648762688747, 'doku_kinok': 0.0179648762688747, 'ablesisterz': 0.0179648762688747, 'tsumugikk': 0.0179648762688747, 'DAL0315': 0.0179648762688747, 'kangaetyuya': 0.0179648762688747, 'RinaCh3rry': 0.0179648762688747, 'shiratama_maru1': 0.0179648762688747, 'sato_pancake': 0.0179648762688747, 'argi104los': 0.0179648762688747, 'm10etall9a': 0.0179648762688747, 'p10il5os': 0.0179648762688747, 'ru129uuku': 0.0179648762688747, 'da_g17': 0.0179648762688747, 'ibn5100ng': 0.0179648762688747, 'ak_akpapico': 0.0179648762688747, '56wwaSdtFwzESXG': 0.0179648762688747, 'as_416aspupuro': 0.0179648762688747, 'ballantain1': 0.0179648762688747, 'ppoypay': 0.0179648762688747, 'threeR6S': 0.0179648762688747, 'burimooon': 0.0179648762688747, 'tmtm8294649': 0.0179648762688747, 'monokyo': 0.0179648762688747, 'OgapanT': 0.0179648762688747, 'yy2012631122': 0.0179648762688747, '0v0marumo': 0.0179648762688747, 'kitsune_saruu': 0.0179648762688747, 'fl96eur': 0.0179648762688747, 'si1si4ou5': 0.0179648762688747, 'zinn140guuzi': 0.0179648762688747, 'no4bby9': 0.0179648762688747, '5gra2ce': 0.0179648762688747, 'kiri162noe': 0.0179648762688747, 'Die_ura3': 0.0179648762688747, 'CoCo54527119': 0.0179648762688747, 'mitsu794': 0.0179648762688747, 'jxz_bdy': 0.0179648762688747, 'HXFnwR6B4307pZM': 0.0179648762688747, 'moe_mikami': 0.0179648762688747, 'sanapi20613947': 0.0179648762688747, 'kanapppppeeee': 0.0179648762688747, 'Master_Mikann': 0.0179648762688747, 'kiz64603034': 0.0179648762688747, 'sin10905': 0.0179648762688747, 'fgodetunagarou': 0.0179648762688747, 'KSFiQ8MKjfLD1Xh': 0.0179648762688747, 'BzO6uqCwGSl2ZRu': 0.0179648762688747, 'umekole': 0.0179648762688747, 'eyCgiuXz8ceTquh': 0.0179648762688747, 'tapiru777': 0.0179648762688747, 'toypla01': 0.0179648762688747, 'mnst_ykmr03': 0.0179648762688747, 'BGKGedDII4suhZM': 0.0179648762688747, 'tp55191170': 0.0179648762688747, 'muta_great2020': 0.0179648762688747, 'maruMaaarl': 0.0179648762688747, 'renzelvaron': 0.0179648762688747, 'VApBhM2gj6BoaT6': 0.0179648762688747, '9WmH014GG9iCMb1': 0.0179648762688747, 'Pianyanco': 0.0179648762688747, '16qMichan': 0.0179648762688747, 'moramora1546': 0.0179648762688747, 'akikikico': 0.0179648762688747, 'BxVjzwL585syamw': 0.0179648762688747, '44Yotsuba44': 0.0179648762688747, 'sns_10_com': 0.0179648762688747, 'ZHCYkEMR78Le7Qv': 0.0179648762688747, 'kitayan25': 0.0179648762688747, 'PlusticTravel': 0.0179648762688747, 'tartarsauce1207': 0.0179648762688747, 'BZ4sb8UdZLfZRCE': 0.0179648762688747, 'pxGkuu723mnw5nh': 0.0179648762688747, 'Samayou_mono': 0.0179648762688747, 'ayuyun0124': 0.0179648762688747, 'rararamen246': 0.0179648762688747, 'CIIF7XqMMlBmtvH': 0.0179648762688747, 'TsyCUlpzydQXjxA': 0.0179648762688747, '328gld': 0.0179648762688747, 'SatoshiSunahara': 0.0179648762688747, 'G2Xcb': 0.0179648762688747, 'kinniku_tomo': 0.0179648762688747, 'hato82175523': 0.0179648762688747, 'fire_bomber': 0.0179648762688747, 'morimizawa': 0.0179648762688747, 'neco_25': 0.0179648762688747, 'IJYgksvshql8Qna': 0.0179648762688747, 'moss0429': 0.0179648762688747, 'rihujinnaneko': 0.0179648762688747, 'umaruumaru0': 0.0179648762688747, 'kurukurupa0121': 0.0179648762688747, 'KkSinya': 0.0179648762688747, 'mocawan817': 0.0179648762688747, 'kotomo02': 0.0179648762688747, 'Wp4HRZyik0EwFeR': 0.0179648762688747, 'pxlwu1': 0.0179648762688747, 'LLENN0120': 0.0179648762688747, 'gusutafu043': 0.0179648762688747, 'suisuisuissss': 0.0179648762688747, 'XXc9d4': 0.0179648762688747, 'yoshiy040': 0.0179648762688747, '21WjQEqLilOW7vw': 0.0179648762688747, 'TbiKxx': 0.0179648762688747, 'kanafxtoushi09': 0.0179648762688747, 'niku_rock2969': 0.0179648762688747, 'qXWPg223jEwsZ70': 0.0179648762688747, '8mukku80922S': 0.0179648762688747, 'nsminoril91': 0.0179648762688747, 'm2c1212': 0.0179648762688747, 'I8dTOY9iTwOGEib': 0.0179648762688747, 'eEp5ev5Sw1O1uNh': 0.0179648762688747, 'otama_game_': 0.0179648762688747, 'minami_kaze21': 0.0179648762688747, 'tsukumo_0120': 0.0179648762688747, 'dcd1124FREEDOM': 0.0179648762688747, 'akasachnn': 0.0179648762688747, 'yuayuri51': 0.0179648762688747, 'yuudai20030104': 0.0179648762688747, 'misosoup7878': 0.0179648762688747, 'yuki_yamada_sou': 0.0179648762688747, 'chacha_sns': 0.0179648762688747, 'tam4c_': 0.0179648762688747, 'Q0aFg6SXxyIMVOr': 0.0179648762688747, 'VAhPPmVNTQeNssM': 0.0179648762688747, 'Dash0701': 0.0179648762688747, 'amWePODMzV29tMm': 0.0179648762688747, 'magasan_ame': 0.0179648762688747, 'number820452514': 0.0179648762688747, 'NlrYjvcOnMvSFgS': 0.0179648762688747, 'dollshimawari': 0.0179648762688747, 'torinonaka': 0.0179648762688747, 'Nashio_mirai': 0.0179648762688747, 'Rezar_Vx108': 0.0179648762688747, 'FUKUzin_3249': 0.0179648762688747, 'LN6FVCWybQDMNlb': 0.0179648762688747, 'sere405': 0.0179648762688747, 'gogo0202s02': 0.0179648762688747, 'lmWZlSO8nFzKEjB': 0.0179648762688747, 'rKCtriIIeXMbKRA': 0.0179648762688747, 'Arishieight': 0.0179648762688747, 'yumeno39196': 0.0179648762688747, 'TLCmajimanji': 0.0179648762688747, '4FP3XSFqgoTQSQ': 0.0179648762688747, 'sapppule': 0.0179648762688747, 'mayverite': 0.0179648762688747, 'hikaru_shio': 0.0179648762688747, 'I_lovemeganekko': 0.0179648762688747, 'mikaL0922': 0.0179648762688747, 'lastsu6rai': 0.0179648762688747, 'kingu274': 0.0179648762688747, 'o1o00dmyli': 0.0179648762688747, 'sankarea2022': 0.0179648762688747, 'SHO91139972': 0.0179648762688747, 'IOi6pXJHTqeNNU8': 0.0179648762688747, 'fukunori1757': 0.0179648762688747, 'Reom09': 0.0179648762688747, 'noelphilips6': 0.0179648762688747, 'k_dora_pop': 0.0179648762688747, 'DyyfhDyyyy2': 0.0179648762688747, 'DANA99M': 0.0179648762688747, 'Arab_Top_Tweets': 0.0179648762688747, 'tsumiowata': 0.0179648762688747, 'qbPzTf62uAyFHHS': 0.0179648762688747, 's2pupupis2': 0.0179648762688747, 'stin_pm': 0.0179648762688747, 'udon_admiral_': 0.0179648762688747, 'aniani514_3': 0.0179648762688747, 'HK09033131': 0.0179648762688747, 'paypaymuscle': 0.0179648762688747, 'gjdaAjtpj': 0.0179648762688747, 'yatchi_inorin': 0.0179648762688747, 'BgeF10': 0.0179648762688747, 'icarus1230': 0.0179648762688747, 'botbaginzuu': 0.0179648762688747, 'tottocomdesu': 0.0179648762688747, 'NEOONAIM': 0.0179648762688747, 'oo_xn3': 0.0179648762688747, 'YSKTYATYARA': 0.0179648762688747, 'okudaaaaaryu': 0.0179648762688747, 'efb_q': 0.0179648762688747, '1p0toobbg3JSQBg': 0.0179648762688747, 'b5j9rO0Ni0b8MYk': 0.0179648762688747, '4XGw6K7vu1Hfgyq': 0.0179648762688747, 'hokutti_28': 0.0179648762688747, 'xong_six': 0.0179648762688747, 'Sallyatare': 0.0179648762688747, 'OoZMpEjaHC3Qkz0': 0.0179648762688747, 'SH01922661': 0.0179648762688747, 'iMuByC3RDgZow31': 0.0179648762688747, 'takeo9dx': 0.0179648762688747, 'yuk1yuk1nono': 0.0179648762688747, 'runatikszatta': 0.0179648762688747, 'keel_alterside': 0.0179648762688747, 'motimyonkou': 0.0179648762688747, 'lucky_clover_55': 0.0179648762688747, 'Am24M117': 0.0179648762688747, 'usachanmarumaru': 0.0179648762688747, 'neokobeyaki': 0.0179648762688747, 'kuramai77': 0.0179648762688747, 'BM5123': 0.0179648762688747, 'sevn_aka': 0.0179648762688747, 'mari_kapibara': 0.0179648762688747, 'kc42FFget4XfRaD': 0.0179648762688747, 'wavi1992': 0.0179648762688747, 'GarayaKen415': 0.0179648762688747, 'RUx3_kbt': 0.0179648762688747, 'l92168712': 0.0179648762688747, 'Junjun_3ngve': 0.0179648762688747, 'BBurogu': 0.0179648762688747, 'k13MWuMwXzAKDQV': 0.0179648762688747, 'Ken_Sola': 0.0179648762688747, '4FYMMJVBotq9azx': 0.0179648762688747, 'tenseiRamuto': 0.0179648762688747, 'BishouzyoVenus': 0.0179648762688747, 'ys93aipR38eJsAW': 0.0179648762688747, 'nisidadaisaku': 0.0179648762688747, 'hajimenosanpo01': 0.0179648762688747, 'hajimenosanbo02': 0.0179648762688747, 'dasasamashi': 0.0179648762688747, 'SamuraiManiacs': 0.0179648762688747, 'pokopokosososo': 0.0179648762688747, 'Rei_kun_dayooo': 0.0179648762688747, 'kkaazz_2': 0.0179648762688747, 'ma98380807': 0.0179648762688747, 'anacoppola_uk': 0.0179648762688747, 'minato_60': 0.0179648762688747, 'osaka_damian': 0.0179648762688747, 'EJeJ0JAsmygLa07': 0.0179648762688747, 'Superbia_SPM': 0.0179648762688747, 'tatatatataiki20': 0.0179648762688747, 'wvH3g8rW4oy8G2I': 0.0179648762688747, 'kazuki916': 0.0179648762688747, 'nekokonekoro5': 0.0179648762688747, 'Tatsuya_______h': 0.0179648762688747, 'tom046523': 0.0179648762688747, 'BBY_02_primary': 0.0179648762688747, 'ggg_0egg': 0.0179648762688747, 'osyou_delta_1': 0.0179648762688747, 'isa12012': 0.0179648762688747, 'myex75263067': 0.0179648762688747, 'i8sbRTweB9jIkX3': 0.0179648762688747, 'soumenmanialldx': 0.0179648762688747, 'QK_pp_g': 0.0179648762688747, 'Mog_11R': 0.0179648762688747, 'QGzap': 0.0179648762688747, 'tantan_119': 0.0179648762688747, 'setsuki_i': 0.0179648762688747, 'ma_ao_yu11': 0.0179648762688747, 'kamiya1123': 0.0179648762688747, 'nicoyamiyami': 0.0179648762688747, 'Ub0BZiff233UekR': 0.0179648762688747, 'contonjonoiko': 0.0179648762688747, 'fbYC6ANomxkjET1': 0.0179648762688747, 'tomokundaa': 0.0179648762688747, 'suzune_v6love': 0.0179648762688747, 'iRisWUGRGR81': 0.0179648762688747, 'ozark_bird': 0.0179648762688747, 'FeAQ9cO0kkZiPDe': 0.0179648762688747, 'nhcHAE3Q7UcuxgY': 0.0179648762688747, 'asami_haru_': 0.0179648762688747, 'kawa_chan_good': 0.0179648762688747, 'ancoro77771': 0.0179648762688747, 'gate_en': 0.0179648762688747, 'inaka_kobito': 0.0179648762688747, 'myongitune': 0.0179648762688747, 'sirataki_1001': 0.0179648762688747, 'kuu_turn': 0.0179648762688747, 'ytr8310': 0.0179648762688747, 'Nyaruko012Ako': 0.0179648762688747, 'yumedo': 0.0179648762688747, 'amiaminyuu': 0.0179648762688747, 'lllmzzzz': 0.0179648762688747, 'yurayura076': 0.0179648762688747, 'ramunezake7': 0.0179648762688747, 'zeroki59635963': 0.0179648762688747, 'gomeyou': 0.0179648762688747, '_0310ami': 0.0179648762688747, 'rukito1154': 0.0179648762688747, 'asuka_K24': 0.0179648762688747, 'YvtPzGLjL2gLd8d': 0.0179648762688747, 'taiga_yami': 0.0179648762688747, 'jMnU0CUom7wTWvw': 0.0179648762688747, 'PC77261375': 0.0179648762688747, 'sorakazue': 0.0179648762688747, 'LOVE1772172109': 0.0179648762688747, '173cirano': 0.0179648762688747, 'silvis7969': 0.0179648762688747, 'negi_mania': 0.0179648762688747, 'mameko_1228': 0.0179648762688747, 'E3A121': 0.0179648762688747, 'RX8_osakana': 0.0179648762688747, 'MofuPote123': 0.0179648762688747, '__maneki_neko__': 0.0179648762688747, 'shichinooooooo': 0.0179648762688747, 'DaoYamagi': 0.0179648762688747, 'ls6zs331s0snIJ4': 0.0179648762688747, 'rrr_p357': 0.0179648762688747, 'hilite41642724': 0.0179648762688747, 'nago75chaco': 0.0179648762688747, 'GN_axel': 0.0179648762688747, 'B25vKy': 0.0179648762688747, '93watanabeKE': 0.0179648762688747, 'xoi283': 0.0179648762688747, 'rin_riri_rin_': 0.0179648762688747, 'rururuchan25': 0.0179648762688747, 'LLzQq4fVIc62F9z': 0.0179648762688747, 'Shima2cat_omega': 0.0179648762688747, 'dqfwrSM5Bs4Rj35': 0.0179648762688747, 'cyt38': 0.0179648762688747, 'SIaeQmI9cjbhZc8': 0.0179648762688747, 'nagato17171919': 0.0179648762688747, 'amek_122': 0.0179648762688747, 'w4retaApple': 0.0179648762688747, 'mimimileten': 0.0179648762688747, 'masasuzume3': 0.0179648762688747, 'mamiya_natsu15': 0.0179648762688747, 'kgbfreee': 0.0179648762688747, 'kazu851117': 0.0179648762688747, 'K523929': 0.0179648762688747, 'DzaifZAF': 0.0179648762688747, 'Dev1970Kamp': 0.0179648762688747, '12_brd': 0.0179648762688747, 'kajidera': 0.0179648762688747, 'LCNCLV': 0.0179648762688747, 'FT23SS': 0.0179648762688747, 'Aqours0202': 0.0179648762688747, 'dome00125': 0.0179648762688747, 'Oota19321741': 0.0179648762688747, 'orangestarblue': 0.0179648762688747, 'style5_5': 0.0179648762688747, 'yraragi': 0.0179648762688747, 'MASA27099502': 0.0179648762688747, 'Hana7838': 0.0179648762688747, 'Litty_co': 0.0179648762688747, 'Eievui_H': 0.0179648762688747, 'R_indow': 0.0179648762688747, 'Moonlight_1022': 0.0179648762688747, 'DZxBsblGzDWK6IE': 0.0179648762688747, 'kirino1210': 0.0179648762688747, 'maya_higashi': 0.0179648762688747, 'rika_another_': 0.0179648762688747, '1GOBU9G8LzkiLCK': 0.0179648762688747, 'nikonikopint': 0.0179648762688747, 'MAKULOVE0803': 0.0179648762688747, 'anjerararara': 0.0179648762688747, 'dozidoziCO': 0.0179648762688747, 'Shin_Zelos192': 0.0179648762688747, 'yuzawe': 0.0179648762688747, 'UTxTU_o125h': 0.0179648762688747, 'DoohaDohzz': 0.0179648762688747, 'Do3a0': 0.0179648762688747, 'GuyeiU': 0.0179648762688747, '3_dgh': 0.0179648762688747, 'DannyMagues': 0.0179648762688747, 'momoda6666': 0.0179648762688747, 'ARika96912242': 0.0179648762688747, 'y_s2nana': 0.0179648762688747, 'sasamiku22': 0.0179648762688747, 'r41FSfLgt69GfgQ': 0.0179648762688747, '23Alicexcrover': 0.0179648762688747, 'YamadaJhon': 0.0179648762688747, 'raynardchang': 0.0179648762688747, 'XDNwJElhFc2ocv3': 0.0179648762688747, 'numa137': 0.0179648762688747, 'DYNWF7': 0.0179648762688747, 'ossan____': 0.0179648762688747, 'LOVE_RAFFAE': 0.0179648762688747, 'kunihiro0808k': 0.0179648762688747, 'MuCKTGl068d8SOW': 0.0179648762688747, 'ciguatera_': 0.0179648762688747, 'kei20048799': 0.0179648762688747, 'appletabetaiii': 0.0179648762688747, 'catpullpull': 0.0179648762688747, 'nekoneko0270': 0.0179648762688747, 'DCtBQgHa45kGinI': 0.0179648762688747, 'nettouoyutosayu': 0.0179648762688747, 'Tosacach': 0.0179648762688747, '8YesYourMajesty': 0.0179648762688747, 'hFXzctG87yWssIZ': 0.0179648762688747, 'HALMOMO3': 0.0179648762688747, 'HAIeJRQdcvcUgVy': 0.0179648762688747, 'match5656': 0.0179648762688747, 'y9u_10hy': 0.0179648762688747, 'm48_hy': 0.0179648762688747, 'damepapadame': 0.0179648762688747, '69ka1': 0.0179648762688747, 'takosu135': 0.0179648762688747, 'borutorando': 0.0179648762688747, 'PUNI27762440': 0.0179648762688747, '888_dqx': 0.0179648762688747, 'kaneta25': 0.0179648762688747, 'kiwigreengold': 0.0179648762688747, 'bareisho234': 0.0179648762688747, 'GoGo_Kotatsu': 0.0179648762688747, 'knskmiki': 0.0179648762688747, 'eitches_hs': 0.0179648762688747, 'milk_moon3': 0.0179648762688747, 'kunikuni_SKN': 0.0179648762688747, 'chikin_oo': 0.0179648762688747, 'eERhX7jFvwvcWeH': 0.0179648762688747, 'Map0ptwM': 0.0179648762688747, 'nJNURplsRoWtoXm': 0.0179648762688747, 'm_m52415307': 0.0179648762688747, 'QhQmf50Pgrx7eNz': 0.0179648762688747, 'hitona1225': 0.0179648762688747, 'kizunanonamo': 0.0179648762688747, 'Dx86Jf2': 0.0179648762688747, 'Fluffy06776246': 0.0179648762688747, 'nacomama1109': 0.0179648762688747, 'huntertoguro': 0.0179648762688747, '_knp_love': 0.0179648762688747, 'hurubapoi': 0.0179648762688747, 'dorian_ppp': 0.0179648762688747, 'hiyoko_knuckle': 0.0179648762688747, 'hastalavista308': 0.0179648762688747, 'toaruenju': 0.0179648762688747, 'tarorotto31': 0.0179648762688747, 'C9CjTqIkNJ3impQ': 0.0179648762688747, 'seigangatoutoi': 0.0179648762688747, 'vTLFTpLnmT87Hcs': 0.0179648762688747, 'Caramenwhiteken': 0.0179648762688747, 'memeken05': 0.0179648762688747, '12hanya_nya27': 0.0179648762688747, 'tg_ongr': 0.0179648762688747, 'pengindaibu': 0.0179648762688747, 'zuzukai1111': 0.0179648762688747, 'KanzakiNO2': 0.0179648762688747, 'BlackSpeedStar': 0.0179648762688747, 'UsagiTennma3195': 0.0179648762688747, 'card_love_s': 0.0179648762688747, 'nakaba_015': 0.0179648762688747, 'flogychannn': 0.0179648762688747, 'kaori85818644': 0.0179648762688747, 'hika0202ri': 0.0179648762688747, 'kamaboko2828': 0.0179648762688747, 'sugarpot0109': 0.0179648762688747, 'CO_suu': 0.0179648762688747, 'hiragi_0515': 0.0179648762688747, 'fuku_y_10': 0.0179648762688747, 'KoJMy2ajh1EdO74': 0.0179648762688747, 'com300000': 0.0179648762688747, 'wisewolf_66': 0.0179648762688747, 'mzrnnnnnnnnnnnn': 0.0179648762688747, 'HHD48015622': 0.0179648762688747, 'hiroro_hobby': 0.0179648762688747, 'pAHAPMo8Qu8HjWh': 0.0179648762688747, 'xuk725': 0.0179648762688747, 'bzk201': 0.0179648762688747, 'sokoa5911': 0.0179648762688747, 'nisssssssy7': 0.0179648762688747, 'DR18339494': 0.0179648762688747, 'pauxmM4Da4gblEO': 0.0179648762688747, 'Kuro_Ne90': 0.0179648762688747, 'move5807779': 0.0179648762688747, '094839sato': 0.0179648762688747, 'zjDMUXocZ8OYxz7': 0.0179648762688747, 'void3939': 0.0179648762688747, 'kandenti321': 0.0179648762688747, 'akibin321': 0.0179648762688747, 'jiya0922': 0.0179648762688747, 'H2q783': 0.0179648762688747, 'minmeikawaii': 0.0179648762688747, 'kobeyacom': 0.0179648762688747, 'wara0906': 0.0179648762688747, 'gsxryas2': 0.0179648762688747, 'Kido79798070': 0.0179648762688747, 'mihawk000': 0.0179648762688747, 'hiroshi611945': 0.0179648762688747, 'leaf64983983': 0.0179648762688747, 'studyponpoko': 0.0179648762688747, 'gudetamachan33': 0.0179648762688747, 'hutottaraowari': 0.0179648762688747, 'harunan92': 0.0179648762688747, 'kobaton00': 0.0179648762688747, 'QpfhVlexIJZJOSQ': 0.0179648762688747, 'BASON18630045': 0.0179648762688747, 'darkcrow0213': 0.0179648762688747, 'ichi3441': 0.0179648762688747, 'hagohagotanu': 0.0179648762688747, 'kotatunekoko': 0.0179648762688747, 'asumayuma': 0.0179648762688747, 'tarochashiba': 0.0179648762688747, 'TOSHI07231': 0.0179648762688747, 'Blackbr49464745': 0.0179648762688747, 'nozo_desu': 0.0179648762688747, 'yu4649yu': 0.0179648762688747, 'Mao_otonashi': 0.0179648762688747, 'tatsuto_hvbn': 0.0179648762688747, 'Py6I3': 0.0179648762688747, 'koh_aka': 0.0179648762688747, 'nipa_rino': 0.0179648762688747, 'aozora_yut': 0.0179648762688747, 'S2854204': 0.0179648762688747, 'DlooDodl': 0.0179648762688747, 'HgvdhE': 0.0179648762688747, 'gamebaka311': 0.0179648762688747, 'miteyjp': 0.0179648762688747, 'Kyoma58': 0.0179648762688747, 'hahachimin': 0.0179648762688747, 'Hisoma1224': 0.0179648762688747, 'kenshyo0907': 0.0179648762688747, 'roko0277': 0.0179648762688747, 'Carefree_7': 0.0179648762688747, 'O4u6G': 0.0179648762688747, 'Ot0razZblsOILSx': 0.0179648762688747, 'mar64733360': 0.0179648762688747, 'masakiyamachan': 0.0179648762688747, 'tayoto0309to': 0.0179648762688747, 'uppyon': 0.0179648762688747, 'nekko25__': 0.0179648762688747, 'fuwa_mo': 0.0179648762688747, 'chicken_maruko': 0.0179648762688747, 'ftQmNkYRtNxIJZv': 0.0179648762688747, 'ri_intoro': 0.0179648762688747, 'QAQUA777': 0.0179648762688747, 'jun_games_free': 0.0179648762688747, 'explojhon2021': 0.0179648762688747, 'osirukodayon': 0.0179648762688747, 'LisztMe': 0.0179648762688747, 'saekano_runner': 0.0179648762688747, 'WwN1CBSGaxyKuXD': 0.0179648762688747, 'Sp_RedionFemale': 0.0179648762688747, 'equal_overworld': 0.0179648762688747, 'odhio_paruparu': 0.0179648762688747, 'Jack_K_Nemo': 0.0179648762688747, 'ryogakimuti': 0.0179648762688747, 'mouse_co3': 0.0179648762688747, 'VMXdnomlKLUZeJ7': 0.0179648762688747, 'takaitakai30': 0.0179648762688747, 'risurei_': 0.0179648762688747, 'ogn1104': 0.0179648762688747, 'orc_loktarogar': 0.0179648762688747, 'mizudako66': 0.0179648762688747, 'vlQdi5nCzsyJ4dS': 0.0179648762688747, '7RamuneRamune': 0.0179648762688747, 'p2SJjdrEEuRAkpN': 0.0179648762688747, 'kedama29131': 0.0179648762688747, '2NSx0tDQgWCAJmj': 0.0179648762688747, 'remon_peel_': 0.0179648762688747, 'Ma2o_p': 0.0179648762688747, 'animedaisuke1': 0.0179648762688747, 'RAIN01325214': 0.0179648762688747, 'dezoruba': 0.0179648762688747, 'kinotbs': 0.0179648762688747, 'hokuto_kin_oko': 0.0179648762688747, 'nakanakanomomo': 0.0179648762688747, 'Sinono6702': 0.0179648762688747, 'ZKJWFOxTgrwWggi': 0.0179648762688747, 'FLANDREKeywords': 0.0179648762688747, 'skyking61266741': 0.0179648762688747, 'parextuto': 0.0179648762688747, 'u_0816': 0.0179648762688747, 'zVfcoL05ozhVpgG': 0.0179648762688747, 'Yukarin_v': 0.0179648762688747, 'kon_heaven': 0.0179648762688747, 'Null69Null': 0.0179648762688747, 'yWmHDfk1SFMlHnp': 0.0179648762688747, '8ZOfiCWAYTMJPFV': 0.0179648762688747, 'makizusini': 0.0179648762688747, 'regard_0912': 0.0179648762688747, 'onrice_chicken': 0.0179648762688747, 'x1AND1zXQhQfflx': 0.0179648762688747, 'yutoanimeaka': 0.0179648762688747, 'noborin18': 0.0179648762688747, 'monburanxyz': 0.0179648762688747, 'RYO02514': 0.0179648762688747, 'hamsio2': 0.0179648762688747, 'fz06rRTa7ozCfB1': 0.0179648762688747, 'aliceninegt': 0.0179648762688747, 'aoinomori26': 0.0179648762688747, 'Bel_mon_do_': 0.0179648762688747, 'kfepngw': 0.0179648762688747, 'maki870': 0.0179648762688747, '0iAjPTHFujVHXdc': 0.0179648762688747, 'porinlos': 0.0179648762688747, 'Akitaro_One': 0.0179648762688747, '34542_': 0.0179648762688747, '5qduw7xG9NEWoZK': 0.0179648762688747, 'tomo__0711': 0.0179648762688747, 'HT8xnVVwHhlZgJW': 0.0179648762688747, 'natdcoco258': 0.0179648762688747, 'HJ00671': 0.0179648762688747, '7i6NgmHbF522pjH': 0.0179648762688747, 'Djalma2713': 0.0179648762688747, 'EX_IXA0': 0.0179648762688747, 'tsuka_tsukasa': 0.0179648762688747, 'n3WiDiEzyosZFLn': 0.0179648762688747, 'MXeBvUi2aWnbY6I': 0.0179648762688747, 'ni38300277': 0.0179648762688747, 'kanami_suki': 0.0179648762688747, 'Junsuke810': 0.0179648762688747, 'k_yu_kintn00': 0.0179648762688747, 'spk202111': 0.0179648762688747, 'GON178923': 0.0179648762688747, 'yakinasu9': 0.0179648762688747, 'purpleheart0624': 0.0179648762688747, 'Yuuu015': 0.0179648762688747, 'LjmUHFyLleqvQYa': 0.0179648762688747, 'tnk_11gm': 0.0179648762688747, 'bismath_fgo': 0.0179648762688747, 'hetarekun0123': 0.0179648762688747, 'suzaku_braxbla': 0.0179648762688747, 'ktXcmqAMY1OxRL1': 0.0179648762688747, 'MakotoIchimura1': 0.0179648762688747, 'mask376891162': 0.0179648762688747, 'sakuramochi59mo': 0.0179648762688747, 'natuki_celest': 0.0179648762688747, 'Simplex999': 0.0179648762688747, 'taichi3402': 0.0179648762688747, 'bazunyan': 0.0179648762688747, 'doruji_leon': 0.0179648762688747, 'Hatasantakasan': 0.0179648762688747, 'HirunandesuHiru': 0.0179648762688747, 'mitsuru29yoshi1': 0.0179648762688747, 'sutera730342': 0.0179648762688747, 'chibiMammoth': 0.0179648762688747, 'byXYTRpkB3Crn95': 0.0179648762688747, 'ads16241670': 0.0179648762688747, 'akubi_ff': 0.0179648762688747, 'Homare004': 0.0179648762688747, 'SY15963143': 0.0179648762688747, 'jfw503': 0.0179648762688747, 'naranoabaresika': 0.0179648762688747, 'ReGuilty': 0.0179648762688747, 'persona_0227': 0.0179648762688747, 'Zep_OwO': 0.0179648762688747, '1203Raspberry': 0.0179648762688747, 'Q90050528': 0.0179648762688747, 'ookumaneko_XD': 0.0179648762688747, 'oolongT_E_E': 0.0179648762688747, 'aik625': 0.0179648762688747, 'j39storm': 0.0179648762688747, 'Kennsuke0530Zan': 0.0179648762688747, '8Liile3jyk0Qv4A': 0.0179648762688747, 'aono_kuni': 0.0179648762688747, 'MISTYMOON_811': 0.0179648762688747, 'gatharsec': 0.0179648762688747, 'OV9uycg9fCWVdHu': 0.0179648762688747, 'aikatu_katukatu': 0.0179648762688747, 'oklambda': 0.0179648762688747, 'MoMiJi87649': 0.0179648762688747, '03eoMh94BX7P6MF': 0.0179648762688747, 'ELGxKarin': 0.0179648762688747, 'nanamin06252': 0.0179648762688747, 'Yuki_Pravda': 0.0179648762688747, 'x94gtzZesOe3Bm8': 0.0179648762688747, 'YukiU3agi': 0.0179648762688747, 'mii93333': 0.0179648762688747, '1iF8pnApoaCqYUE': 0.0179648762688747, 'is_SESIRIA_': 0.0179648762688747, 'Muscat_hbr': 0.0179648762688747, 'pengyunwen': 0.0179648762688747, 'satoutoume1981': 0.0179648762688747, 'channel_cedar': 0.0179648762688747, 'biskodeath': 0.0179648762688747, 'Kuri11kuri': 0.0179648762688747, 'e6_key': 0.0179648762688747, 'yorosikuyuku': 0.0179648762688747, 'LowEchinozoa': 0.0179648762688747, 'landflap8800': 0.0179648762688747, 'akitola': 0.0179648762688747, 'AKLO_1871_118': 0.0179648762688747, 'hunktsu': 0.0179648762688747, 'aQZxB3GWqQx3SQG': 0.0179648762688747, 'otared01': 0.0179648762688747, 'nogizaka_riru': 0.0179648762688747, 'marlon_japan': 0.0179648762688747, 'AllroundCounte': 0.0179648762688747, 'GRV867': 0.0179648762688747, 'Fick_kun': 0.0179648762688747, 'gingiro333': 0.0179648762688747, 'realrideryoshik': 0.0179648762688747, 'Good_apple_c': 0.0179648762688747, 'ayanohiro0807': 0.0179648762688747, 'MIYABI72108552': 0.0179648762688747, 'K8788toshi': 0.0179648762688747, 'matuda0256': 0.0179648762688747, 'skiford_alo': 0.0179648762688747, 'remurin_21': 0.0179648762688747, 'cota1232': 0.0179648762688747, 'AJDwmfL1Au3ss6g': 0.0179648762688747, 'kiputo': 0.0179648762688747, 'g9UrL8ERDTIYxCE': 0.0179648762688747, '090_0956': 0.0179648762688747, 'asglkon': 0.0179648762688747, 'kajukitter': 0.0179648762688747, 'bokenasu5170': 0.0179648762688747, 'harutukiof': 0.0179648762688747, 'TbhsdW': 0.0179648762688747, 'cogKFxOHE4QdzYG': 0.0179648762688747, '1115yakumo777': 0.0179648762688747, '4aWEeOxg7A75fnJ': 0.0179648762688747, 'maguroika': 0.0179648762688747, 'zbQ128B2TFEfKfA': 0.0179648762688747, 'INJ3020': 0.0179648762688747, 'mutuuriine': 0.0179648762688747, 'y_u77': 0.0179648762688747, 'kana0517yuuta11': 0.0179648762688747, 'o1o32AYNBfJ8nKM': 0.0179648762688747, 'sasasamin': 0.0179648762688747, 'jimasin_': 0.0179648762688747, 'norakuro0525': 0.0179648762688747, 'yuutokaini': 0.0179648762688747, 'kiritore_361': 0.0179648762688747, '1wz4df3EKVMgnku': 0.0179648762688747, 'kikilala0425': 0.0179648762688747, 'hayate_miroir': 0.0179648762688747, 'ryou_hayami': 0.0179648762688747, 'nanamindaisyuki': 0.0179648762688747, 'batabata_7789': 0.0179648762688747, 'AqMUu3rXg23LF8g': 0.0179648762688747, 'qu38zax': 0.0179648762688747, 'N1hGfgu2J4A5LTw': 0.0179648762688747, 'rui0hime': 0.0179648762688747, 'PY1mAelHmg3E029': 0.0179648762688747, 'bluen98435285': 0.0179648762688747, 'naobuddy': 0.0179648762688747, 'yt9361': 0.0179648762688747, 'TojoTsukasa214': 0.0179648762688747, 'marinee0214': 0.0179648762688747, 'yuri_rojiura': 0.0179648762688747, 'METEORS_6966': 0.0179648762688747, 'AI53746902': 0.0179648762688747, 'ookamu0731': 0.0179648762688747, 'Yackey_Mouse': 0.0179648762688747, 'manabumanabu55': 0.0179648762688747, 'Mitsuki_72mikan': 0.0179648762688747, 'Tomo_1412I': 0.0179648762688747, 'WaoEnmGTZGi6rYr': 0.0179648762688747, 'giru_CTB': 0.0179648762688747, 'shiawasekazoku4': 0.0179648762688747, 'zonuun3': 0.0179648762688747, 'KENGOO12345': 0.0179648762688747, 'masaffy_': 0.0179648762688747, 'shibaen01': 0.0179648762688747, 'Taiyo62605220': 0.0179648762688747, 'karinmaru': 0.0179648762688747, 'qhAtN2mEQN1vYbU': 0.0179648762688747, 'laluna0927': 0.0179648762688747, 'KirakiraAsuna': 0.0179648762688747, 'mahonanano': 0.0179648762688747, 'erekigita_momo': 0.0179648762688747, 'altair_0822': 0.0179648762688747, 'backura': 0.0179648762688747, 'rezunofu531078': 0.0179648762688747, 'mikaduki_0120': 0.0179648762688747, 'teitoku1015': 0.0179648762688747, 'hakkbZ7V0yxbF0c': 0.0179648762688747, '8iM4Na7AI2uHLjQ': 0.0179648762688747, 'ichimonjimutuki': 0.0179648762688747, 'uRkwG47BE4IZaEq': 0.0179648762688747, 'wakanokusa': 0.0179648762688747, 'tekitopa': 0.0179648762688747, 'RXYl1ql5xo7DjuY': 0.0179648762688747, 'Eritaso06': 0.0179648762688747, 'o7_y20': 0.0179648762688747, 'digovidals': 0.0179648762688747, 't24A2ajYXKmq4ae': 0.0179648762688747, '3Z7kotYWnvJWTV3': 0.0179648762688747, 'zaitubara': 0.0179648762688747, '72fncVGBwN5RcTT': 0.0179648762688747, 'Romio2580': 0.0179648762688747, '0530_basketball': 0.0179648762688747, 'a12048210': 0.0179648762688747, 'waxzjcSnLaPrxp4': 0.0179648762688747, 's52ham': 0.0179648762688747, 'heavenVVV': 0.0179648762688747, 'vvVrug7rAo9Hjsp': 0.0179648762688747, 'v8WM5jh0': 0.0179648762688747, 'gSOzeXP8bZpZZTy': 0.0179648762688747, 'h_h0618dayo': 0.0179648762688747, 'Eru_guRou_': 0.0179648762688747, 'Mockyun_Game': 0.0179648762688747, 'zidoox': 0.0179648762688747, 'nekonokurumi': 0.0179648762688747, 'ryoya_enomoto86': 0.0179648762688747, 'minoru1892': 0.0179648762688747, 'rokkixi5963': 0.0179648762688747, 'etoperika': 0.0179648762688747, 'TapiaSalda': 0.0179648762688747, 'YUDUKI____K': 0.0179648762688747, 'Solis65498464': 0.0179648762688747, 'Hiedanoyasiki': 0.0179648762688747, 'e0e221': 0.0179648762688747, 'saad___3234': 0.0179648762688747, 'e_me4': 0.0179648762688747, 'WBakshwen4Fans': 0.0179648762688747, 'xddd17952321': 0.0179648762688747, 'ryosma1231': 0.0179648762688747, 'zion_5_02': 0.0179648762688747, 'UZUKI31784535': 0.0179648762688747, 'zeromaru_00_': 0.0179648762688747, 'd9baec3577b2482': 0.0179648762688747, 'tamamiland': 0.0179648762688747, '96lastbullet': 0.0179648762688747, 'XDvlYNWUoXa1fAe': 0.0179648762688747, 'ry8L9CCovkPyTa2': 0.0179648762688747, 'mattya025': 0.0179648762688747, 'willow0310': 0.0179648762688747, 'yajimanatume': 0.0179648762688747, 'Kuru_lei': 0.0179648762688747, 'AzisaiONI': 0.0179648762688747, 'hako28_85niwa': 0.0179648762688747, 'd78t1': 0.0179648762688747, '6NAeo9CPMPPJUrD': 0.0179648762688747, '1VWulu0xvxmNeh0': 0.0179648762688747, 'hn10287136': 0.0179648762688747, 'hlong099': 0.0179648762688747, 'odansuke8787': 0.0179648762688747, 'v9H5lLLyVsbJyck': 0.0179648762688747, 'KPakutio': 0.0179648762688747, 'flandre07929450': 0.0179648762688747, '3311Obelisk': 0.0179648762688747, 'PK2WicBYb1mB438': 0.0179648762688747, 'CF3sOjEfVP8ZCii': 0.0179648762688747, 'mai_m1218': 0.0179648762688747, 'pwTcvpBa1k0L91N': 0.0179648762688747, 'shu60912892': 0.0179648762688747, 'hifuminTG123': 0.0179648762688747, 'tuno198449': 0.0179648762688747, 'mikado44': 0.0179648762688747, 'pUMHTsBoy5YIbjm': 0.0179648762688747, 'nHFGsKPiYPTzDA1': 0.0179648762688747, 'code002016': 0.0179648762688747, 'Akeigo114': 0.0179648762688747, 'tachibanana0309': 0.0179648762688747, 'ksk711_2020': 0.0179648762688747, 'kirindensetu': 0.0179648762688747, 'midori10100': 0.0179648762688747, 'tamahome0715': 0.0179648762688747, 'yuika2523': 0.0179648762688747, 'macalon2525': 0.0179648762688747, 'nekopunch502': 0.0179648762688747, 'Nagi_Dead_End': 0.0179648762688747, 'gaburi970901': 0.0179648762688747, 'MHXixJZ7N7L1KDj': 0.0179648762688747, '0utakata0': 0.0179648762688747, 'AnnKimo777': 0.0179648762688747, 'kai_339': 0.0179648762688747, 'okada19870918': 0.0179648762688747, 'ice_planifol': 0.0179648762688747, 'kurama899': 0.0179648762688747, 'LOVE_LOVE_inmy': 0.0179648762688747, 'yuyuyuyu567': 0.0179648762688747, 'Noura_563': 0.0179648762688747, 'xTakz': 0.0179648762688747, 'GhaidaAmer_2_': 0.0179648762688747, 'edamame_110': 0.0179648762688747, 'rin_1172': 0.0179648762688747, 'GyJnry': 0.0179648762688747, 'HappyApexer': 0.0179648762688747, '98765432junji1': 0.0179648762688747, 'Gennai_Susanoo': 0.0179648762688747, '3_upj': 0.0179648762688747, 'O2J0h3496CHT6Lv': 0.0179648762688747, 'Seba08288300': 0.0179648762688747, 'makiba7777': 0.0179648762688747, 'minaga_373': 0.0179648762688747, 'animedaisuki_ng': 0.0179648762688747, 'SBSMissouri1945': 0.0179648762688747, 'sonodaumi192': 0.0179648762688747, 'Shiny_Gift': 0.0179648762688747, 'IPex70dscom4Rya': 0.0179648762688747, 'mikannagi_1187': 0.0179648762688747, 'hetarekirisakiG': 0.0179648762688747, 'CalcKou': 0.0179648762688747, '5hin6': 0.0179648762688747, 'JGSDFPOME': 0.0179648762688747, 'Ranmayu_sube': 0.0179648762688747, 'flare0113': 0.0179648762688747, 'cima_lili_stv': 0.0179648762688747, 'taruto0618': 0.0179648762688747, '883Ft': 0.0179648762688747, 'u4e_7g': 0.0179648762688747, 'kanachan_tol': 0.0179648762688747, '8Eipf': 0.0179648762688747, 'yt87m': 0.0179648762688747, 'yuri_01eizen_02': 0.0179648762688747, 'kairi0121': 0.0179648762688747, 'ankoumann': 0.0179648762688747, 'sin08171': 0.0179648762688747, 'reo___nyan': 0.0179648762688747, 'asukamagica': 0.0179648762688747, 'DuVzpzr8yIuNywx': 0.0179648762688747, 'milkseeek': 0.0179648762688747, 'nonnomana': 0.0179648762688747, 'gotosaori3': 0.0179648762688747, 'nyaokz': 0.0179648762688747, 'frostancy': 0.0179648762688747, 'E8ptyZ1jEXf4uZ0': 0.0179648762688747, 'sdhwyh46trteghr': 0.0179648762688747, 'm3A1R0Obif03zt6': 0.0179648762688747, 'LILAC_PG_A': 0.0179648762688747, 'Ak1k0_Peach': 0.0179648762688747, 'IthinoseAiru': 0.0179648762688747, '51t14Y3iQO9nNKg': 0.0179648762688747, 'Juliano_0926': 0.0179648762688747, 'morizo_819': 0.0179648762688747, 'persona252': 0.0179648762688747, 'th_tales0630': 0.0179648762688747, 'mLzIQIVoIufm9Wk': 0.0179648762688747, '6zbtJt5st0H76Xz': 0.0179648762688747, 'probaseball1': 0.0179648762688747, '0CuenZsu21gg4cD': 0.0179648762688747, 'hiro2888': 0.0179648762688747, 'karukarukaru124': 0.0179648762688747, 'sironekodaisuk3': 0.0179648762688747, 'blackblackmomo': 0.0179648762688747, 'Ko7Mikan': 0.0179648762688747, 'DiceK443': 0.0179648762688747, '128Gazette': 0.0179648762688747, 'gamtjm3': 0.0179648762688747, 'vakdpxv': 0.0179648762688747, 'Yukkurikannzaki': 0.0179648762688747, 'olfa_info': 0.0179648762688747, 'snowjesus1': 0.0179648762688747, 'nanairo_ll': 0.0179648762688747, 'sig5565': 0.0179648762688747, '__Coco__Cola': 0.0179648762688747, 'ryuuu751': 0.0179648762688747, 'yaneru_AE': 0.0179648762688747, '9xz3sOOxIyEB56Y': 0.0179648762688747, 'az3ob5aOa9djjKG': 0.0179648762688747, 'loveloveriho': 0.0179648762688747, 'TUBUTUBU_SAN': 0.0179648762688747, 'WuKCNYhRxiHa3Wu': 0.0179648762688747, 'tosikku': 0.0179648762688747, 'LLoveyuki': 0.0179648762688747, 'chibahenda': 0.0179648762688747, 'Rasikirakira': 0.0179648762688747, 'kwd5SVUU9QxPFui': 0.0179648762688747, 'Xd9qmufb2BQxE42': 0.0179648762688747, 'GMo4p': 0.0179648762688747, 'aqv_ye': 0.0179648762688747, 'wata3_0407': 0.0179648762688747, 'mazemazeid': 0.0179648762688747, 'Aoi__Rapid': 0.0179648762688747, 'kokyoron': 0.0179648762688747, 'ToYaMaNoHiGuMa': 0.0179648762688747, 'bluedragon1324': 0.0179648762688747, '0430Tenshin': 0.0179648762688747, 'chiroruchoko': 0.0179648762688747, 'huuka_aki': 0.0179648762688747, 'miz_data': 0.0179648762688747, 'mxWud8OcMVd2lcA': 0.0179648762688747, 'ACfA_thinker': 0.0179648762688747, 'uQIAKkfJdYiCza1': 0.0179648762688747, 'V6na2KLNdbEyG8W': 0.0179648762688747, 'berufegooru': 0.0179648762688747, 'FVPH7fJirBagbsN': 0.0179648762688747, 'yu_forever_00': 0.0179648762688747, '24436': 0.0179648762688747, 'kyaramenuo': 0.0179648762688747, 'YoshizoIshida': 0.0179648762688747, 'keizo_xx': 0.0179648762688747, 'miso777san': 0.0179648762688747, 'yuu_0047': 0.0179648762688747, 'Za7f3qn9MGLQYWX': 0.0179648762688747, 'Torikaze785': 0.015327909910188623, 'shiinauni': 0.015033159222051937, 'kapu_hbr': 0.01495165709138723, 'knmi_1': 0.013223187763938547, 'vavasyatyou': 0.012308128409941808, 'haneko0417': 0.011950066353213794, 'tsubaki_ayuhiko': 0.011325242183634556, 'sHjSu1LfvuPseH0': 0.011031606626294559, 'yukidaru1875': 0.01102229612975363, 'hikato_10': 0.010996615471445405, 'UsagikoMKII': 0.010959132681050397, 'Dajaredaimaouda': 0.010671055114837564, 'reidann_Key': 0.010385109851309634, 'toki_1223': 0.010312563577609502, 'kETSU_3150': 0.009921219829191112, 'tihaya_love': 0.00975924717861049, 'rucio_hbr': 0.009200974508196885, 'Asakuranoyu': 0.009057795612582305, 'hebuban_yu': 0.008919821820853343, 'XPeXWEXakAOQhSY': 0.008586949721147617, 'metaru1metaru': 0.00857847197040929, 'ura_hvbn': 0.008491680291080394, 'BBCNGtyping': 0.00826314355523252, 'kaisenshima': 0.008227394646188968, 'mochinemono': 0.008196396366128936, 'kikikaikai_chan': 0.008179873510969757, 'Nyaru_66': 0.008178575342094858, 'hbbn__nanamin': 0.008138961454777782, 'Rockn47015197': 0.008045615772066337, 'ueueueg': 0.007941604354908425, 'marou_hvbn': 0.007930954238398649, 'gyuunosuke': 0.0077860024802771126, 'KuroUsagi_0122': 0.007343452025615671, 'Ryuu_symphogear': 0.007342258094396316, 'okojoinu': 0.00733434730317605, 'vio193': 0.007215749498852835, 'ymtnzyp': 0.007135393597349815, 'NieR_chaoticEND': 0.006992749370831412, 'key_toaruif0229': 0.006976605101267342, 'Arisaaaaaaaa1': 0.0066574950830393526, 'ERzs0O5pmWMq7W5': 0.00657462360605602, 'chapter_1709': 0.006468811704375384, 'whoareyou9194': 0.006409194654961919, 'DEcoco185he': 0.006380439766611938, 'adkundesu': 0.006352932401572051, 'summer_lights81': 0.006333420780602267, 'TSUKASA_TOJO214': 0.0062637208791510674, 'wakouXV': 0.0060114463090411374, 'ahiru016v_game': 0.005924002879993825, 'popolo_monjyu': 0.005914567554900566, 'hr__o2_': 0.005903158480742082, 'multi_2242': 0.005802364764495802, 'yunon_HBR': 0.005742177177765515, 'mukuchi616': 0.005677432231442054, 'M_K_SPINEL209': 0.005608108162236541, 'Onemukun_sknj': 0.005478815837444865, 'Tiramisu_Echigo': 0.005400537322062705, 'zumikuni': 0.005372419355470354, 'moke_321': 0.005372405844040085, 'kenjoy713': 0.005361174537140254, 'marionnu1210': 0.005230013165262115, 'Yuouki_9646': 0.005152041407066646, 'sunaba_522': 0.005087310934115708, 'A_01145': 0.005078657748338456, 'simizumika3537': 0.005068337613284948, 'mogamisilyouma': 0.005056872916182102, 'kuroda_HbR': 0.005033340300520083, '33eyesyakumo': 0.005028457101488838, 'Minto_player': 0.005026453399488262, 'fc2s1d': 0.0049821483261262185, 'HeliosAlpha': 0.00496624650169612, 'shiratama357': 0.004895406155426089, 'naoya_46': 0.0048287690694250535, 'StuartRiTwi': 0.004796551930377145, 'mentaiayoyo': 0.004742408259287257, 'ichihara_kiki': 0.004709582817400337, 'yuri07110214': 0.004704083266750957, 'nanase_Psychic': 0.004661856879312474, 'appjgtdjt1': 0.004639595589410133, 'ondori0830': 0.004554878886293846, 'Nemu_toaruIF': 0.0044646393162893535, 'Revo10': 0.004461061488572651, 'ketsu_hbr': 0.004458049080447938, 'azm0816kazu': 0.004407018458356395, 'ayumu_se2ds': 0.004333099331268447, 'Blair_ddon': 0.004318436815045249, 'hv_bn_rd_jiiin': 0.004255758554987995, 'soarpanxiang': 0.004245067702399152, 'TO89168075': 0.004244567232055848, 'Maripon_eeed2yn': 0.00414215145754015, 'ZL_PGR124': 0.004043832778134633, 'seizalhc6661': 0.004013083657358839, 'R_K500': 0.003953641555577794, 'aBNT4gr8I7IRIHP': 0.0038842836802314763, 'LtF3JxPkbykVQRr': 0.003861517426859953, 'rasyu': 0.0038413534037480507, 'ichigoame_uni': 0.0038394621067903635, '5qxMC9x8F1e7cOA': 0.003824323060750043, 'annihilation935': 0.0038188573206025876, 'hisui07': 0.0038170970830812994, 'kitakami_zatta': 0.003793164771541284, 'kyojinsnj88guln': 0.003781493624611657, 'ikaiokuri': 0.003757200581609188, 'nightma11621107': 0.0037514506757039736, 'y8K8mr_': 0.0037125699390981224, 'SanShiroVega': 0.0036911735791626105, 'fumitooooooon': 0.0036901176058242876, 'kandatsu_swif': 0.003673992042262175, 'checkemart': 0.003616138105283398, 'Pocket79key': 0.003581113892703713, '__Lilac': 0.0035733991704070037, 'Alka22942465': 0.0035722600839182598, 'HMR44736654': 0.003566114106593315, 'nico3a08': 0.003534929811729684, 'telsaku': 0.0034951077350728063, 'UxRabbitxU': 0.003473428221557618, 'Sakiden2992': 0.003429181021788212, 'Ragna1230': 0.0034183027768480726, 'Cora0629': 0.0033798793737989034, 'yuyuyunn6': 0.003359232474957071, 'mkzi0': 0.003320116306416052, 'orehaneshiohana': 0.0033119591279740213, '8duki_ryo': 0.003288707947157919, 'yanfy_hebuban': 0.0032827273987652956, 'iesiki_mimimi': 0.003268954241356805, 'siro_gaming1': 0.0032310670488888303, 'roz_necktie': 0.0032285295354261287, 'lunatic_rain125': 0.0032267369663506514, 'weinoqiu': 0.0032265747000362875, '31B_Higuchi': 0.0032258649577777544, 'kyouhyou_': 0.0032241152183419166, 'GenHoward_C': 0.0032170807573461786, '2JZ80_Amatsuyu': 0.00319015603956266, 'TDNYAMADA': 0.0031702717949001896, 'YuriSovereignty': 0.003161352529701996, 'anemoni_dolls': 0.00315479836123202, 'Parqdice_': 0.003135064481970304, 'X2g8a6dlrxPsu9b': 0.0031266253228087477, 'FwcqrkXGGYDDL0p': 0.003125346995943094, 'Y_Armeria': 0.0031117179687583027, 'dmc_tales2006': 0.0031059738895692526, 'MrArkahaine': 0.003105873713337759, 'MSN04_key_1224': 0.0030953053893819295, 'route753885away': 0.003040768482372169, 'samidarehbr': 0.003039745411794299, 'ShakeTiger_': 0.0030324624605188167, 'azqUSQoFPrunIZc': 0.0030275451044179135, 'blafe': 0.0030138587763952744, 'naometsa': 0.003008906373024392, 'Basilio0102': 0.002999027919619211, 'harii_hebban': 0.0029733520079388838, 'Red_Mirrativ': 0.002954234595864637, 'moi0709': 0.00295089890698403, 'tale_ster': 0.002932959606302195, 'YlrH15PMBMna2E3': 0.002927665500499924, 'AkaneRewrite': 0.0029142212456372703, 'Hirot890106': 0.002887877677464799, 'yukinah_g': 0.002850080083897693, 'Ezekiel_0122': 0.00284719366744832, 'YYws4c': 0.002843854147393752, 'Natsuki07294571': 0.0028387714203486616, 'OTAKU1438': 0.0028316706600408637, 'akitaneru164gm1': 0.002819674273204688, 'g8yqnNKLsNznSpB': 0.0028120142685349203, 'hang_re09': 0.0028107520804024912, 'akausagi_1211': 0.0028082092314711984, 'SS57580994': 0.002781786248189307, 'kotori_yuuyuu': 0.0027615992638630326, 'marikusakuranbo': 0.002750421611779553, 'dengekionline': 0.0027111382162112764, 'tanatanatanatyu': 0.0027060697862364555, '1022NoName': 0.002701217902164479, 'risa53406883': 0.0026908533062816953, 'novisg1': 0.0026846012255389616, 'kexiangchu10000': 0.0026827755935507494, 'heaven_kiraneko': 0.0026827055595194664, 'lemon_sour022': 0.0026652604748361682, 'hiyokko_0104': 0.002660202313104503, 'saitoo_heaven': 0.002626138427703451, 'oo65876240': 0.0026024611182091976, 'seikou_bit': 0.002598046754275388, 'GNZ724t': 0.0025838158935334995, '0303Yz': 0.002563276711939158, 'momiji64': 0.0025397819161895947, 'DeanHudsonx09': 0.002529379961817085, 'OhKZ6uRuoB5VYLu': 0.0025292848047164785, 'gazou774': 0.0025235388569043366, 'MTh9i': 0.0025227350112500347, 'tamausa_oekaki': 0.0025142677094126017, 'maimai_ringabe': 0.0025069768203649406, 'NguyenvinhSon4': 0.0025069508603984283, 'roland_018': 0.002499063340746294, 'brycespeed': 0.0024840422744770766, 'Harusion555DMP': 0.0024798822768226166, 'desire1427': 0.0024778968623065216, 'wagamisan': 0.0024665687566243605, '696969smiley': 0.002460019105065426, 'komeko_hvbn': 0.002445027755902624, 'elie9150': 0.002434226373770963, 'schwidola3': 0.002434226373770963, 'U3tiU5KjxYUPDQ1': 0.0024233453739749425, 'kirara_cyurara': 0.0024154973957643618, 'SS27697041': 0.002408607884520057, 'wpjagk_mpjpm': 0.002402925044445023, 'genmai_fu': 0.0023680938245710745, 'aregray_hera': 0.002365783840950738, 'takagiriayumu': 0.002364612098455241, 'ProProseka2': 0.0023224806236686575, 'YAMATO200412': 0.002320272922516779, 'caltyuu': 0.002304323982481631, 'S19584900': 0.0023026861289836952, 'X143953692': 0.002281790390616198, 'medolore_pop': 0.0022694991415516115, 'sinonomeyy': 0.0022481043056995892, 'vFyJ7s0ScstnTgR': 0.002247807334532982, 'IWAN_9736': 0.002247807334532982, 'SYERIIN_0': 0.002243512065800942, 'soraumiiro_1399': 0.002224168065129278, '31arukayuki': 0.002195831833750085, 'KOKUHAKU_210': 0.002195687710943494, 'bakuwana': 0.0021935831564831023, '467_9673': 0.002188061632745081, 'yuez33': 0.002187189935137563, 'gg_jinjin': 0.002186014922142636, 'wadooooos': 0.0021839221898245225, 'Coupling_Heaven': 0.0021813778141664872, 'Key_Namakai': 0.002179603930272871, 'km_bzc': 0.0021778761220164157, 'villege888': 0.002173477912633272, 'aharensansuki': 0.0021678551448006027, 'uito_uiu': 0.0021556664323561215, 'ponoir0': 0.00214073474151443, '8585_box': 0.0021376086102090678, 'wyrd_2': 0.0021258742965064225, 'Ue_teeth': 0.0021238233553464224, 'narukami1913': 0.0021225160912532876, 'rentalraiun': 0.0021182801021994444, 'ivan25806187': 0.002115479657004298, 'spiegel_miroir': 0.002114532550466209, 'yumadatanaka': 0.0021068118443297087, '2686Lain': 0.002085021882183189, 'kiyonkobu5296': 0.002079769083805516, '7_yusei7': 0.0020759036212319535, 'puyo_wlw_sca': 0.0020759036212319535, 'fe14398808': 0.0020728831459403316, 'watatu_jojo': 0.0020725715671094515, 'sounanda322': 0.0020699118954020128, 'rinngono_soda': 0.002042074499786679, 'isshi_nekoha': 0.002033645815455444, 'yasshi_31B': 0.002020412744301776, 'REpf9JpZTnsRuob': 0.0020149477008180954, 'Yulyzhanshi': 0.002011696109822428, 'noira0506': 0.002006253741516737, 'Shay07927743': 0.0019975031505865422, 'RiTL4qgAAO8u1PR': 0.0019926742512856354, 'psychic_stun': 0.0019922986597642844, 'AKITUKI0966': 0.001989908956279564, 'Qchan0702': 0.001983407612125554, 'chibisuke620': 0.0019823430382576814, 'YUZUKI_1104': 0.001980197164042404, 'shiduku102': 0.001977704413660398, 'ohayo_chahan': 0.0019752422201409587, 'ExtremeSManpig': 0.0019738585411277778, 'myuhri': 0.0019713992101819794, 'soragami0713': 0.0019705595173591076, 'leads_true': 0.001965621763175647, 'method_man_': 0.001964197574469198, 'EDzrPYKz4kaJUaO': 0.001955567920684424, 'yamada_heaveban': 0.0019496363608646516, 'asagi4': 0.0019378580303115363, 'HBR_Ren': 0.0019335587005621675, 'mog_raz': 0.0019292913054115314, 'june3_hbr': 0.0019153021124834583, 'HironoriK1223': 0.0019123815036939734, 'FGO20050315': 0.0019038039861985741, 'izayoi_tsuki123': 0.00189596390601124, 'jjweb2387': 0.0018950352931126522, '1043_ttttt': 0.0018949300590854667, 'Danron_Yumeno': 0.0018804678944012157, 'masao7776': 0.0018779338794856243, 'LilyHeavenBurn': 0.0018756119729864827, 'X303_Scyllaise': 0.0018719491233684148, 'heaven_KEY1': 0.0018667821639612241, 'glassesGOTTSUAN': 0.0018660140049250702, 'yangorira51': 0.0018639410076325403, 'Aassiill1313': 0.0018619214541347295, 'rf_ene': 0.0018578869966998644, 'hubuki_hebuban': 0.0018536750410060138, 'tu2100___': 0.001851222946204277, 'nucleus131': 0.0018430905820935601, 'oQxJqM8KjHw7chz': 0.0018387864737637598, 'OxMochi': 0.0018345108048623759, 'kisi0519': 0.0018311508155766413, 'nemumimin': 0.0018256938585573964, 'prsk_YUKl': 0.0018183719403620723, 'surume411': 0.001816451711696478, 'MitsunaGears2': 0.0018078431581580751, 'Ayame2wei': 0.0017998067059910496, 'r6M8GAGzPbk7ExH': 0.0017998067059910496, 'shiroemon93': 0.0017998067059910496, 'seylne2000': 0.0017998067059910496, 'keybouro': 0.0017981845860916181, 'motorizerZ': 0.0017901994992303417, 'NeLq_void': 0.001782631264889876, 'ishtery': 0.0017786965599128025, 'wauwau_genshin': 0.0017777318692068604, 'maru_9029': 0.0017685053766651102, 'TOKIOGDMPP': 0.0017650106293094225, 'raddp1': 0.0017290366119278417, 'lovely_daiya': 0.0017290366119278417, 'Kuminimata923': 0.0017265576762833476, 'MymINDEXON': 0.0017224906392536623, 'cyon_v': 0.0017196329397644924, 'ebeekt32': 0.001718075807342502, 'ps3hosii': 0.0017131221678571226, 'blood_exe_': 0.00171261828674688, '1XkJBmZIz5tCkxa': 0.0017120273311512558, '3EkEW0sJP2WCtxV': 0.0017036647350140164, 'ge_musuki2525': 0.0017024908972121998, 'moom_nightmagic': 0.0017011091456335043, 'keshikigaruno': 0.0016932947156002257, 'private_omi': 0.0016904018771863062, 'sanpatisiki': 0.0016832355868134446, 'foo_rabbi': 0.0016787217550339117, 'Ria_hbbn': 0.0016731441092858919, 'VECTOR62952395': 0.0016722229928125857, 'Sanedayo_s': 0.0016689939389733335, 'L4nqr_': 0.001667920316691737, 'kazusa1992': 0.001664021610024967, 'Grimsonheat': 0.0016602971079410101, 'T0futea_mikleo': 0.0016510889249982028, 'KillandJack': 0.0016478457690030537, 'n_n_o_o_x': 0.0016469235003231891, 'yuri_to_fgo': 0.0016423302040682883, 'milkyflower_c': 0.0016276307480669933, 'hebuban_daisuki': 0.0016136846379196765, 'chirochiroichi': 0.0016136846379196765, 'Ghoulmes': 0.0016136846379196765, '2a3n9OmaD7fpHcj': 0.0016136846379196765, 'sinou189918': 0.0016133876667530692, 'tapmox': 0.0016133876667530692, 'L7Pke': 0.001606090443612698, 'katagaki_': 0.0016014041910433557, 'aqua__rise__': 0.0015947651275782008, 'tsukiya0': 0.0015862133246431801, 'Reivn910': 0.0015806458688189511, 'yasuisan45': 0.0015803790618023324, 'ishiyano296': 0.0015803790618023324, 'yukiusa___24': 0.0015800820906357255, 'kurisu_tofu': 0.0015800820906357255, 'cumo_o': 0.0015800820906357255, 'kazyan777': 0.0015800820906357255, 'jimmyleehk9665': 0.001570452435468878, 'DgtZkPBqKbKL7Jz': 0.001570283752829835, 'osaruno_jyo__ji': 0.0015698725539747044, 'Hayate_Angels': 0.0015665746499919323, 'william777_7': 0.0015536419649651678, 'fumble000': 0.0015502899547860266, 'ikoyomi0720': 0.0015498668384628343, 'lVXbi4EQr4f0ctJ': 0.001545481233659565, 'loire_faye': 0.001545481233659565, '0_mn_9': 0.0015451842624929582, 'noidnt': 0.0015451842624929582, 'kyomu_games': 0.0015451842624929582, 'Cynthia_MHW': 0.0015451842624929582, 'kinniku_mopi': 0.001527689972967287, 'Argonauability': 0.001512909985559009, 'Soraha_123': 0.001503577317069973, 'kou05052002': 0.0014892443639973705, '4cqpldZ6QKlBrSA': 0.0014854385607050563, 'Meracle_Mana': 0.0014854385607050563, 'TukishiroMonaka': 0.0014850109763323166, 'the_end_of_kthr': 0.0014816014535781437, 'Ruka__Kayamori': 0.0014713129576543155, 'kyoukasamaaaaaa': 0.0014602336041147498, 'yanhua_518': 0.0014571799548833426, 'yukimineko0704': 0.0014529396966869383, 'm_hvbn': 0.0014518653478811428, 'LUO92640299': 0.0014505796274724727, 'jtLJ2sPaJsILmJA': 0.0014489951114326956, 'Tama_healer': 0.0014382882373156977, 'death_labo': 0.001435328214423978, 'Z_11241': 0.0014318767466913326, 'konabanana_0130': 0.0014315797755247257, 'taigamasuku334': 0.0014315797755247257, 'RINKI_ohen21': 0.0014295720540658506, 'Rusa_HBR': 0.0014281716868666593, '31B__ghosts': 0.0014280316243638202, 'Hickey111112': 0.0014240115411842595, 'tagui_ninomae': 0.001421918808866146, 'mapi2004214': 0.001421918808866146, 'StrangeFan6': 0.001421918808866146, 'kominatoEra': 0.0014200787724542815, 'Yoake8969': 0.001418345130166917, 'ashiarai_koma': 0.0014114380713774381, 'torasan1145': 0.0013964230487382894, 'ogTHrfGhde1TXkB': 0.0013964230487382894, 'S_A_O_________': 0.0013964230487382894, 'fu_hbr_': 0.0013867190305639602, 'makimune8080': 0.0013847667830842038, 'khori_dokei': 0.0013775114046350406, 'yukkisikakatan7': 0.0013738018392224288, '31Asaikou': 0.0013654833959158745, 'renka_shirahana': 0.0013602023655531605, 'imo_mushi64': 0.001353998563041264, 'another_seagal_': 0.0013477004769269706, 'majjo0405': 0.001345105434537939, 'C89R06K': 0.0013450743284068064, 'Yeux_Rl_375': 0.0013388151232596346, 'game_aka_ika': 0.0013375877226787728, 'emF2gJcT42YtpwQ': 0.0013375877226787728, 'Schlafzeit24': 0.0013313294336289964, 'silver1230_21': 0.0013299935283717945, 'mandarabana': 0.001326965610427549, 'kodok_rau_': 0.001320607246070061, 'ushinoooo': 0.0013196426885316774, 'harukanakanatan': 0.0013193457173650703, 'hiromi_hiroomi': 0.0013193457173650703, 'yatimata_kiseki': 0.0013185885800702077, 'bamboo_stand09': 0.0013169821113319293, 'ganntoroganngan': 0.0013142684555312862, '96_uzura': 0.001312190469843636, 'game1105': 0.0013097625006316762, 'curerija': 0.0013061695889685283, 'Z0xvd0aKt3xs52I': 0.0013042821465614287, 'nekoniko72231': 0.0013042821465614287, 'qb_kuroneko83': 0.0012927119603536078, 'sprgamt': 0.0012904777347510288, 'Creek_Heycho': 0.0012856772837265998, 'MpQcho9XR36Bqcm': 0.0012823557332143987, 'Iylmv83X8KY0PrI': 0.0012779794871113953, 'GaruhuAngelLove': 0.00127449001071173, 'hevbnlzel': 0.00127449001071173, 'LIMIT_2203': 0.0012693843184186616, 'rangisu556': 0.0012693843184186616, 'Mv3q': 0.0012693843184186616, 'ti1411069_1107': 0.0012693843184186616, 'dreamfuya': 0.0012669566554919345, 'AruberuDestiny': 0.0012665206574489578, 'sawatari_mohu': 0.0012665206574489578, 'VanillaMilkTea_': 0.0012665206574489578, 'shirahane283': 0.0012600729171782458, 'm8BNudyIaEsiaLH': 0.001258436558349725, 'mashiron_lapin': 0.0012533594443119153, 'Kaede_2541': 0.0012518671859981948, 'yusashasha_LiSA': 0.0012496073613445507, 'KaguraX2': 0.0012479544883306883, 'Alice69078780': 0.0012479544883306883, 'rabo_rkyk': 0.001226226611062058, 'kuonnoz': 0.0012254920438528045, 'sinoalice_ashi': 0.001210004009500309, 'zom3559': 0.001210004009500309, 'seirei21': 0.001203422945481915, 'kqrk_oO': 0.0012032810778415414, 'gyagraybodododo': 0.0012024098151933306, 'CRmfh9': 0.00120064725490643, 'uto_rb': 0.0011991088137525308, 'SierraLeskina': 0.0011983172531888466, 'syuma__games': 0.0011980065258993377, 'Soil424116742': 0.0011900299364674479, 'kirisame7000': 0.001188208786542787, 'Engier_KAM': 0.001188208786542787, 'EegHhdjii': 0.0011855179315067843, 'a0137ReaTYPdcg': 0.0011854731523982416, 'ayane2angela': 0.001185174160315629, 'Madekuji_san': 0.0011766984333829648, 'NatunoAkogare': 0.001175822994636266, 'kaminin0712': 0.0011718132721463739, 'pakasuno217': 0.0011687355461584123, 'rimuruonigiri': 0.0011659704917099363, 'NAGA_Nigeaka': 0.0011609977568084015, '31A_Kayamori': 0.0011580570120912897, 'ryochama2110': 0.001155779831450429, 'Kim_Megane05': 0.001155779831450429, 'DavidVel9999': 0.001155779831450429, 'yomogimoti111': 0.001155779831450429, 'ShigeruGrimoire': 0.001155779831450429, 'lunaticlilies': 0.0011488190030318056, 'setsunatto': 0.0011461964571081347, 'jiiiiiiiiiichan': 0.0011441444204045765, 'shiitake3835': 0.0011418006052401977, 'rikosakurauchi7': 0.0011418006052401977, 'aokaze_syou': 0.0011400163959440401, 'dtysts_': 0.001135547256232315, 'TYPEallis': 0.001135547256232315, 'you_heavens': 0.0011257843887008776, 'kiria_anime': 0.001121105508728535, 'uniurchin': 0.001121105508728535, 'flomajue_cake': 0.0011178631073234483, 'Rey_2816': 0.0011178631073234483, 'takoyaking2002': 0.0011178631073234483, 'Yoi_KT': 0.0011158682869423305, '9aiiaJr7HG0OjyT': 0.001114807072639422, 'Ayaki33': 0.0011139276481429456, 'sl81hgBsOMxXjtO': 0.0011138399804758875, 'ura530': 0.0011020904725666137, 'Y_S_30G': 0.0011002735924272335, '_kiu__': 0.0010911139984531805, 'shirakabaIshi': 0.0010884502080825188, 'Asakura_karerin': 0.0010882472518947642, 'SBn7REBOP2jwtrN': 0.0010880709714737495, 'Iruia0805': 0.0010829652791806811, 'afraid_rider': 0.0010829652791806811, 'kawayoshinaka': 0.0010829652791806811, 'hipopopopo0403': 0.0010804767771667712, 'Sugarkohaku': 0.0010792875175073056, 'brianlokhin': 0.0010784848107898105, 'NowTarooo': 0.0010781986189669674, 'HBR_LUNCH': 0.001075371084873703, 'satoshi1539': 0.0010747897677520454, 'kazuho_ibuki': 0.0010661200904456527, 'DDR3RAM4': 0.0010596587041514659, 'tyoukaimaya': 0.001059107250225952, 'ayutaro_114': 0.0010538809624381776, 'Ackerman_zepeal': 0.0010534430689931476, 'hana_no_seed': 0.0010521102164012608, 'Ethan0327': 0.0010509566455826588, 'pLPFr3UgkeH99Zk': 0.0010454215542870574, 'Mahirn_Love': 0.001039930478992691, 'Charlotte_NT_': 0.001039145612495218, 'motimrk2': 0.0010389693535668677, 'yuno_takuya': 0.001038488856471763, 'Celeron_300AMHz': 0.00103810029619928, 'ujimatsuchiya17': 0.00103810029619928, 'demodori0082': 0.00103810029619928, 'ababizumida': 0.00103810029619928, 'gotaka_8june': 0.00103810029619928, 'yoro_anei': 0.00103810029619928, '9n0mHF9ufqDUHDF': 0.00103810029619928, 'mattontonmatton': 0.00103810029619928, 'fueta_wakame': 0.00103810029619928, 'I657Pn': 0.00103810029619928, 'watanabe_gai': 0.00103810029619928, 'mD1QwmnDUwrvKxd': 0.00103810029619928, 'yotsurugi3': 0.00103810029619928, 'hima_tori': 0.00103810029619928, 'maromomidori': 0.00103810029619928, 'OCfactory2': 0.00103810029619928, 'maro02154': 0.00103810029619928, 'suwaneko385': 0.00103810029619928, 'PoE_suShi': 0.00103810029619928, 'heav_itou': 0.00103810029619928, 'ukanomitamanoka': 0.00103810029619928, 'pOrigOnrOgix': 0.00103810029619928, 'Hisui7_Hebuban': 0.00103810029619928, 'Kai_kirishima': 0.00103810029619928, 'mtk_sna': 0.00103810029619928, '4fIjsrY6WARGR6i': 0.00103810029619928, 'ERNCVE': 0.00103810029619928, 'Minato_Y_1119': 0.00103810029619928, 'fuke3d2': 0.00103810029619928, 'zzz_mikan': 0.00103810029619928, 'N_RIVER_HFF': 0.00103810029619928, 'GLLfgphvA0b2nZr': 0.00103810029619928, 'kikikisususu3': 0.00103810029619928, 'yanagin_so': 0.00103810029619928, 'Haru_choucho': 0.00103810029619928, 'k4zKxoK': 0.00103810029619928, 'tenkyu_hourai': 0.00103810029619928, 'small_chicken44': 0.00103810029619928, 'Rabbit_Bullet': 0.00103810029619928, 'Mn13Yt_LLENN': 0.00103810029619928, 'Fra_Fra_chan': 0.00103810029619928, 'kkchhjm': 0.00103810029619928, 'o_cloexec': 0.00103810029619928, 'solidshine': 0.00103810029619928, 'takasu_rika': 0.00103810029619928, 'ahdsncos': 0.00103810029619928, 'hiyooji': 0.00103810029619928, 'foxy_magician': 0.00103810029619928, '03020122': 0.00103810029619928, '59katsuoka': 0.00103810029619928, 'Udon_Nanashi': 0.00103810029619928, 'NUUCNpM7TvVYEta': 0.00103810029619928, 'noaa439': 0.00103810029619928, 'sinon_negipon': 0.00103810029619928, '1UvnVSBJhfyXrzB': 0.00103810029619928, 'SSH71729': 0.00103810029619928, 'yukkribito0803': 0.00103810029619928, 'rougetu_1': 0.00103810029619928, 'Yukatanuko': 0.00103810029619928, 'muga0725': 0.00103810029619928, 'Games44387623': 0.00103810029619928, 'I5Ix8s': 0.00103810029619928, 'fantasy_reira': 0.00103810029619928, 'samidare1579': 0.00103810029619928, 'OTANSAM': 0.00103810029619928, 'ahiru_oishii': 0.00103810029619928, 'Yamaemon1989': 0.00103810029619928, 'ReanXAlisa': 0.00103810029619928, 'kyuurilovennod': 0.00103810029619928, 'Aria404_': 0.00103810029619928, 'nbplusplus': 0.00103810029619928, 'KomatKomatai': 0.00103810029619928, 'Snsn_Kyawawa': 0.00103810029619928, 'umemusubi16': 0.00103810029619928, 'biglife101': 0.00103810029619928, 'kaiman_00': 0.00103810029619928, 'Sonoda_Riko': 0.00103810029619928, 'toki0552': 0.00103810029619928, 'hikari_kinme': 0.00103810029619928, 'FGOguraburuuu': 0.00103810029619928, 'aroru1': 0.00103810029619928, 'XaXa_Johnny': 0.00103810029619928, 'umamusume_000': 0.00103810029619928, 'mitsuwo117': 0.00103810029619928, 'leftowl517': 0.00103810029619928, 'tsukiyomisakuya': 0.00103810029619928, 'jinnaaorima': 0.00103810029619928, 'pentas_poke': 0.00103810029619928, '3bood_saleh': 0.00103810029619928, 'e_d_n_h_t': 0.00103810029619928, 'tsubaki_redstar': 0.00103810029619928, 'KirishimaZain02': 0.00103810029619928, 'kurisuE_': 0.00103810029619928, 'General__will': 0.00103810029619928, 'shiroha_scilla': 0.00103810029619928, '_ee4r': 0.00103810029619928, 'Yuvfn5eQh3MD1mt': 0.00103810029619928, 'Q0REWUeO8JtcqA2': 0.00103810029619928, 'mrZH52161738': 0.00103810029619928, 'k_higashinhou': 0.00103810029619928, 'humannoids89': 0.00103810029619928, 'Lotisour686': 0.00103810029619928, 'mo04_22': 0.00103810029619928, 'u93mws': 0.00103810029619928, 'kimanokishini': 0.00103810029619928, 'loggy0303': 0.00103810029619928, 'supica1207': 0.00103810029619928, 'yairiDQ10': 0.00103810029619928, 'DuckClanAkira': 0.00103810029619928, 'youshin_farusu': 0.00103810029619928, 'hiroki_death_no': 0.00103810029619928, 'RerainakuF97': 0.00103810029619928, 'QuestInTheSkies': 0.00103810029619928, 'g_merun': 0.00103810029619928, 'reon23451': 0.00103810029619928, 'cherry09211358': 0.00103810029619928, 'hare_crossroad': 0.00103810029619928, 'Senryou_Fuki': 0.00103810029619928, 'TaiyakiwithAnko': 0.00103810029619928, 'kiyosetaiki': 0.00103810029619928, 's9UMF5x5qMCp7Gy': 0.00103810029619928, 'shoku_sennki': 0.00103810029619928, 'zlw0t37hSoCxbWJ': 0.00103810029619928, 'ZAdSEozPzIBt1sg': 0.00103810029619928, 'yossi_rikuto123': 0.00103810029619928, 'fortissimo_no': 0.00103810029619928, 'gyu_ton_dori': 0.00103810029619928, 'NNJJUU_': 0.00103810029619928, 'ua26gui2hvbdtyp': 0.00103810029619928, 'SF_diaPERSON': 0.00103810029619928, 'fangjoker524': 0.00103810029619928, 'TORIMTRIATAMA': 0.00103810029619928, 'Kokona50385423': 0.00103810029619928, 'jack19942005': 0.00103810029619928, 'siroconne': 0.00103810029619928, 'bipbi1': 0.00103810029619928, 'piyopiyohiyoko': 0.00103810029619928, 'Seiraohayo': 0.00103810029619928, 'nnvnxm': 0.00103810029619928, 'strikerdrago': 0.00103810029619928, 'hannpanamegane': 0.00103810029619928, 'mirei_waka': 0.00103810029619928, 'Kakkozeroiti': 0.00103810029619928, 'MY_tomegon': 0.00103810029619928, 'Uvach4': 0.00103810029619928, 'thYjNyGBbWFx3pt': 0.00103810029619928, 'souhu_zero_exe': 0.00103810029619928, 'kurankurn09': 0.00103810029619928, 'Tokisaki128': 0.00103810029619928, 'yhonym': 0.00103810029619928, 'ayumuQue': 0.00103810029619928, '1NUBOS1': 0.00103810029619928, 'white15978': 0.00103810029619928, 'nachtmusik13': 0.00103810029619928, 'qwertuippsdfhk': 0.00103810029619928, 'ryo_urama': 0.00103810029619928, 'oekakihiyoko': 0.00103810029619928, 'odq86JVPUSNlAiP': 0.00103810029619928, 'Ben_Towor': 0.00103810029619928, 'mimimuda': 0.00103810029619928, 'lain3_live': 0.00103810029619928, 'sugawara009': 0.00103810029619928, 'hegeromucha2': 0.00103810029619928, 'KUTAMI_0830': 0.00103810029619928, 'liveinnow1': 0.00103810029619928, 'zakuzaku_actors': 0.00103810029619928, 'apngo_s': 0.00103810029619928, 'Zuraboy_V1si0nS': 0.00103810029619928, 'waruitaisanw': 0.00103810029619928, '028396296': 0.00103810029619928, 'Ayanami_aaa': 0.00103810029619928, 'toki_2121': 0.00103810029619928, 'KotaroF41DB': 0.00103810029619928, 'Raisu_Lord39': 0.00103810029619928, 'inamisan': 0.00103810029619928, 'AyanoKurosawa': 0.00103810029619928, 'souroku_yuika': 0.00103810029619928, 'sfwkool': 0.00103810029619928, '7m3N2xHw4oG4Liz': 0.00103810029619928, 'haishaikeyo': 0.00103810029619928, 'GameHAGE': 0.00103810029619928, 'LonChos_': 0.00103810029619928, 'Zr3Nl': 0.00103810029619928, 'tutinokomoon1': 0.00103810029619928, 'AyanosukeDEYANS': 0.00103810029619928, 'Alice_3722': 0.00103810029619928, 'Key_Sound': 0.00103810029619928, 'kumori_Amahara': 0.00103810029619928, 'cccc222133': 0.00103810029619928, 'Dg2dnNhr0IYbu1b': 0.00103810029619928, 'manwearling': 0.00103810029619928, 'rinchanlove39': 0.00103810029619928, 'VDySZbkpc0eLLRy': 0.00103810029619928, 'soleil79167696': 0.00103810029619928, 'jYnGye7khFeMePh': 0.00103810029619928, 'MrLyonL': 0.00103810029619928, 'kengyo7': 0.00103810029619928, 'alicehatoaegis': 0.00103810029619928, 'Ryuchan_328': 0.00103810029619928, 'APenasw13': 0.00103810029619928, 'mknhrsuk': 0.00103810029619928, 'Quick_mine': 0.00103810029619928, 'harukamikoto': 0.00103810029619928, 'xcessshin': 0.00103810029619928, 'Yuto_KPY': 0.00103810029619928, 'DokuDokuFairy': 0.00103810029619928, '_YAMA_KITA_': 0.00103810029619928, 'atuki1124': 0.00103810029619928, 'koyoi_utaware': 0.00103810029619928, 'SMKurama': 0.00103810029619928, 'soisoisoiyaaaaa': 0.00103810029619928, 'kyoroemonn': 0.00103810029619928, 'nzgnhsig_2': 0.00103810029619928, '0327_poupee': 0.00103810029619928, 'nuenue825': 0.00103810029619928, 'nsBmfhk1azUjSqB': 0.00103810029619928, 'gbf_firis': 0.00103810029619928, 'z27acad4f7vjp': 0.00103810029619928, 'kakukakuskajikA': 0.00103810029619928, 'byfly0401': 0.00103810029619928, 'amondotyokoreto': 0.00103810029619928, 'yango_sgs': 0.00103810029619928, 'banamiyan0721': 0.00103810029619928, 'Hgon_kakin': 0.00103810029619928, '07__Hibiki': 0.00103810029619928, 'OpoppihBK_SqCo': 0.00103810029619928, 'sageornate': 0.00103810029619928, 'pp_gire': 0.00103810029619928, 'tomoizumo6': 0.00103810029619928, 'yuzu_jyamu': 0.00103810029619928, 'rinurinu29': 0.00103810029619928, 'direct1889': 0.00103810029619928, 'AnalyYato': 0.00103810029619928, 'fumiya_sasaki': 0.00103810029619928, 'rt_ng346': 0.00103810029619928, 'bebeko0816': 0.00103810029619928, 'netamiya_wata': 0.00103810029619928, 'tgk20161': 0.00103810029619928, 'tadanoyuunono': 0.00103810029619928, 'closia39': 0.00103810029619928, 'SpittingTkb': 0.00103810029619928, 'CuCh_chocobo': 0.00103810029619928, 'sayu2046': 0.00103810029619928, 'syuuu_shishisin': 0.00103810029619928, 'yamatosai': 0.00103810029619928, 'soupspa_': 0.00103810029619928, 'N9z04T4no9S3Khx': 0.00103810029619928, 'jtn81yvaAknckd5': 0.00103810029619928, 'as60711': 0.00103810029619928, 'nomura_max': 0.00103810029619928, 'KGinTCG': 0.00103810029619928, 'taka198095': 0.00103810029619928, 'gian_nagi': 0.00103810029619928, 'twogothreego': 0.0010379021719324837, 'yukikato0713': 0.0010378033250326732, 'meister753': 0.0010378033250326732, 'MutukiRou4e': 0.0010378033250326732, 'batoga221': 0.0010378033250326732, 'hi_wotb': 0.0010378033250326732, 'game_norimune': 0.0010378033250326732, 'smilemaker0803': 0.0010378033250326732, 'anime_Kunikida': 0.0010378033250326732, 'nzchk_8484': 0.0010378033250326732, 'S_Runker': 0.0010378033250326732, 'kurogein': 0.0010378033250326732, 'C0CONA': 0.0010378033250326732, 'wotanupon': 0.0010378033250326732, 'mituba_panda': 0.0010378033250326732, 'Hinata_dffoo469': 0.0010378033250326732, 'tazunyan0406': 0.0010378033250326732, 'IGL_Thiru': 0.0010378033250326732, 'yukinohana_siro': 0.0010378033250326732, 'soraumi_riku': 0.0010378033250326732, 'dekopon275': 0.0010378033250326732, 'mai_senkawa': 0.0010378033250326732, 'ZAKIOKA_nozo': 0.0010378033250326732, 'ikasumisen': 0.0010378033250326732, 'sora_11171127': 0.0010378033250326732, 'akehi1216': 0.0010378033250326732, 'ookimomota': 0.0010378033250326732, 'CrimsonLz': 0.0010378033250326732, 'UEC_iNSPiRED': 0.0010378033250326732, 'lnln_ch': 0.0010378033250326732, 'moai_1270': 0.0010378033250326732, 'Sayana18175640': 0.0010378033250326732, 'gardenia1345': 0.0010378033250326732, 'fgo_KING_02030': 0.0010378033250326732, 'fumimarupost': 0.0010378033250326732, 'RIRICARU_2': 0.0010378033250326732, 'tenma55864976': 0.0010378033250326732, '31C_BUNGO3': 0.0010378033250326732, 'tweela2010': 0.0010378033250326732, 'kurokome': 0.0010378033250326732, 'kanna_wlw': 0.0010378033250326732, 'whether57188': 0.0010378033250326732, 'chuni1018j': 0.0010378033250326732, 'dai_mikua': 0.0010378033250326732, 'takuan_zero': 0.0010378033250326732, 'Emia_Daria': 0.0010378033250326732, 'men_chikira': 0.0010378033250326732, 'yumendokusei': 0.0010378033250326732, 'Dinnerdinner_02': 0.0010378033250326732, 'mush982705': 0.0010378033250326732, 'hoyu_sa0221': 0.0010378033250326732, 'jeaaaru': 0.0010378033250326732, 'trueno_apex86': 0.0010378033250326732, 'maruyama_kanata': 0.0010378033250326732, 'tolerant_mind': 0.0010378033250326732, 'excalipur': 0.0010378033250326732, 'sayaya_0825': 0.0010378033250326732, 'kaguyazombi1022': 0.0010378033250326732, 'Ryu_xxx_Drachen': 0.0010378033250326732, 'kasi600': 0.0010378033250326732, 'swdkdkmk': 0.0010378033250326732, 'HtnB0pH1zpESWYZ': 0.0010378033250326732, 'chenyu75339282': 0.0010378033250326732, 'TOMO92139352': 0.0010288757525148502, 'kit94884224': 0.0010281961182719652, '_o0Minerva0o_': 0.001020627883931499, 'iioiiiooni': 0.001019867567213638, 'Na_yu_yu_OwO': 0.0010185351516133856, 'zenostein': 0.0009955994685610908, 'rin_HBR': 0.0009933081256869826, 'Kanade_Aoi_Love': 0.0009900384596978314, 'maryu_dboruto': 0.0009841954428725967, 'yutorac3': 0.0009823855472362113, 'Letheka1': 0.0009804748632830742, 'NV1212v': 0.0009780576232447716, 'YosandesuxD': 0.0009780576232447716, 'gachaCAP': 0.0009780576232447716, 'Heylaw21': 0.0009780576232447716, 'rhp6xll10': 0.0009780576232447716, '113Vesperia': 0.0009780576232447716, 'nepukou': 0.0009780576232447716, 'emaf_CntCmnd': 0.0009780576232447716, 'game_riu': 0.0009780576232447716, 'Pidonomaquean': 0.0009780576232447716, 'BvDPwMZBD2': 0.0009780576232447716, 'jap0maru': 0.0009780576232447716, 'kanite_': 0.0009780576232447716, 'aizuki1213': 0.0009780576232447716, 'aberu0604_': 0.0009780576232447716, 'BBQ61': 0.0009714525562796822, 'magrouni': 0.0009693607922124487, 'Louder_orz': 0.0009683985965548291, 'arinu___ra__kas': 0.0009640460121079435, 'takuto_1214': 0.0009617665979054702, 'miroku_riraku': 0.000959699825553869, 'nensyu5man_e': 0.0009549943593588867, 'kazuki_330': 0.0009546765370074516, '7kemun': 0.000950464788094306, 'NUMETYAN': 0.0009400422195221812, 'zaltusyu_ip': 0.0009372017842094658, 'RF56893679': 0.0009360552160951045, 'rokumaibane_': 0.000931999655437256, 'zyton3': 0.0009263942494365248, 'm_r_k_r_mm': 0.0009263942494365248, 'aisaburou': 0.0009263942494365248, 'I3DenH13pj3ZOEl': 0.0009263942494365248, 'SAi_gomi_79': 0.0009250974098268385, 'yutaarai': 0.0009178378411085936, 'sakuya_MH_': 0.0009152924213227635, 'Warabi_St': 0.0009139490858911123, 'watya_asucu': 0.0009127191974314306, 'unasenohkoku': 0.0009090937295901255, 'gurey_RS': 0.0009062630802454056, 'kanonrito83': 0.0009055309881719294, 'Artoria77777': 0.0009045125281295308, 'uma_kuso': 0.0009000230505619694, 'DMRx0_CXE700A': 0.0008983298295957128, 'kudoryafuka327': 0.0008917795797289869, 'hatanoshio': 0.0008863165505024722, 'zawanoashiato': 0.0008841853854220086, 'Suisen_sub': 0.0008749952857520765, 'APERU_games': 0.000870443965839044, 'Er71915639': 0.0008680683743846938, 'kapu_pjs': 0.0008591943139253926, 'taniel1118': 0.000855551770361893, 'kairi7ch': 0.0008533322079603206, 'Aina_Oceanograp': 0.0008527643182810489, 'ehutan': 0.0008507347270207506, 'BEANS_TURF': 0.0008466987835639745, 'kureha_kannon': 0.0008286818677619441, 'hebuban_': 0.0008278922180134357, 'Y00Cs': 0.0008256969389317327, 'keytokyou': 0.0008238211579354492, 'kamipurokonken': 0.0008235761754688756, 'LucianoNrkr': 0.0008235761754688756, 'BasstbRyu': 0.0008235761754688756, 'gateand123': 0.0008181197966188227, 'Shiki_Hamaguri': 0.0008175347553858424, 'himazin11203': 0.0008164105531256723, 'sonoko_neko': 0.0008121392012843145, 'starfixrecovery': 0.0008097875176719922, 'aisu____1': 0.0008087800416792898, 'Parcoskywlkr': 0.0007992887034384092, 'scinfaxis': 0.0007911878878643691, 'NaNatihaYome': 0.0007889233297926821, 'mix_reason': 0.0007889233297926821, 'Hakuto96595569': 0.0007889233297926821, 'arasap0157': 0.0007887202119385098, 'binbomin_Cz2': 0.0007878634575044577, 'hachiware_heve': 0.0007863653727126485, 'matsumae889464': 0.0007863417338066188, 'fta1201': 0.0007834857610741385, 'niumio2019': 0.0007820217011655019, 'sigunavanto': 0.0007781413107114331, 'shakaijin_hbr': 0.0007675516744180632, 'bts_95zmanne': 0.0007647378561717496, 'zXckEJgMmYJ3ioA': 0.0007645982809178118, 'mirai_koyomi_': 0.0007627381149011805, 'YuNi_hskw87': 0.0007620033809583766, 'nszk_sayla': 0.0007620033809583766, 'Kirii_Z': 0.0007620033809583766, 'sukidajin': 0.0007620033809583766, 'a1649bks': 0.0007620033809583766, 'Nikkariaoe33': 0.0007620033809583766, 'alicia_silmeria': 0.0007620033809583766, 'ccyana_net': 0.0007620033809583766, 'ja_jtw': 0.0007620033809583766, 'kurakawa8213': 0.0007620033809583766, 'yukkud1215': 0.0007620033809583766, 'tatikarika': 0.0007620033809583766, 'sakura0372': 0.0007620033809583766, '8620hatiroku': 0.0007620033809583766, 'haruto0258': 0.0007620033809583766, 'akityaso_tennis': 0.0007620033809583766, 'Taiga3dv': 0.0007620033809583766, 'Mocalily_': 0.0007620033809583766, 'Jack_J_Nouvel': 0.0007620033809583766, 'kcvvh9YssbfeN9V': 0.0007620033809583766, 'mugentoufu': 0.0007620033809583766, 'tomatokyabetsun': 0.0007620033809583766, 'piroshiki_k': 0.0007620033809583766, 'Li__s': 0.0007620033809583766, 'himaneet2525': 0.0007620033809583766, 'reinnkuroneko': 0.0007620033809583766, 'scratra': 0.0007620033809583766, 'bot_egui': 0.0007620033809583766, 'asamarua19': 0.0007620033809583766, 'project_rowa': 0.0007620033809583766, 'GodRice_': 0.0007620033809583766, 'mimi_angel0627': 0.0007620033809583766, 'pokoiori': 0.0007620033809583766, 'kunimi__tama': 0.0007620033809583766, 'rukisan03': 0.0007620033809583766, 'yuusuke_yuyuyu': 0.0007620033809583766, 'GlcAe': 0.0007620033809583766, 'mosu29618290': 0.0007620033809583766, 'priconekyouka': 0.0007620033809583766, 'kaffirlily0305': 0.0007620033809583766, 'sky77770123': 0.0007620033809583766, 'ImwD66VZctOUzSh': 0.0007620033809583766, 'Goellega': 0.0007620033809583766, 'nCOoOn17W4ECUWh': 0.0007620033809583766, 'YANNDERE_NOZOMI': 0.0007620033809583766, 'Re__okitune': 0.0007620033809583766, 'siopom032015': 0.0007620033809583766, 'sinaeri': 0.0007620033809583766, 'danmikoto39': 0.0007620033809583766, '5vb_v': 0.0007620033809583766, 'masara_s': 0.0007620033809583766, 'genneikai2': 0.0007620033809583766, 'BarExc': 0.0007620033809583766, 'Kanna_Haruto': 0.0007620033809583766, 'mitigumispit': 0.0007620033809583766, 'swi_gin': 0.0007620033809583766, 'twit_torepe': 0.0007620033809583766, 'yamada1109': 0.0007620033809583766, 'Fugu_no_Fuguai': 0.0007620033809583766, 'shokichi131227': 0.0007620033809583766, 'oxorv': 0.0007620033809583766, 'soyanouyu_akn': 0.0007620033809583766, 'l_em_o_n': 0.0007620033809583766, 'MRKMs612': 0.0007620033809583766, 'MOZrex': 0.0007620033809583766, 'suzutuki1942': 0.0007620033809583766, 'NPb3ljg98g': 0.0007620033809583766, 'hyalto_': 0.0007620033809583766, 'SG_S_31': 0.0007620033809583766, 'meipuru_MYNTP': 0.0007620033809583766, 'LegendaryNoCon': 0.0007620033809583766, 'vrmirai': 0.0007620033809583766, 'snowwind_107': 0.0007620033809583766, 'Azarashi_Anime': 0.0007620033809583766, 'ecserion75': 0.0007620033809583766, 'kanon_hbr': 0.0007545578813871136, 'Chuuuulet': 0.0007524299289010672, 'terimanta': 0.0007461362192934632, 'mirumiru398': 0.0007456433512607044, 'neru_game_suru': 0.0007451511339363149, 'nakanohito_e': 0.0007451511339363149, 'S46445398': 0.0007451511339363149, 'a_h_stars': 0.0007417598387087017, '1219hrbo': 0.0007406165177573201, 'Acht05804495': 0.000736590161261161, 'Conqueror_No_1': 0.0007365342679195459, 'omoiMilchstrase': 0.0007348038113022857, 'idenory_key': 0.0007331248995971417, 'HCJ003': 0.0007319687883605188, 'mitosser': 0.0007255383513218489, '3s9YhCEkGLwzW47': 0.0007255383513218489, 'kubo923': 0.0007247657455374148, 'TYzbmH9o6pKWFRs': 0.0007229881020728184, 'yamari59': 0.000721757141922488, 'Brian_T_Spencer': 0.000718196924738681, 'right2859ae': 0.0007174248803091678, 'weeabomi': 0.0007169062705938135, 'vanas5170': 0.0007133386948742756, 'muni_flare': 0.000708466777100914, 'setu_game0': 0.0007069374998107844, 'ogyari_rokket': 0.0007057445005672974, 'otake0423': 0.0007036446420416047, '31B_byacco': 0.0006945808267445113, 'Onekooo_': 0.0006913930223835205, 'rukateheperinko': 0.0006913930223835205, 'tm5213': 0.0006913448588972778, 'revue_SG_GeHeNa': 0.0006911206221721313, 'RISACHI353': 0.0006909363157285616, 'neo1Kirara': 0.0006909363157285616, 'pescanosub': 0.0006909363157285616, 'misakisan013': 0.0006909363157285616, 'Fran_Siro83': 0.0006909363157285616, 'KARASU9111': 0.0006909363157285616, 'HongKong5061': 0.0006909363157285616, 'Kair110': 0.0006909363157285616, 'makoto_ryo3': 0.0006909363157285616, 'Noah73097987': 0.0006909363157285616, 'amedama_teitoku': 0.0006909363157285616, 'ShikiOblivia': 0.0006909363157285616, 'otonashi_rikky': 0.0006909363157285616, 'yama_ochan': 0.0006909363157285616, 'fullbuckfire': 0.0006909363157285616, 'hajimeseta1123': 0.0006909363157285616, 'Heart__Blade_': 0.0006906255884390527, 'VkDHe7KmPNMlPOd': 0.0006906255884390527, 'J50762997': 0.0006906255884390527, 'mayo37899800': 0.0006906255884390527, 'koara_no_mqrch': 0.0006906255884390527, 'ozuma_657391': 0.0006906255884390527, 'sakana6220': 0.0006906255884390527, 'oQ8DGINkHMH09O0': 0.0006901378648595563, 'kotori_clover': 0.000682810914281342, 'Y040603': 0.00068091036080881, 'sheepfox': 0.0006758182891149224, 'wsb_hbr': 0.0006753591976702697, 'hasi0607': 0.0006753591976702697, 'kanariyamado': 0.0006688709124877695, 'SHIN620YAMAKAZE': 0.0006641597172401524, 'Prinz_Eugen_o7': 0.0006641135258979478, 'AquaMarine2200': 0.0006634468068213837, 'nekosuki02460': 0.0006613818567129532, 'Winter_Startea': 0.0006585895542496513, 'Light_Moon1209': 0.0006574715740303078, 'curryshinja': 0.0006565891402768473, 'HvnBrnsRd': 0.0006559033176109581, 'SirohebihimeS': 0.0006483446580806369, 'kurukurupaaka': 0.0006447110867203575, 'Noya360_Key': 0.0006413417951486094, 'minnnnnnnnnim': 0.0006387591903148866, '5rJ2TE5lS5WLkmo': 0.0006344196677799127, 'GM5648_platinum': 0.0006344196677799127, 'araicreate': 0.0006344196677799127, 'sakurahuli': 0.0006344196677799127, 'remon_hbbn': 0.0006344196677799127, 'sen0530hbbn': 0.0006344196677799127, 'Badapple1023': 0.0006344196677799127, 'MAGUNEKK7431': 0.0006344196677799127, 'Admiral_sasasa': 0.0006344196677799127, '96owl_f': 0.0006344196677799127, 'teisokutugaru': 0.0006344196677799127, 'yukizirusi74': 0.0006344196677799127, 'Melon_Soda130': 0.0006344196677799127, 'Arfega_Jutland': 0.0006344196677799127, 'yoichi_paraden': 0.0006344196677799127, 'puchotam': 0.0006344196677799127, 'shiro_haru0803': 0.0006344196677799127, 'kagari_201BK': 0.0006344196677799127, 'ichiGaYa': 0.0006344196677799127, 'tabesaika': 0.0006344196677799127, 'sirokuro_gameyo': 0.0006344196677799127, 'rocktorock626': 0.0006344196677799127, 'Rui___________6': 0.0006344196677799127, 'HBR_fun': 0.0006344196677799127, 'TARORIN_rinrin': 0.0006344196677799127, 'kazuma_aruta': 0.0006344196677799127, 'Nagatoyukito5': 0.0006344196677799127, 'KVPYP1': 0.0006344196677799127, 'ShirayuriL': 0.0006344196677799127, 'yutori_z71': 0.0006342242757642306, 'Rorona_Mnt': 0.0006327989235934564, 'nyataku': 0.0006327989235934564, '0gOP8jaCj1nmXAG': 0.0006317609266656674, 'ohotomosan': 0.0006283725202155444, 'sutana_shinken': 0.0006263279010603339, 'chuna_s_39': 0.0006263279010603339, 'ketu__hori': 0.0006262312247702418, 'piy0_enaga': 0.000625921313825687, 'guntose': 0.0006247886033719423, 'sanagi_hvbn': 0.0006231262529310482, '07Pokami911137': 0.0006231262529310482, 'hbbn_nrkrQuartz': 0.0006147214834155523, 'ryujiwowo': 0.0006111262941515396, 'yuzumikan0907': 0.0006108582595480875, 'Yuyuttosan': 0.0006108582595480875, 'qyIP4XLNNmQWr0u': 0.0006060206018584713, 'Routebranch': 0.0006030587378456278, '_rabbit_777': 0.0006022728976950368, 'f_prjv': 0.0006000181451315595, 'navi_motimoti': 0.0005967793059722264, 'UP_SngSng': 0.0005963593794496015, 'mrhiy_sf': 0.0005963195941636589, 'darkfairy7days': 0.0005939742621359711, 'TsukimiR7': 0.0005935096383448335, 'roboken0110': 0.0005903861499895399, 'Unizon_only_Win': 0.0005831446435338118, 'key_summer_2928': 0.0005827310285105886, 'tW36R6qFqemvd0C': 0.0005772219504961377, 'YUKI_03_16': 0.0005763464517321039, 'OKAGxfgNIniQE7p': 0.000575964549751949, 'nalyuu': 0.0005755843417203962, 'usagizoku': 0.0005755843417203962, 'No1341398': 0.0005755843417203962, 'N1K2JaShidenkai': 0.0005755843417203962, 'ri_n_sky': 0.0005755843417203962, 'akuramu2250': 0.0005755843417203962, 'miruma0519': 0.0005755843417203962, 'Subaru_Akatsuki': 0.0005755843417203962, 'zero122777': 0.0005755843417203962, 'Cloudac7_Canoe': 0.0005755843417203962, 're_shinopo': 0.0005755843417203962, 'DM86718535': 0.0005755843417203962, 'matumoko1113': 0.0005755843417203962, 'SGT_0111': 0.0005755843417203962, 'amakekke': 0.0005755843417203962, 'myAWl8xx3cBAc1H': 0.0005755843417203962, 'komeizi_hatate': 0.0005755843417203962, 'sakuya_karen_': 0.0005755843417203962, 'yutappu1112': 0.0005755843417203962, 'yukidukiyoru': 0.0005755843417203962, 'Re_Nao777': 0.0005755843417203962, 'KAZsandayo_com': 0.0005755843417203962, 'repair_Nee39': 0.0005755843417203962, 'nemu1423': 0.0005755843417203962, 'chom_HBR': 0.0005755843417203962, 'artsvisual92': 0.0005755843417203962, 'haguremetal_113': 0.0005755843417203962, 'DS_Visconti': 0.0005755843417203962, 'yosi90124': 0.0005755843417203962, 'lv210837972': 0.0005755843417203962, 'CLANNAD_Key1224': 0.0005755843417203962, 'dreieck9': 0.0005755843417203962, 'sirogumi_usagi': 0.0005755843417203962, 'SylphWatch': 0.0005755843417203962, 'purple_paru39': 0.0005755843417203962, 'oimoimo0608': 0.0005755843417203962, 'broom_01_15': 0.0005755843417203962, 'chanconogeboku': 0.0005755843417203962, 'yukito002': 0.0005755843417203962, 'fausto_vtuber': 0.0005755843417203962, 'Purini_Huka': 0.0005755843417203962, 'yukarin_udooon': 0.0005755843417203962, 'silow_owsla': 0.0005755843417203962, 'mioclannad': 0.0005755843417203962, 'bangame_kuzuha': 0.0005755843417203962, 'YukiusagiD2': 0.0005755843417203962, 'mao5wao': 0.0005755843417203962, 'kuya17y': 0.0005755843417203962, 'una0x0': 0.0005755843417203962, 'HIKKYEISEIHEI': 0.0005755843417203962, 'TokiwokakeLuchi': 0.0005755843417203962, 'R80455959': 0.0005755843417203962, 'Sheratan60133': 0.0005755843417203962, 'yagi_hvbn': 0.0005755843417203962, 'aokabi_111': 0.0005755843417203962, 'k_n_b': 0.0005755843417203962, 'noannyanyako': 0.0005755843417203962, 'wav_wav_san': 0.0005755843417203962, 'ShiranuiGin': 0.0005755843417203962, 'saflypark': 0.0005755843417203962, 'yukikareha': 0.0005755843417203962, 'KuroRabbit13': 0.0005755843417203962, 'ash_0722': 0.0005755843417203962, 'lmd2016_0401': 0.0005755843417203962, 'PATOLO_500': 0.0005755843417203962, 'ryuga_987': 0.0005755843417203962, 'awtD1380': 0.0005755843417203962, 'vitzsaya1021': 0.0005755843417203962, '05In0': 0.0005755843417203962, 'haiten_10': 0.0005755843417203962, 'mikasansan_XV': 0.0005755843417203962, 'Rennge098': 0.0005755843417203962, 'shiki68397367': 0.0005755843417203962, 'Arutoria0722': 0.0005755843417203962, 'xlegend1227': 0.0005755843417203962, 'TKG_kiba': 0.0005755843417203962, 'Nahiro304': 0.0005755843417203962, 'Kai31b': 0.0005755843417203962, 'sobatamago': 0.0005755843417203962, 'Corrin_Iffate': 0.0005755843417203962, 'sarusukeamora': 0.0005755843417203962, 'mononofu44': 0.0005755843417203962, 'rindo56424': 0.0005755843417203962, 'Takishou1': 0.0005755843417203962, 'K_K__SEED00': 0.0005755843417203962, 'kennn79': 0.0005755843417203962, 'ohrandoh': 0.0005755843417203962, 'yurisumimahi': 0.0005755843417203962, 'x_kirara_x': 0.0005755843417203962, 'emykrtg': 0.0005755843417203962, 'Kagerou128GAME': 0.0005755843417203962, 'kami_muhu': 0.0005755843417203962, 'masterpiece0930': 0.0005755843417203962, 'akiimu88': 0.0005755843417203962, 'hykmmtmng1': 0.0005755843417203962, 'Mecasonic13': 0.0005755843417203962, 'kaisou_0013': 0.0005755843417203962, 'ggjjop': 0.0005755843417203962, 'DTM98791448': 0.0005745187811287372, 'jokerholldup5': 0.0005728401973174343, '_sukemochi_': 0.0005705955310160316, 'Shuraizo': 0.0005705955310160316, 'Thunder_flash00': 0.0005679901474134179, 'aurelia0718': 0.0005679901474134179, 'Grius_T_GAME': 0.0005679901474134179, '7nCe6': 0.0005679901474134179, 'Y_oudon': 0.0005679901474134179, 'Wpy9amypfSabyCL': 0.0005679901474134179, 'kai_hebuban10': 0.0005679901474134179, 'yutaxxyx3': 0.0005679901474134179, 'ReominSousha': 0.0005679901474134179, 'pohapi_ekimemo': 0.0005679901474134179, 'periodkotobuki': 0.0005679901474134179, 'Fubuki_anaden': 0.0005679901474134179, 'gintyan222': 0.0005679901474134179, 'Raimu_916': 0.0005679901474134179, 'keigok_k': 0.0005679901474134179, 'dj_inaban': 0.0005640168375693077, 'Oni_Burawl': 0.0005626341816657059, 'ppocopocon': 0.0005626341816657059, 'TAKEYOURHEART_D': 0.0005626341816657059, 'puuuu__27': 0.0005626341816657059, 'sugiken034': 0.0005626341816657059, 'agetamagoooo551': 0.0005626341816657059, 'KashiwazakiNiku': 0.0005626341816657059, 'Ccbcup': 0.0005626341816657059, 'KHPzEWQRlz64EmI': 0.0005626341816657059, 'hoge15205195': 0.0005626341816657059, 'hosimiya0410': 0.0005626341816657059, 'KorochinMix2': 0.0005626341816657059, 'KorochinMix3': 0.0005626341816657059, 'KorochinMix6': 0.0005626341816657059, 'KorochinMix7': 0.0005626341816657059, 'tkyellow': 0.0005626341816657059, 't_keisirou': 0.0005580278205101304, 'kaginoisao': 0.0005565851991118309, 'kimi_tsuru': 0.0005543095622045449, '_HBR_tama': 0.000552351816087663, 'tamurithm': 0.0005486120746150684, 'dark_redford': 0.0005439302121829354, 'sgsrsl_050406': 0.0005433240818989898, 'TnT_246bomb': 0.0005426369733219582, 'ambasa_topaz': 0.0005422787656030521, 'm_akbar2931': 0.0005422787656030521, 'Luminis_feeling': 0.0005422787656030521, 'aisuke_riceball': 0.0005422787656030521, 'y_b_ski': 0.0005422787656030521, 'L_ll1179': 0.0005422787656030521, 'kanbara_maud': 0.0005422787656030521, 'DimasGP5': 0.0005422787656030521, 'XAoy7EnQg8t7A7Y': 0.0005422787656030521, 'r78YZmm2GPY35dg': 0.0005422787656030521, 'sola_wota': 0.0005422787656030521, 'asagiri_89': 0.0005422787656030521, 'orangestar0413': 0.0005422787656030521, 'maiya_inu': 0.0005422787656030521, 'delta_yuka': 0.0005422787656030521, 'minatoto_monmon': 0.0005422787656030521, 'godeater0922': 0.0005422787656030521, 'dooroflight1': 0.0005422787656030521, 'kterktkrai0226': 0.0005422787656030521, 'illyatantaso': 0.0005422787656030521, 'alt500001': 0.0005422787656030521, 'ori_takita': 0.0005422787656030521, 'sat3km': 0.0005422787656030521, 'ssakagami': 0.0005422787656030521, 'tsukiha322': 0.0005422787656030521, 'sakpann': 0.0005422787656030521, 'akkun27x': 0.0005422787656030521, 'kagikko_yd': 0.0005422787656030521, 'momodeshuo': 0.0005422787656030521, 'Chrishael78': 0.0005422787656030521, 'otonasi_syu': 0.0005422787656030521, 'SUBA87567772': 0.0005422787656030521, 'TRPGsummer_snow': 0.0005422787656030521, 'TAMAGOYAKI0720': 0.0005422787656030521, 'shirotsumedays': 0.0005422787656030521, 'izapapa131': 0.0005422787656030521, 'sawakitomoe': 0.0005422787656030521, 'cyaan9': 0.0005422787656030521, 'kyothiriiiiiiin': 0.0005422787656030521, 'A_RISELOVELIVE': 0.0005422787656030521, 'dMERUb': 0.0005422787656030521, 'Kunimi_Monaka': 0.0005420216208710128, 'syaku_nagi': 0.0005356977028732644, 'mirror1427': 0.0005295232380023093, 'DILysv0XccwdeGF': 0.0005284743537926522, 'Seraph_SEIKA': 0.0005197712539014805, 'chenjianquan11': 0.0005124866297533533, 'nodoameyatou': 0.0005124866297533533, 'nabeyatensai': 0.0005124866297533533, 'Daiki28140605': 0.0005124866297533533, 'lilium1911': 0.0005124866297533533, 'yuumagot': 0.0005124866297533533, 'tmd48go': 0.0005124866297533533, 'hnzw3046': 0.0005124866297533533, 'zuda_paylor': 0.0005124866297533533, 'mikogamisigure': 0.0005124866297533533, 'kumayuOUAX20': 0.0005124866297533533, 'KuroTuki_nn': 0.0005124866297533533, 'MashiroFPS': 0.0005124866297533533, 'raichi_0205': 0.0005124866297533533, 'yumekibogakuen': 0.0005120101723222483, 'kazuhira_sr': 0.0005104879136525105, 'poke7978': 0.0005096225172454634, 'tukihimeNezi': 0.000508942061639333, 'blackroseseed1': 0.0005086060965865105, 'gTg44vpYrpIeoCf': 0.0005086060965865105, 'ma_bo_do_fu104': 0.0005084806699729458, 'tac_miyoshi': 0.0005077160930512111, 'tsuranui_bot': 0.000507380937460285, 'miyazono9ran': 0.000507380937460285, 'unknown_yuda': 0.000507380937460285, 'koroten1056': 0.000507380937460285, 'pyon_10': 0.000507380937460285, 'cash_dolce': 0.000507380937460285, '19391127z': 0.000507380937460285, 'hiraganamittu': 0.000507380937460285, 'masayukiogura': 0.000507380937460285, 'Pastel_scenery': 0.000507380937460285, 'midorinomonome': 0.000507380937460285, 'zaruzaru_04': 0.000507380937460285, 'Kiratika430': 0.000507380937460285, 'AsGorochan': 0.000507380937460285, 'RhQMDty4y9zo0rt': 0.000507380937460285, 'komachisannn': 0.000507380937460285, 'Izawa_Mizu': 0.000507380937460285, 'jinsei_nagenai': 0.000507380937460285, 'nanolove_Mare': 0.000507380937460285, 'tpy_nintendofan': 0.000507380937460285, 'x_amnmn_x': 0.000507380937460285, 'kains102': 0.000507380937460285, 'eclipse_exe': 0.000507380937460285, 'Yogu_dia': 0.000507380937460285, 'byakurennnopiyo': 0.000507380937460285, 'amakawa555': 0.000507380937460285, 'AoiAndAoi2019': 0.000507380937460285, 'ookami_ROUYA': 0.000507380937460285, 'AkajunZ': 0.000507380937460285, 'TaKa0230511': 0.000507380937460285, 'ryuuki0370': 0.000507380937460285, 'kirakiramaaan': 0.000507380937460285, 'bouzaburous': 0.000507380937460285, 'nabuse': 0.000507380937460285, 'milkpich': 0.000507380937460285, 'rasukaruponta01': 0.000507380937460285, 'kabo0n': 0.000507380937460285, '110Kinea': 0.000507380937460285, 'rorikonndakar': 0.000507380937460285, 'KONTONnoryuugi': 0.000507380937460285, 'Hyouko_Glaceon': 0.000507380937460285, 'sugapikeiba': 0.000507380937460285, 'P07364748': 0.000507380937460285, 'Charles_1341_39': 0.000507380937460285, 'pprivoiser': 0.000507380937460285, 'SNJ_sister': 0.000507380937460285, 'rabiloved48': 0.000507380937460285, 'REIGI10': 0.000507380937460285, 'runosito': 0.000507380937460285, 'ff14_graycross': 0.000507380937460285, 'ruto_precure': 0.000507380937460285, 'n_nabi_39': 0.000507380937460285, 'aster_saoif': 0.000507380937460285, 'Minato8219': 0.000507380937460285, 'minsgi0420': 0.000507380937460285, 'qDNEwczc2qxxE5z': 0.000507380937460285, 'michinoyuuki': 0.000507380937460285, 'shiho_fine': 0.000507380937460285, 'hakomarimax': 0.000507380937460285, 'unleash_rid': 0.000507380937460285, 'phyie_mai': 0.000507380937460285, 'yu_kundesune': 0.000507380937460285, 'PGfqp6': 0.000507380937460285, 'sejoumisiki': 0.000507380937460285, 'Phooo35': 0.000507380937460285, 'komachi_azuki': 0.000507380937460285, 'dram_pants': 0.000507380937460285, 'Cocoa_saikawa': 0.000507380937460285, 'jonson_891': 0.000507380937460285, 'kudoinumimi': 0.000507380937460285, 'grengrenTOC': 0.000507380937460285, '8610gamer': 0.000507380937460285, 'aya_2836': 0.000507380937460285, 'JJmarusuisan': 0.000507380937460285, 'remi_hiyori': 0.000507380937460285, 'udondaisuki9696': 0.000507380937460285, 'kou1235791113': 0.000507380937460285, 'agoifujinon': 0.000507380937460285, 'smile5160': 0.000507380937460285, 'ajihurai913': 0.000507380937460285, 'kouhaino_camp_S': 0.000507380937460285, 'nazotoki_Nayuki': 0.000507380937460285, 'UMAALIENMONSTER': 0.000507380937460285, 'iroiro_iroha08': 0.000507380937460285, 'AltinaOz74': 0.000507380937460285, 'konnichiwa_0302': 0.000507380937460285, 'nei_prnk': 0.000507380937460285, 'Loose_NieR': 0.000507380937460285, 'Rule_hbr': 0.000507380937460285, 'kurikurimaron18': 0.000507380937460285, 'shiro934': 0.000507380937460285, 'Kayamori_': 0.0005015330494335662, 'htn_kz53': 0.0005006906321640018, 'hvbn_rkyk': 0.0004891934562370737, 'RAIHUGARDOO': 0.00048341257785090966, '_mtmn_': 0.0004830934654298186, 'lashin_fukuoka': 0.0004830934654298186, 'heaven_burns_': 0.0004830934654298186, 'BanG_4182': 0.0004830934654298186, 'maryamagyazutan': 0.0004830934654298186, 'hisayan_games': 0.0004830934654298186, 'umiikitaiyo0o0': 0.0004830934654298186, 'BvaveBlue': 0.0004822142317022625, 'mochi_mochao': 0.00048153085153915335, 'r3r5ten59': 0.00048125536867646846, '86grkanna': 0.00047819245816668255, 'falzoni_inc': 0.00047804310456259474, 'srmy0312': 0.00047773893438686087, 'noraneko_sylphy': 0.0004767816630213074, 'Taihou12_Quiet': 0.0004758721493687641, 'letsgo_makoto': 0.0004700678842338246, 'kuronekomiminii': 0.0004697517338560914, 'Raccoon_Yaoi': 0.00046562136850730116, 'X20to': 0.000465392360471957, 'yukimhiro': 0.0004651179030850826, 'MA_04E_ZAKRELLO': 0.0004651179030850826, 'MemerHelp': 0.0004651179030850826, 'GameINN16': 0.00046450963916225377, 'MiSt_miraty': 0.00046408452845103166, 'takky_kita': 0.00046408452845103166, 'okutsubaki1115': 0.00046408452845103166, 'LiveDream_SCAD4': 0.00046408452845103166, 'degdegNao': 0.00046408452845103166, 'kagehomu_games': 0.00046408452845103166, 'lotus_8901': 0.00046408452845103166, '_karaage_mk': 0.0004627688954413877, 'satopopponn': 0.0004625487049134192, 'Glock1813': 0.00046193762218053495, 'ozawa_jimusho': 0.00046193762218053495, 'Tom18514387': 0.00046193762218053495, 'pt20121': 0.00046193762218053495, 'neko0916': 0.0004578079628431841, 'rin_cherrybomb': 0.00045565369086405226, 'Tori_no_ko_810': 0.00044922080146109526, 'nsunyisz': 0.0004454589488694427, 'SnghT_Arh': 0.0004354816175106655, 'rQo70lVLpfAjSw3': 0.0004331990336509946, 'd_oIvIo_b': 0.00041951425483341577, 'key_hebuban21': 0.0004117621108864676, 'kotomeguele': 0.0004091834070557609, 'mochisuica25': 0.00040803038615593935, 'PIK0_Game': 0.00040764853517852675, 'BFG_BieFuG': 0.0004070724040308964, '7CJiVuiw5PyzKwW': 0.00039377645049205233, 'coldRai39747579': 0.00039377645049205233, 'fugetsubaika': 0.00039377645049205233, 'Iriyo_game': 0.00039377645049205233, 'hibiki_gxpa16': 0.00039377645049205233, 'aoitori_pso2': 0.00039377645049205233, 'utataneflow': 0.00039377645049205233, 'Gilang43212': 0.00039377645049205233, 'honorinnyanko': 0.00039377645049205233, 'puyo903': 0.00039377645049205233, '8n2gw5k7qu3KHWY': 0.00039377645049205233, 'nazonosonzai_Q': 0.00039377645049205233, '0210_kento': 0.00039377645049205233, 'shingenmochi718': 0.00039377645049205233, 'q0p8q0p': 0.00039377645049205233, 'anchobi_eternal': 0.00039377645049205233, 'cluche_rufis': 0.00039377645049205233, '86ZENKITRD_61K': 0.00039377645049205233, 'rukosena': 0.00039377645049205233, 'sirutyeru': 0.00039377645049205233, 'Red_Tear39': 0.00039377645049205233, 'alterload': 0.00039377645049205233, 'funa_kyariko': 0.00039377645049205233, 'haruka_kawachi': 0.00038620821615158635, 'sogami1228': 0.00038620821615158635, 'Tryarks': 0.00038620821615158635, 'hinaitigoex_6': 0.00038620821615158635, 'keyzack_isaac': 0.00038620821615158635, 'kirakuni777': 0.00038620821615158635, 'shitosama79': 0.00038620821615158635, 'meta_2': 0.0003846943354562318, 'Lieutori': 0.0003841154838334728, 'ga9dan': 0.0003841154838334728, 'ChiayaChii': 0.0003841154838334728, 'tarumususamekko': 0.0003841154838334728, 'nemu_nemuuuuuuu': 0.0003841154838334728, 'Abyss_0kcal': 0.0003841154838334728, 'growmoss': 0.0003841154838334728, '425HENTAI': 0.0003841154838334728, 'yurijueshi': 0.0003841154838334728, 'X23Raider': 0.0003841154838334728, 'kotonohahinata': 0.0003841154838334728, 'nanasama121': 0.0003841154838334728, 'Korius001': 0.0003841154838334728, 'XIYUEHAKU': 0.0003841154838334728, 'sushisloshi': 0.0003841154838334728, 'humensgift': 0.0003841154838334728, 'y901664': 0.0003841154838334728, 'GuiradoKaren': 0.0003841154838334728, 'SaltyDudeVevo': 0.0003841154838334728, 'eshanamo555': 0.0003841154838334728, 'mapletree_2715': 0.0003841154838334728, 'intheWhiteRoom': 0.0003841154838334728, '_b0fs495': 0.0003841154838334728, 'Yurilover1107': 0.0003841154838334728, 'sepedamantap': 0.0003841154838334728, 'Shin_1533174253': 0.0003841154838334728, 'twi_bro': 0.0003841154838334728, 'lilac_Chocolate': 0.0003841154838334728, 'yzpn_2d8': 0.0003841154838334728, 'aizawakazuha': 0.0003841154838334728, 'reon_mn': 0.0003841154838334728, 'elleonard_f': 0.0003808651333617156, 'WatanabeMiyako': 0.00037923969759988174, 'kawaii_0303': 0.000376759101318502, 'yahmammmy': 0.0003718148161580378, '31A_Karen': 0.00037157808204541176, 'nancy_holan': 0.00036490250247754477, 'dorotanbou': 0.00035837309015211087, 'Yufu1003': 0.00035512411991664417, 'animewasukuida': 0.0003511384229016763, 'hpmp331100': 0.000348170832901608, 'pompom_cha': 0.00034163485944896805, 'Greensig1': 0.0003402705225574084, 'ruto2529': 0.0003399324771990386, 'nobu_game_11': 0.0003399324771990386, 'amorunrun': 0.00033970807960236743, 'RTN0043': 0.00033970807960236743, 'reanea2552': 0.00033970807960236743, 'meumeugumi': 0.00033970807960236743, 'iuaaaia': 0.00033970807960236743, 'koto_maple': 0.0003394582387092832, 'gracefolds': 0.0003340814409052083, 'namaake8': 0.0003339878396185051, 'jSu2MkVy8U7c2SD': 0.00033156267257589963, 'sorakado_ivan': 0.0003291106174948039, '44hissa': 0.0003269006938998601, 'alivecocoa': 0.0003161952380085907, 'kamirenaika24': 0.0003161952380085907, 'Mutsuki_Keyfan': 0.0003161952380085907, 'UKA_oO872': 0.0003161952380085907, 'shoma070710': 0.0003161952380085907, '9DQCDZKfZ5NHqbt': 0.0003161952380085907, 'TaiseiandFS': 0.0003161952380085907, 'DORAGON_zwei': 0.0003161952380085907, 'c_c_Lakusu': 0.0003161952380085907, 'hiria_Poke': 0.0003161952380085907, 'sironekoakakaun': 0.0003161952380085907, 'four_9': 0.0003161952380085907, 'hosiimo9488': 0.0003161952380085907, 'Martan102': 0.0003161952380085907, 'skzk_u_chan': 0.0003161952380085907, 'kaizukaibuki117': 0.0003161952380085907, 'barson_4': 0.0003161952380085907, 'aokei1003': 0.0003161952380085907, 'kyuayo16958': 0.0003161952380085907, 'chuhri0703': 0.0003161952380085907, 'n_mondoo': 0.0003161952380085907, 'Empty0gaugE': 0.0003161952380085907, 'astrophys_tan': 0.0003161952380085907, 'Lewis_14045': 0.0003161952380085907, 'mousse_39': 0.0003161952380085907, 'nijifagerus': 0.0003161952380085907, 'YuZuRiHa_Play_': 0.0003161952380085907, 'wafuwafuta': 0.0003161952380085907, 'unlimitedZHIEND': 0.0003161952380085907, 'teruyo1230': 0.0003161952380085907, 'Denchiku_to_go': 0.0003161952380085907, 'Sunpower33': 0.0003161952380085907, '0808y0808': 0.0003161952380085907, 'Lavui_Luciphel': 0.0003161952380085907, 'ArmaririsKaz': 0.0003161952380085907, 'shankou228': 0.0003161952380085907, 'ikunori_minami': 0.0003161952380085907, 'ryoudinhoSECOND': 0.0003161952380085907, 'GyyyP': 0.0003161952380085907, 'Moyaki_601_key': 0.0003161952380085907, 'kiyokiyomasamas': 0.0003161952380085907, 'kyousuk77811803': 0.0003161952380085907, 'conejo2818': 0.0003161952380085907, 'XWb878UUp5lXsLU': 0.0003161952380085907, 'AngelBe91364061': 0.0003161952380085907, 'lineRnote_mon': 0.0003161952380085907, 'DAIGORIRA2000': 0.0003161952380085907, '_t2m_': 0.0003161952380085907, 'hareotoko': 0.0003161952380085907, 'YahooKojimahiro': 0.0003161952380085907, 'humitukisesuka': 0.0003161952380085907, 'spl_aikatune': 0.0003161952380085907, 'Micaco9th': 0.0003161952380085907, 'OG0eu7segtTPbw': 0.0003161952380085907, 'rocuMcclintock': 0.0003161952380085907, 'ADhaTAlove': 0.0003161952380085907, 'kamimami8787': 0.0003161952380085907, 'gontaro0115': 0.0003161952380085907, 'Montblanc_key': 0.0003161952380085907, 'yuu_minaduki': 0.0003161952380085907, 'kinokino3030': 0.0003161952380085907, 'JIO_CREATE': 0.0003161952380085907, 'rindouhisashi': 0.0003161952380085907, 'three2424gg': 0.0003161952380085907, 'saisai_FF14': 0.0003161952380085907, 'Love_joker': 0.0003161952380085907, 'zz00bbaa': 0.0003161952380085907, 'STG2EZF': 0.0003161952380085907, 'saradatiking': 0.0003161952380085907, 'SummerPocketsPR': 0.0003161952380085907, 'sieda1217': 0.0003161952380085907, 'tsubasaizm': 0.0003161952380085907, 'Hisayasu6221': 0.0003161952380085907, 'kanemotobx': 0.0003161952380085907, 'shocho2D': 0.0003161952380085907, 'sakagamitomo': 0.0003161952380085907, 'sugi_sakura': 0.0003161952380085907, 'nadekosneak': 0.0003161952380085907, 'konomon0503': 0.0003161952380085907, 'Hawk_Fathom': 0.0003161952380085907, 'vanilla__KAHLUA': 0.0003161952380085907, 'Charain_Com': 0.0003161952380085907, 'plesiosaurus01': 0.0003161952380085907, 'neet_megane': 0.0003161952380085907, 'Kaliumpotassium': 0.0003161952380085907, 'underrainycloud': 0.0003161952380085907, 'ao_blue159': 0.0003161952380085907, 'Laune_Katze_': 0.0003161952380085907, 'YamatetsuBranch': 0.0003161952380085907, 'iihige': 0.0003161952380085907, 'Ponyo_ryu_tyoro': 0.0003161952380085907, 'youkuritto': 0.0003161952380085907, 'isshy_game': 0.0003161952380085907, 'lFRyW8m8AD2TKas': 0.0003090186517729163, 'to_shikimi': 0.00030700513833865857, 'Hachuye': 0.00030700513833865857, 'akagame4': 0.00030700513833865857, 'Ataoka_tya': 0.00030700513833865857, 'HitsuChiizuko': 0.00030700513833865857, 'nehune': 0.00030700513833865857, 'slime9195': 0.00030700513833865857, 'raisi1205': 0.00030700513833865857, 'erena_00': 0.00030700513833865857, 'twintailgirl': 0.00030700513833865857, '5_38516': 0.00030700513833865857, 'aznyan1479': 0.00030700513833865857, 'Rocky_wolfdog': 0.00030700513833865857, 'Saijakuno2': 0.00030700513833865857, 'tosyl_chloride': 0.00030700513833865857, 'atarime_8982': 0.00030700513833865857, 'kitahara_rieko': 0.00030700513833865857, 'SaNa__39': 0.00030700513833865857, 'moganboR18': 0.00030700513833865857, 'shine_memory': 0.00030700513833865857, 'nawokichi': 0.00030700513833865857, 'Unagichan': 0.00030700513833865857, 'huuniihaa': 0.00030700513833865857, 'kevinF0704': 0.00030700513833865857, 'banana_seno': 0.00030700513833865857, 'gdGyR0j5pVaTpgy': 0.00030700513833865857, 'bluewolf_17': 0.00030700513833865857, 'nyatthoi': 0.00030700513833865857, 'udongratin': 0.00030700513833865857, 'akashirorenga': 0.000306689473589612, 'catgodcometh': 0.00030240658021170715, 'ssshiaaa': 0.00029428157013768497, 'Utu_lu_': 0.00029100249611527414, 'kurusukoara': 0.0002900633493989121, 'hou37707274': 0.000285577230194436, 'naruruzattadayo': 0.00028341817332868074, '00TM0410': 0.00028341817332868074, 'Felishia_mmdh': 0.00028341817332868074, 'IJpV4wOtIZln6Vg': 0.00028341817332868074, 'gunjoh': 0.00028250694987078085, 'kurohilo55': 0.00028154239233239717, 't7s_kanade': 0.00028154239233239717, 'keysiorin39': 0.00028154239233239717, 'okatoyoismpls': 0.00028154239233239717, 'AchtAcht114514': 0.00028154239233239717, 'Diauchu': 0.00028154239233239717, 'sabauma1660': 0.00028154239233239717, 'burleciel': 0.00028154239233239717, 'mah12450': 0.00028154239233239717, 'goldenginzi': 0.00028154239233239717, 'Apple_fuwakun': 0.00028154239233239717, 'KunisanHaruna': 0.00028154239233239717, 'feena_zc72s_RS': 0.00028154239233239717, 'GDMkeepthebeats': 0.00028154239233239717, 'buriridaikon78': 0.00028154239233239717, 'melonc0la': 0.00028154239233239717, 'ibilion6135': 0.00028154239233239717, 'suomusu1939': 0.00028154239233239717, 'fruitmix082': 0.00028154239233239717, 'zuhorinrinrin': 0.00028154239233239717, 'donrudodyo': 0.00028154239233239717, 'moninmomonin62': 0.00028154239233239717, 'Lily_Suzurann': 0.00028154239233239717, 'Ikuconodule': 0.00028154239233239717, 'motitako': 0.00028154239233239717, 'Bolshiviky': 0.00028154239233239717, 'haiyaro_2nd': 0.00028154239233239717, 'NKross_': 0.00028154239233239717, 'shoyu141421356': 0.00028154239233239717, '2121eclipse': 0.00028154239233239717, 'riririn_2004': 0.00028154239233239717, 'kironx': 0.00028154239233239717, 'hitoha1918': 0.00028154239233239717, 'Shizuru_p': 0.00028154239233239717, 'TimeGoesBy0721': 0.00028154239233239717, 'MarySioux914': 0.00028154239233239717, 'M79GRENADE723': 0.00028154239233239717, 'De_JaY': 0.00028154239233239717, 'animeminafans': 0.00028154239233239717, 'yugoslavfub': 0.00028154239233239717, 'TSjena': 0.00028154239233239717, 'sisuiR': 0.00028154239233239717, 'haru4tj': 0.00028154239233239717, 'Nobu_Nobu404': 0.00028154239233239717, 'ori_neko_hako': 0.00028154239233239717, 'Deno_douga': 0.00027437405575403905, 'nano9_n': 0.00027417324110381644, 'katapon0216': 0.0002713180354530028, 'shumo_shumo_': 0.0002649841259153527, 'sppnsl': 0.0002649841259153527, 'monoX0103': 0.00026362961115603955, 'surumeicar': 0.0002607980463478607, 'm47_fss': 0.0002591356315363106, 'takionnoyome_': 0.0002549086353209348, '4bnDNldrcOd44Dy': 0.00025395859309185225, 'ganbaruyoo_oo': 0.00024775378184537276, 'mu_a_run': 0.00024702899373836926, 'tatsunosuke246': 0.00024651818613541924, 'kuziratanaka': 0.00024215228229405915, 'arcnight101': 0.00024141578582744354, 'Sardina184': 0.000237627547680931, 'nisesuka': 0.00023269603015106191, 'Ray7347793': 0.00023203345944070017, 'marukukishi': 0.00022915333045926106, 'wRbM_28': 0.00022915333045926106, 'hage3p': 0.00022915333045926106, 'LaylaAnother': 0.000228572081092, '2052Xbox': 0.00022486195370540637, 'RIN__INORI': 0.0002203821662778348, 'hello_hello_oh': 0.0002203821662778348, 'yu_e1602': 0.00021815741386156402, 'nibosi_hvbn': 0.00021815741386156402, 'orca_911': 0.00021815741386156402, 'kaleidostaring': 0.00021815741386156402, 'IchinoseGarou': 0.00021624984803434133, 'BadLD3105': 0.00021227911578406154, 'July1st2020710': 0.00021227911578406154, 'Roseliafan000': 0.00021227911578406154, 'Z_R_Hphia': 0.00021227911578406154, 'jis0826': 0.00021227911578406154, 'Puni_mofu_mofu': 0.00021227911578406154, 'rid_august': 0.00021227911578406154, 'KeyH85': 0.00021227911578406154, 'IY86352418': 0.00021227911578406154, 'yuzu_SINoALICE': 0.00021227911578406154, 'yoshi_t0121': 0.00021227911578406154, 'vWZSVDUNvjj9fcc': 0.00021227911578406154, 'jinpyu_fire1997': 0.00021227911578406154, 'lj5TM3': 0.00021227911578406154, 'jaws_HBR': 0.00021227911578406154, 'ttttttetsunnnn': 0.00021227911578406154, 'kanechika27': 0.00021227911578406154, 'o_t_g_d': 0.00021227911578406154, 'lelefgo': 0.00021227911578406154, 'Ogre_21': 0.00021227911578406154, 'wander_in_the': 0.00021227911578406154, 'kamiya_shun': 0.00021057108982064, 'pgames0404': 0.00021057108982064, 'chekinu_': 0.00021057108982064, 'MaruNgotoheaven': 0.00021015116329801514, 'shioyacoffee_GB': 0.00021015116329801514, 'tamaya_0214': 0.00021015116329801514, 'mafu_mm': 0.00021015116329801514, 'Star03839025': 0.00021015116329801514, 'NozomiSugiura07': 0.00021015116329801514, 'fuckdammitfraz': 0.00021011137801207246, 'peco_Bisyoku331': 0.00020912663352795483, 'mahjong_pp': 0.00020459904749952953, 'hbrsoku': 0.00020405880430038643, 'ramuya_nagi': 0.00020017474837572983, 'livedoornews': 0.0002000627041969885, 'nekopoketoyoji': 0.0002000627041969885, 'eJ6asfdlCMqDpDe': 0.00019711815177330826, 'renchin555': 0.00019495487592987904, 'miya_notice': 0.00019343201066966117, 'flos__89': 0.00019298109358439615, 'jennytw0728': 0.00018878725158935202, 'QYnbP3wHdZhxZ50': 0.00018878432103534515, 'mume_hatune39': 0.0001884232860293849, 'SHIONO2021': 0.00018622431827618747, 'yatanon_tea': 0.00018394598817518174, 'kaki_traveler': 0.00018334141935718903, 'H9Zcl': 0.00017884704246083332, 'YOJIN_s': 0.00017437587457948565, 'hekitsuki': 0.0001715263095578758, 'aruchi8888': 0.0001704059847166708, 'yoppi1192dayo': 0.00016618801149786196, 'HIMEZZ6': 0.00016618801149786196, 'Minase_0502': 0.00016618801149786196, 'Cf_Ce_': 0.00016618801149786196, '0827jona': 0.00016505204196459034, 'LeoAlchemyStars': 0.00016383547701709394, 'Ichigo_Mina_se': 0.00016094492359170246, '31E_fifth_sis': 0.00016094492359170246, 'games_syachi': 0.00016094492359170246, 'ArararaiDQR': 0.0001600818390461733, 'GQN0NQJ0JqtyJ04': 0.00015966116452860064, 'JP8HM9rKxF5RUI9': 0.00015738573563854678, 'hiiragi_neire': 0.00015645639353747566, 'NisideGin': 0.00015446641330655488, 'sutoratosu07': 0.0001530948191742379, 'papaemon1616': 0.00015221297060837315, '877costa': 0.00015221297060837315, 'edgy_faggot': 0.00015194570493273565, 'JDAM_Cid': 0.00015194570493273565, 'evagredora': 0.00015194570493273565, 'ykFAVD1Fv32qqBu': 0.00015194570493273565, 'pinkey_flowers': 0.00015165664131859742, 'h_b_so': 0.00015165664131859742, 'Dr_kyuuri': 0.00015165664131859742, 'kasenyuu': 0.00014410251052349396, 'kosaka_HBR_DQX': 0.00014186277999332148, 'wata22yuzu16': 0.00014078033894666665, 'yunodon_eco': 0.00013876485906474815, 'rimumiro396': 0.00013775435315387954, 'hell___z': 0.0001351784153863027, 'kanohebu123': 0.00013008527149954683, 'masaki_da56': 0.00012844094137820017, 'WycU2W66Yb9d7Eh': 0.00012799140677334687, 'kyo_guitar': 0.00012799140677334687, 'funajill': 0.00012799140677334687, 'takamacher_vr46': 0.00012799140677334687, 'lemom_tea7410': 0.00012799140677334687, 'QOurekIFzEkzAyr': 0.00012799140677334687, 'HVNVR': 0.00012799140677334687, 'CodeG76922990': 0.00012799140677334687, 'Konatan415': 0.00012799140677334687, 'yuia510revo': 0.00012799140677334687, 'tEo64_': 0.00012799140677334687, 'newsyota4429': 0.00012799140677334687, 'RIN02_RIN14': 0.00012799140677334687, 'l0vuz': 0.00012799140677334687, 'prr18326241': 0.00012799140677334687, 'an271828': 0.00012799140677334687, '69EZqOx4H7wyDhX': 0.00012799140677334687, 'stitchryo15': 0.00012799140677334687, '8nUXa1tmhcyLHHH': 0.00012799140677334687, 'monster27272727': 0.00012799140677334687, 'shizuku_toram': 0.00012799140677334687, 'amawadoriiii': 0.00012799140677334687, 'UakXqaGUFiWAfyb': 0.00012799140677334687, 'OtoufuSS': 0.00012799140677334687, 'ka_kazuyan': 0.00012799140677334687, 'Yutopy12345': 0.00012799140677334687, 'kabusu123': 0.00012799140677334687, 'PuppuHeavenBurn': 0.00012799140677334687, 'vnqlOrBEFgvwtcT': 0.00012799140677334687, 'aterusu': 0.00012799140677334687, 'fmenp6': 0.00012799140677334687, 'hbr_tama': 0.00012799140677334687, 'zirenma_tsuki': 0.00012799140677334687, 'remon_2510': 0.00012799140677334687, 'Tsukito_719': 0.00012799140677334687, 'Shirakawa0106': 0.00012799140677334687, 'a86657692': 0.00012799140677334687, 'fry66584289': 0.00012799140677334687, 'ReVeluv_gamesG': 0.00012799140677334687, 'hello_music_key': 0.00012799140677334687, 'muuto311': 0.00012799140677334687, 'Maru_syE_HBR': 0.00012799140677334687, 'takoyaki_KIRI': 0.00012576523372708016, 'dokuhen_family': 0.00012576523372708016, 'Fandead_DMP': 0.00012183476029489585, 'wannaheartbeat': 0.0001209915827552596, 'wcat_powarie2': 0.0001209915827552596, 'f2lG6WeNDQnDYnL': 0.0001209915827552596, '173_oto': 0.0001209915827552596, 'shokarasuma': 0.0001209915827552596, 'kei_prsk_tenma': 0.0001209915827552596, 'eienniosanakiak': 0.0001209915827552596, 'destroyer26826': 0.0001209915827552596, 'mkey_4221ax3': 0.0001209915827552596, 'key_totorian': 0.0001209915827552596, 'akazukin1023': 0.0001209915827552596, 'mdgAMgOZSFJ9xMC': 0.0001197623750720259, 'tokotoko_zuizui': 0.0001197623750720259, 'akby__c': 0.0001197623750720259, 'Riry26646777': 0.0001197623750720259, 'fuVX8im4EE6U7QE': 0.0001197623750720259, '9904Raiden': 0.0001197623750720259, 'toku_2022': 0.00011787343759566038, 'pro7Ehktkak512': 0.00011469794083919593, 'WhiteR_fragment': 0.00011469794083919593, 'Minori_Ohshima': 0.0001145488289740974, 'yorurindbd': 0.00011252412342184556, 'keybisei': 0.00010956629467121548, 'Naniota': 0.00010907864619228134, 'tetsu_game_so': 0.00010064339683986813, 'kirito_m_a_o': 9.978664240581593e-05, 'J_Kimikage': 9.978664240581593e-05, 'PPARgamma': 9.978664240581593e-05, 'nagesuteru': 9.978664240581593e-05, 'Sougosan_8628': 9.978664240581593e-05, 'mixsand7373': 9.978664240581593e-05, 'PCK_circle': 9.978664240581593e-05, 'ttoo810': 9.978664240581593e-05, '7010wish': 9.978664240581593e-05, 'neko9neko6': 9.978664240581593e-05, 'naonanigashi': 9.870523181722897e-05, 'Syuka_12831': 9.863966439818639e-05, 'megalo_run': 9.863966439818639e-05, 'co2co2_hbr': 9.819625996525517e-05, 'anchel_rrryyy': 9.75113296038711e-05, '6piyo_': 9.744696003303488e-05, 'gaia2014pride': 9.744696003303488e-05, 'Narurin_hepburn': 9.744696003303488e-05, 'Sw4d7bra5WnM7pE': 9.744696003303488e-05, 'sumutemusyo': 9.744696003303488e-05, 'tushitaAE': 9.744696003303488e-05, 'ihoko_gbp': 9.744696003303488e-05, 'crui_14': 9.744696003303488e-05, 'miko_Strike': 9.744696003303488e-05, 'azulitenet': 9.744696003303488e-05, '877___7': 9.744696003303488e-05, 'ak_lin': 9.744696003303488e-05, 'tamebasan': 9.744696003303488e-05, 'P_tRs_15': 9.744696003303488e-05, 'mamesibaa1': 9.744696003303488e-05, 'wataru_y_nose': 9.744696003303488e-05, 'hirohashi10': 9.744696003303488e-05, 'akaru_mei': 9.744696003303488e-05, 'cocoa198701101': 9.744696003303488e-05, 'monstdaisukiiii': 9.744696003303488e-05, 'RabomenNoMAKI': 9.744696003303488e-05, 'TonK2KinG': 9.744696003303488e-05, 'SHADOW_shuffle': 9.744696003303488e-05, 'natsurun_bay': 9.744696003303488e-05, 'Lyu800': 9.744696003303488e-05, 'knae2030': 9.744696003303488e-05, 'Warifwant': 9.744696003303488e-05, 'zundarinda0512': 9.744696003303488e-05, 'UmA3BnqEVRuNIU8': 9.744696003303488e-05, 'hevban_rukayuki': 9.744696003303488e-05, 'Boujakubujin5': 9.744696003303488e-05, 'kuguiya_kazuomi': 9.744696003303488e-05, 'AE_2017_0512': 9.744696003303488e-05, 'star150103': 9.744696003303488e-05, 'guiltyman0824': 9.744696003303488e-05, 'WlEjdcvSN9kLKNc': 9.744696003303488e-05, 'youki0829': 9.744696003303488e-05, 'Kitakami_sikon': 9.744696003303488e-05, 'Rin_akn7538': 9.744696003303488e-05, 'MmxTvr': 9.744696003303488e-05, 'SiN_SiN_games': 9.654273211082173e-05, 'kurokuma300xxx': 9.08318217466274e-05, '35l44H1eohh56CT': 9.08318217466274e-05, 'GoldHopper_Npc': 8.98364287725936e-05, 'stars_v_00': 8.716262843890743e-05, 'aoi_chan_day25': 8.713385834912608e-05, 'canzone1102': 8.432413773982428e-05, 'Altria1228': 8.300521252925511e-05, 'HIROTAI10': 8.300521252925511e-05, 'Nanami_NgDy': 8.300521252925511e-05, 'y2fzCf1DYvaYNM5': 8.300521252925511e-05, 's_sakku26': 8.300521252925511e-05, 'TaNaKa3no3': 8.300521252925511e-05, 'cuore0987': 8.300521252925511e-05, 'KABEkusozaco': 8.300521252925511e-05, 'irisia042111': 8.300521252925511e-05, 'hanayomai': 8.300521252925511e-05, 'archa_SSBU': 8.300521252925511e-05, 'alltale2037': 8.300521252925511e-05, 'summer29813014': 8.300521252925511e-05, 'cyber1496': 8.300521252925511e-05, 'rrr___rrr08': 8.300521252925511e-05, 'ST1280_': 8.300521252925511e-05, 'CHINA43665303': 8.300521252925511e-05, 'HNT46_hinano': 8.300521252925511e-05, 'mattch5': 8.300521252925511e-05, 'sorakado_aoi': 8.300521252925511e-05, 'ligho': 8.300521252925511e-05, '123456zaos': 8.300521252925511e-05, 'hituziya134': 8.300521252925511e-05, 'ts_LA10': 8.300521252925511e-05, 'trick_and_trap': 8.300521252925511e-05, 'toq3AtpbdFp25r3': 8.300521252925511e-05, 'glasses_alu3': 8.295126724591504e-05, 'Brightmasa': 8.289650912030325e-05, 'nekoyakyu777': 8.150044425224536e-05, 'snow_drop1109': 7.97947753976653e-05, 'yuunagi_channel': 7.97947753976653e-05, 'kykiske178': 7.97947753976653e-05, 'Jojojohonnny008': 7.97947753976653e-05, 'yokai0330': 7.744271611289046e-05, 'rin_0101010': 7.706130883393228e-05, '9nfeX4WBl2ScRP8': 7.619613219661126e-05, 'lightdarkstar': 7.535009105030372e-05, 'mochio1137': 7.535009105030372e-05, 'chiba_lotte_ki': 7.535009105030372e-05, 'Kurosawa_31F': 7.503331744989857e-05, 'hbr_tamatama': 7.48814957600581e-05, 'socha_chabasira': 7.321871851237026e-05, 'FuguyaT': 7.321871851237026e-05, 'me6no2giri': 7.321871851237026e-05, 'KASUMI_AKEZORA': 7.321871851237026e-05, 'StarMikazuki922': 6.964796183376871e-05, 'animeanime2017': 6.964796183376871e-05, 'VHMkTqSavFxFeVK': 6.964796183376871e-05, 'TheaDash': 6.964796183376871e-05, 'naim_baharuddin': 6.964796183376871e-05, 'Blank000O': 6.964796183376871e-05, 'Eirenus': 6.964796183376871e-05, 'FZ_Fordy': 6.964796183376871e-05, 'keynote573': 6.964796183376871e-05, 'KAZUMIYAMASHIT5': 6.964796183376871e-05, 'steins56182706': 6.912674499996137e-05, 'AgriFishing': 6.912674499996137e-05, 'yatagami103': 6.912674499996137e-05, 'tmDRCVE9wvoHC7Y': 6.912674499996137e-05, 'hollynine0604': 6.912674499996137e-05, 'lastminutesonog': 6.912674499996137e-05, 'shion_amatsuki': 6.912674499996137e-05, 'tetsu_anaden77': 6.912674499996137e-05, 'ytk8484': 6.912674499996137e-05, '0NNc7a1QoLPiEj2': 6.912674499996137e-05, 'kensho_pro': 6.912674499996137e-05, 'L_Alcor': 6.897045880603486e-05, 'yamao_0000': 6.897045880603486e-05, 'nekopanchidazo': 6.897045880603486e-05, 'Persimummies': 6.897045880603486e-05, 'haruhiyo_vvv': 6.772158518668725e-05, 'P0vqd9nXZOQHsb2': 6.590486002794694e-05, 'akirasasao': 6.586129711819471e-05, 'yumerunaru': 6.48087761800385e-05, 'sumomo1433': 6.48087761800385e-05, 'nakinddoze': 6.48087761800385e-05, 'North_L_44D': 6.48087761800385e-05, 'a20haru': 6.428240498024455e-05, 'siroinanika': 6.302391674881046e-05, '9827_nob': 6.273534996442117e-05, 'amane_neteruyo': 6.206710605590173e-05, 'suu_Heavenburns': 6.187724037200002e-05, 'aguri_onishi': 6.187724037200002e-05, 'Kiryu_Miya': 6.187724037200002e-05, 'osinkomoriawase': 6.187724037200002e-05, 'ProProseka': 5.96665265481755e-05, 'hSgyEj7FDtwrsyk': 5.930644039257303e-05, 'NT3hBOmaz3FmxD6': 5.4999237166686185e-05, '1889qq': 5.4916718495805604e-05, '330neko_': 5.4916718495805604e-05, 'otofu213_27': 5.4916718495805604e-05, 'ZEN_KAMURO': 5.440626157409148e-05, 'syake52': 5.356468768846975e-05, 'NobunBun_Key': 5.326419551084421e-05, 'konomi00e': 5.247036301798838e-05, 'Sakurame_Miori': 5.215842050875969e-05, 'Drkrafft': 5.208184528923417e-05, 'Krafft_FF14': 5.208184528923417e-05, 'eruran30': 5.176393448584992e-05, 'asaruto78kai': 5.176393448584992e-05, 'aoi0103_ama': 5.176393448584992e-05, 'hirosocia': 5.176393448584992e-05, 'RURURURU_Ruuu': 5.176393448584992e-05, 'pokon_ch': 5.1402280964060516e-05, 'heavenburnsredU': 5.1161782283362214e-05, 'nana_1_rt': 5.074355933993754e-05, '136ku1': 5.074355933993754e-05, '0r2rs2DIU2n5xwK': 5.0646883049845536e-05, 'chaoszap': 5.0646883049845536e-05, 'HURIKUYA': 5.0646883049845536e-05, 'Kosyou21057': 5.0484659886264805e-05, 'og_ra': 4.956349833179481e-05, 'turanagi419': 4.928516746066189e-05, 'masausa_ni': 4.920426165154614e-05, 'manbougameover': 4.920426165154614e-05, '37ai52rg': 4.920426165154614e-05, 'doubt_down': 4.920426165154614e-05, 'misakura1000': 4.920426165154614e-05, 'parallax_kk': 4.920426165154614e-05, 'l4HqgZCuNXKeS20': 4.920426165154614e-05, 'Heav_bluesky': 4.920426165154614e-05, '__homeostasis__': 4.871028163669627e-05, 'PR03105438': 4.871028163669627e-05, 'jirou7489': 4.871028163669627e-05, 'miku_ncp131': 4.756822516240669e-05, 'ginga0715': 4.756822516240669e-05, 'rani_5921': 4.756822516240669e-05, 'koyukiklaani24': 4.6901851108473335e-05, 'Aya_168s': 4.672417054568839e-05, 'yui5to112': 4.462583864536977e-05, 'JSJtl1021': 4.4136664648815645e-05, 'tonkachi555': 4.2807621749545293e-05, 'natimia054': 4.204045728688107e-05, 'nichijo0418': 4.097788256775827e-05, 'shirakamifubuki': 4.068936326764014e-05, 'tomori_kusunoki': 4.048764094530648e-05, 'yoruneko_168': 4.0443907343230056e-05, 'moa__hb': 4.0354006560466383e-05, 'EkuACV': 3.8155487009544484e-05, 'hentaiblackcat': 3.8155487009544484e-05, 'Ruka_Kayamori': 3.8155487009544484e-05, 'Asami_Makiko': 3.8155487009544484e-05, 'haru65_key': 3.7789204065426205e-05, 'sabkinousitenai': 3.730566445501205e-05, 'apasshionaaaato': 3.68778304403541e-05, 'yoruongeki': 3.67248166627009e-05, 'ZtU3t': 3.67248166627009e-05, '__kymsk': 3.67248166627009e-05, 'sakyumiru_DX': 3.67248166627009e-05, 'sayo8810': 3.668947155276526e-05, 'yG8UyU9UuKM7hnX': 3.648190626734417e-05, 'allguesnner': 3.648190626734417e-05, 'rmk_strike': 3.4943184893085604e-05, 'love62235777': 3.4943184893085604e-05, 'hy19950921': 3.4943184893085604e-05, 'amanosakuya': 3.388448087699045e-05, 'kiminoyomesan': 3.382881302016295e-05, 'doubleZERO2': 3.356269383285292e-05, 'HBR_appmedia': 3.334954645819479e-05, 'Oishi8Happy': 3.2394731125959e-05, 'hatena_hatune': 3.2201504864426014e-05, 'Maron33890518': 3.2167331573380215e-05, 'm8BoFMJKzQV7wHP': 3.1482514413493906e-05, 'miyanagi2351': 3.1008213601950186e-05, 'Nemo_3710': 3.0844696006803527e-05, '1akcWjCdYnezLjE': 3.0844696006803527e-05, 'akichanmiku': 3.0844696006803527e-05, 'Rgrey00': 3.0811237895211824e-05, 'KurodaYukchi': 2.9552926046461947e-05, 'sin_77777': 2.9445964457238546e-05, 'RiNA_chocomint': 2.8729707024322906e-05, 'yoshihr222': 2.864556614861195e-05, 'cobayashi_intai': 2.7726953122876392e-05, 'pei_mpc': 2.673644844424361e-05, 'codauk': 2.668459915864334e-05, 'yehLzzysASvYdpd': 2.645501691108316e-05, 'maho01264512': 2.628722643414074e-05, 'kohuen': 2.5910155930700556e-05, 'hbbn_aoi': 2.5439621440377332e-05, 'Yotuba04_NATU': 2.5439621440377332e-05, 'V4sM9QrgtWvWZeC': 2.5285388066907414e-05, 'MFtuber': 2.5285388066907414e-05, 'Miutsutsu_Yuri': 2.5285388066907414e-05, 'si3ha9': 2.5285388066907414e-05, 'HitogataVT': 2.5285388066907414e-05, 'mochimugitaros': 2.5285388066907414e-05, 'watawata0456': 2.4526527138279677e-05, 'OYK211KYO': 2.4526527138279677e-05, 'JuanPuig99': 2.441751150494404e-05, 'yashiro_huuma': 2.441751150494404e-05, 'BaraMatsu_0927': 2.3765154953625266e-05, 'PZdzLDfDBA1ufn': 2.344791178853454e-05, 'kayamori_31A': 2.344791178853454e-05, 'starstarlessnig': 2.344791178853454e-05, 'admit056': 2.326300070069248e-05, 'yuuki20D': 2.2374640691347004e-05, 'KunimiTama_31A': 2.217215127721705e-05, 'you_asumit': 2.1922081428627683e-05, 'jam002pso2': 2.1922081428627683e-05, 'XSB3C_1Me155G': 2.1922081428627683e-05, 'shiki___game': 2.1922081428627683e-05, 'yukigatana': 2.1855379118792627e-05, 'sonic27key': 2.1855379118792627e-05, 'kataribe_peca': 2.0864187879310002e-05, 'KetcKtS': 2.0864187879310002e-05, 'kotoshiro_E': 2.0864187879310002e-05, 'aoinoani': 2.0864187879310002e-05, 'SHUNYA_0426': 2.0864187879310002e-05, 'curry_love_s': 2.0864187879310002e-05, '_TE4n': 2.0864187879310002e-05, 'rikka_dc3': 2.0864187879310002e-05, 'hiro2_jp_wbak': 2.0864187879310002e-05, 'satoyaku_': 2.0864187879310002e-05, 'veixiar': 2.0864187879310002e-05, 'jun_wakasa': 2.0864187879310002e-05, 'chisato59885632': 2.0777458923025386e-05, 'HbrKzy': 2.053940812711127e-05, 'awaji_yusuke': 1.967294597932707e-05, 'gjBEjcFZ8LEULaY': 1.9649464092954063e-05, 'ekYcy2kBTCKec1P': 1.9649464092954063e-05, 'revost13': 1.9646972798588487e-05, 'irohasu0x0': 1.9646972798588487e-05, 'hidamari_0504': 1.916813692635311e-05, 'pcattkm': 1.916813692635311e-05, 'GEKKOUCHOU': 1.915547522076796e-05, 'TTom0406': 1.9055801139130583e-05, 'nekonabe_alice': 1.9055801139130583e-05, 'tsukihi_bot_h': 1.9055801139130583e-05, 'tata_nanana': 1.9055801139130583e-05, 'tsugitte': 1.9030597491607954e-05, 'uguunayatura': 1.8804268487488852e-05, 'nyaruko8556': 1.8804268487488852e-05, 'Yuel_gs': 1.8804268487488852e-05, '3vxt8wLN5ymdZVQ': 1.880088790824989e-05, '824_aoi': 1.8530361587046817e-05, 'nagishy': 1.7776951000189124e-05, 'h1rok1music': 1.7776951000189124e-05, 'kanongameTV': 1.7612560568963075e-05, 'Hokoudo': 1.754184531631928e-05, 'otinplosion': 1.754184531631928e-05, 'monstuak': 1.7411614728936195e-05, 'shiro14_hm': 1.7310453792442956e-05, 'IllustG': 1.7062112650506128e-05, 'kaitona_utaoni': 1.7062112650506128e-05, 'zannenn01': 1.7043815166633094e-05, 'shooooo1003': 1.7002346498782934e-05, 'lelie_link': 1.647924896611708e-05, 'y0206_r': 1.6292965307938454e-05, 'amamiyurina': 1.5495956982779174e-05, 'Al_batross': 1.5416040314276812e-05, 'kometubu001': 1.5269040000008e-05, 's_yzio': 1.5258953882337306e-05, 'eva_mashiro': 1.4855929854336833e-05, 'MoriRice': 1.4809618325574703e-05, 'wizkou': 1.4799805086912582e-05, 'kakinuma_tales': 1.4762195583149874e-05, 'simitaka4343': 1.4674520824402015e-05, 'hotcocoa0624': 1.41930190676008e-05, 'kb_hata101': 1.4006516973936737e-05, 'koshuka__': 1.394305262064957e-05, 'West99974912': 1.3629446470496552e-05, 'honeyedvoice1': 1.3629446470496552e-05, 'kurobuti_80': 1.3629446470496552e-05, 'purplelove0611': 1.3629446470496552e-05, 'eomlz9': 1.3629446470496552e-05, 'Rsi5f2XTYkd5PFq': 1.3629446470496552e-05, 'ALTO_SS_LEPO': 1.3629446470496552e-05, 'sky1086a': 1.3629446470496552e-05, 'sebe_kiyo': 1.3629446470496552e-05, 'mari_soku': 1.3615549062996601e-05, 'wboM1jyuo9jkVfn': 1.3606549225682347e-05, 'amen_suya': 1.3606549225682347e-05, '190d_9': 1.3153320549985648e-05, 'tosiguiltyaxe': 1.3153320549985648e-05, 'Takeshi_Hojo': 1.3153320549985648e-05, 'chevron789ec': 1.3153320549985648e-05, 'hosiguma22': 1.3153320549985648e-05, 'kashmir22': 1.3153320549985648e-05, 'tessyoGenda': 1.3153320549985648e-05, 'darts_hinotama': 1.3153320549985648e-05, 'konisitosiki524': 1.3153320549985648e-05, 'dietheGeorge': 1.3153320549985648e-05, 'nemuritaikamon1': 1.3153320549985648e-05, 'ootorimonaha': 1.3153320549985648e-05, 'fujihiro7': 1.3153320549985648e-05, 'BlueEyes_alpaca': 1.3153320549985648e-05, 'sorobann': 1.3074457191778861e-05, 'Dream53182388': 1.3046029643658049e-05, 'pcak6VQXlTX4zs7': 1.2418574384222677e-05, 'YUKi_31A': 1.2390316441195531e-05, 'christianmolde8': 1.2280709460204002e-05, 'AXzksk6Cwof4y5P': 1.2280709460204002e-05, 'zarurin': 1.2280709460204002e-05, 'junko_101': 1.2280709460204002e-05, 'same10120303': 1.2273590297265559e-05, 'shishou205': 1.2273590297265559e-05, 'nooma_2000': 1.2273590297265559e-05, 'meanme_RT': 1.1961512172799045e-05, 'RetweetYaoi': 1.1961512172799045e-05, 'bugs_momo': 1.1961512172799045e-05, 'IAMNALMILUNA': 1.1961512172799045e-05, 'pokemonomoo': 1.1961512172799045e-05, 'genbu_06': 1.1932963969642809e-05, 'paroparo9': 1.1882577476812633e-05, '_warausagi': 1.1882577476812633e-05, 'Yakyaksoak': 1.1542890750496797e-05, '31D_Murofushi': 1.0117354444597069e-05, '8WqRpCQVbY3Aizl': 9.744783103577202e-06, 'diesel_turbo': 9.554052381373655e-06, 'Akatsu_kikki': 9.547745519268981e-06, 'sato_mikage': 9.374683964296136e-06, '0010illust': 9.374683964296136e-06, 'yapo_avabel': 9.207976740960168e-06, 'zero000444': 8.734713735028498e-06, 'yuki112823': 8.734713735028498e-06, 'viktor_liu': 7.939053954084339e-06, 'CieL08_A': 7.884263647418688e-06, '_tokine3594': 7.560301813415643e-06, 'J_P_satsukibyo': 7.048873283674724e-06, 'M1yA_____': 6.524493125783711e-06, 'pekosan115115': 6.524493125783711e-06, 'Suzuneko1114': 6.524493125783711e-06, 'mjtakitaki': 5.256323403840706e-06, 'RmKanae': 5.256323403840706e-06, 'ru_to_mj0623': 5.256323403840706e-06, 'FaXZB60d0IX9Xdz': 5.256323403840706e-06, 'pieeruu31': 5.142552753752029e-06, 'hotokoko': 5.142552753752029e-06, 't1_125_tomo': 4.850002598321197e-06, 'saya21sniper': 4.725648642618983e-06, 'Hiro_mizuki': 4.725648642618983e-06, 'Toito_Hikai': 4.725648642618983e-06, 'rs6000jp': 4.725648642618983e-06, 'AlexFu1214': 4.725648642618983e-06, 'luchert_lusty': 4.725648642618983e-06, 'mintoizayoi': 4.725648642618983e-06, 'inod1205': 4.725648642618983e-06, 'e5229846': 4.725648642618983e-06, 'model701hanrei': 4.725648642618983e-06, 'lh990512': 4.725648642618983e-06, 't31455a': 4.725648642618983e-06, 'Tact_M': 4.725648642618983e-06, 'Lemon11451469': 4.725648642618983e-06, 'shiranui_guren': 4.725648642618983e-06, 'dream90981': 4.725648642618983e-06, 'megaswordh': 4.725648642618983e-06, 'SternFuhrer': 4.725648642618983e-06, 'ZAC28ppyp': 4.725648642618983e-06, 'Toketapino_DMP': 4.725648642618983e-06, 'ayuayujanaimon': 4.725648642618983e-06, 'sawatariyuki': 4.725648642618983e-06, 'sin_miyu1127': 4.725648642618983e-06, 'pzr900': 4.725648642618983e-06, 'xQMWT5qAkUDh21k': 4.725648642618983e-06, 'm_twin': 4.725648642618983e-06, 'murabito_kaede': 4.725648642618983e-06, '_FirstPiece': 4.725648642618983e-06, '240sx_hyogo': 4.725648642618983e-06, 'akari3prpr': 4.725648642618983e-06, 'wt_yznaw': 4.725648642618983e-06, 'Acrylic_naco': 4.725648642618983e-06, 'usa_mitha': 4.725648642618983e-06, 'nanagi0501': 4.725648642618983e-06, 'KK47510420': 4.725648642618983e-06, 'Kanon_xp_1397': 4.725648642618983e-06, 'Lullshare__': 4.725648642618983e-06, 'KiRA_PP': 4.725648642618983e-06, 'Flamespica': 4.725648642618983e-06, 'TouArigaMoemie': 4.4797874275715635e-06, 'aiharayou': 4.4797874275715635e-06, 'kolokolon0314': 4.380853585380194e-06, 'ssmt815': 4.113304606084616e-06, 'cyN4JhsGtiygwQr': 3.6493306289530045e-06, 'Rc2o6NMdLuf6iwt': 3.0303433633143787e-06, 'shinonome0584': 2.6089510880951726e-06, 'shirokuromega': 2.524366092397637e-06, 'SsGXglpg8vCP4Vh': 2.5226996976728623e-06, 'mountain_roket': 2.5056143447206867e-06, 'glassheartclean': 2.1314545166045444e-06, 'ryo77542784': 2.0952478497842827e-06, 'AZRAEL_BBCP': 1.739893720507541e-06, 'Imapeace31': 1.739893720507541e-06, 'ts76573': 1.739893720507541e-06, 'kagil103': 1.739893720507541e-06, 'nekotya135': 1.695438330029248e-06, 'Laide0315': 1.4206527859842897e-06, 'ricchan37': 1.3976990246188785e-06, 'Akatuki_Gaia': 1.3976990246188785e-06, 'KatsuHANA1': 1.3206431059846871e-06, 'vier_ein': 1.3206431059846871e-06, 'kosakurakohaku': 1.3206431059846871e-06, 'Luorittu': 1.3206431059846871e-06, 'aduyh_': 1.3206431059846871e-06, 'mamarasu': 1.3206431059846871e-06, 'nagi_k46': 1.2971980029905972e-06, 'Y_TYago9989': 1.2971980029905972e-06, 'catflish': 1.2971980029905972e-06, 'PSO2_Zetsu': 1.099732512660945e-06, 'mogurer': 1.099732512660945e-06, 'kamijotoma930': 1.099732512660945e-06, 'chan_gan': 1.099732512660945e-06, 'rikutenzyo666': 1.0800436627674076e-06, 'Kafumocaa': 1.0453162959377837e-06, 'JeissonSandov14': 1.0401264220720312e-06, 'staiga20to22': 1.0401264220720312e-06, 'peeExvsdQNHnNS6': 1.0401264220720312e-06, 'BKchvAfYptLvYKc': 1.0401264220720312e-06, 'ing_krn': 1.0401264220720312e-06, 'qd2KmGpcLpLJ9tC': 1.0390029084978738e-06, 'geko_kujirai': 1.0390029084978738e-06, 'SatsukiYuzu69': 8.705208800121172e-07, 'EPcYOcd8OYeaAhQ': 8.705208800121172e-07, 'dekunookasi': 8.696314321700207e-07, 'Miminan66645321': 8.690573675876317e-07, 'Gerra08K': 8.690573675876317e-07, 'yukito980716': 8.690573675876317e-07, 'suiren_556': 8.690573675876317e-07, 'rai_dojikko': 8.690573675876317e-07, 'sin_ku_kan': 8.690573675876317e-07, 'monoX_if': 8.690573675876317e-07, 'orosran_bulcket': 8.690573675876317e-07, 't_tbis': 8.690573675876317e-07, 'karad_syu': 8.690573675876317e-07, 'showroomlive_12': 8.690573675876317e-07, 'UltraFreeLoader': 8.690573675876317e-07, 'ere_g5': 8.567544340522134e-07, 'blue_sky101010': 8.323729259128487e-07, 'kuro96che': 8.323729259128487e-07, 'kiyomaroP': 8.323729259128487e-07, 'waskn0': 6.869367100374362e-07, 'Furious2150': 6.796342428849702e-07, 'ma_fish07_aj': 5.053969317537343e-07, 'specialman2011': 5.053969317537343e-07, 'cpullip7777': 4.830009491887e-07, 'mii_mimisumaRT': 4.830009491887e-07, 'hitomisub': 4.830009491887e-07, 'ha_1206_': 4.830009491887e-07, 'KtVLf23XHLFQt8w': 4.830009491887e-07, 'blackdog1tokyo': 4.830009491887e-07, '7EP4ytRmc5z55gp': 4.830009491887e-07, 'ILxcMg1doRbkqco': 4.830009491887e-07, 'NaRpMeZWg6owRNO': 4.830009491887e-07, 'allonelive': 4.830009491887e-07, '_____nakauji': 4.830009491887e-07, 'tomoko199110': 4.830009491887e-07, 'HKAl81078896': 4.830009491887e-07, 'mamin0383': 4.830009491887e-07, 'Ab0QGoFGZCxS5Pn': 4.830009491887e-07, 'syosyo71': 4.830009491887e-07, 'maminsub1': 4.830009491887e-07, 'Mie20202': 4.830009491887e-07, 'gqIEx9JtlzJc1Yk': 4.7612592051090204e-07, 'hetanari': 4.7612592051090204e-07, 'Yousaku03457209': 4.7612592051090204e-07, 'chanso1017': 4.7612592051090204e-07, 'timpani_0895_OK': 4.7612592051090204e-07, 'Nintendo_sub': 4.7612592051090204e-07, 'nenubichi': 4.7612592051090204e-07, 'shinobu0894': 4.7612592051090204e-07, 'GreenPiyo': 4.7612592051090204e-07, 'takuossan': 4.7612592051090204e-07, 'masapon523': 4.7612592051090204e-07, 'FYQIOFzt23hkgcr': 4.7612592051090204e-07, 'a1LpRlQBzLU9FQ4': 4.5670665495880837e-07, 'O25oi53mPUUlyn4': 4.5670665495880837e-07, 'soxxtuki': 4.525592627193204e-07, 'M18171761': 4.525592627193204e-07, 'ninj1n_noob': 4.525592627193204e-07, 'GODPOTAKUGOD': 4.525592627193204e-07, 'hudie0214': 4.4730498871028316e-07, 'PainOfSaint': 4.4730498871028316e-07, 'doroa_gbf': 4.4730498871028316e-07, 'eroba': 4.4730498871028316e-07, 'rider_ixa': 4.368826404371477e-07, 'nozawadesuy': 3.9261522598772615e-07, 'Sigma59826129': 3.8164987748641583e-07, 'mirror723': 3.770705034401865e-07, 'butter_piko': 3.502446162302526e-07, 'SHULOVEYUI': 2.4544965451296673e-07, 'TARABAGANIDAZE': 2.0258690477798984e-07, 'komeigame': 1.1256342970722723e-07, 'loki_douga': 9.383285282634734e-08, 'blueice_193setu': 9.377091147911959e-08, 'minimini_youkan': 7.786251344077198e-08, 'sitisiki': 6.48645570290853e-08, '_shimo_6011': 5.3835958126774375e-08, 'lunalov53631169': 4.356290975223789e-08, 'youtube59489038': 4.356290975223789e-08, '_nagi___': 2.234597396633657e-08, 'mloginn': 1.0086117670698455e-08, 'Rinin_Kan': 8.999837314253113e-09, 'LegendRukaGRACE': 8.999837314253113e-09, 'HanaBixss': 2.410602149949828e-09, 'menma_lulululu': 5.460626936560543e-153, 'yarrows11': 1.1916064894620714e-153, 'N19527812': 1.1916064894620714e-153, 'haneaiko': 1.1916064894620714e-153, 'harumareita': 1.1916064894620714e-153, 'morikinesis': 1.1916064894620714e-153, 'nekozuki00222': 1.1916064894620714e-153, 'midori_3ch': 1.1916064894620714e-153, 'harumagemagesan': 1.1916064894620714e-153, 'ROCCA_GAME_YT': 1.1916064894620714e-153, 'koigokoronotoki': 1.1916064894620714e-153, 'odaokajiro': 1.1916064894620714e-153, 'EThegameworld': 1.1916064894620714e-153, 'Yaz_Games': 1.1916064894620714e-153, '6Dqm0s': 1.1916064894620714e-153, 'Kome28R': 1.1916064894620714e-153, 'KI_YA329': 1.1916064894620714e-153, 'MomonoMoren': 1.1916064894620714e-153, 'Yusura777': 1.1916064894620714e-153, 'bba_yonakano': 1.1916064894620714e-153, 'unalu1099': 1.1916064894620714e-153, 'magame2021': 1.1916064894620714e-153, 'Angedchueru': 1.124676509269469e-157, 'LOCKCONCONTAN2': 2.8827070163418655e-158, 'IkkiTenryuu': 2.644273062993492e-158, 'Giii99881304': 2.644273062993492e-158, 'harvestpoti0110': 2.644273062993492e-158, 'Ayakoji_1020': 2.644273062993492e-158, 'dreamriser_0102': 2.644273062993492e-158, 'Fenrei': 2.644273062993492e-158, 'get26896158': 2.644273062993492e-158, 'naska1977': 2.644273062993492e-158, 'ororniku': 2.644273062993492e-158, '2017saegusa': 2.644273062993492e-158, 'zxcced327': 2.644273062993492e-158, 'FlutistAnt': 2.644273062993492e-158, 'eruchanno': 2.644273062993492e-158, 'z043wa3te1ru': 2.644273062993492e-158, 'farbe_krapprot': 2.644273062993492e-158, '_Gustav_Klimt': 2.644273062993492e-158, '0617_tsy': 2.644273062993492e-158, 'mimii_channel': 1.0141201757718312e-158, 'D28kM': 2.3843395334837327e-159, 'Light_7018': 2.3843395334837327e-159, 'GnomeA2': 2.3843395334837327e-159, 'Nanouni104': 2.3843395334837327e-159, 'xs9ESMmu5Q1vWqX': 2.3843395334837327e-159, '_mama_maya': 2.3843395334837327e-159, 'mpy_yooooo': 2.8401733159911346e-170, 'taurin_73': 8.1988741426633675e-171, 'Jl2Za7THBZ1NwfZ': 8.1988741426633675e-171, 'dai70d': 8.1988741426633675e-171, 'Suzacoin': 8.1988741426633675e-171, 'ranshi_kun': 8.1988741426633675e-171, 'maica_jiro': 8.1988741426633675e-171, 'Paresse2020': 8.1988741426633675e-171, 'nekros_dagda': 8.1988741426633675e-171, 'VRtennigirl_K': 8.1988741426633675e-171, 'kZ3guB7BMmhj2dW': 8.1988741426633675e-171, 'Gzny3LiRQ9ekNa8': 8.1988741426633675e-171, 'AtLas_SYOTA': 8.1988741426633675e-171, 'nekomachimomo': 7.18398747181116e-173, 'xxMiichxx': 7.18398747181116e-173, 'MacchaFlan0650': 2.1660537220555928e-173, 'DarkRedshift': 2.1660537220555928e-173, 'Tenmei_1202': 2.1660537220555928e-173, 'Derpy_Starhead': 2.1660537220555928e-173, 'BackseatMario': 2.1660537220555928e-173, 'Rio59174552': 2.1660537220555928e-173, 'yuurakuyukio': 2.1660537220555928e-173, 'Acopiltaczet': 2.1660537220555928e-173, 'JoseAngulo21': 2.1660537220555928e-173, 'addy__one': 2.1660537220555928e-173, 'meijisha': 2.1660537220555928e-173, 'totake351435171': 2.1660537220555928e-173, 'Rioshis': 2.1660537220555928e-173, 'usaginet': 2.1660537220555928e-173, '1691miko': 2.1660537220555928e-173, 'W9w9u8BzBG5N0nG': 2.1660537220555928e-173, 'fRJBmVrSfow5gJK': 2.1660537220555928e-173, 'mochikin1218': 2.1660537220555928e-173, 'dangoSuperior': 2.1660537220555928e-173, 'ginironyanko': 2.1660537220555928e-173, 'saketosakana3': 2.1660537220555928e-173, 'FTarayev': 2.1660537220555928e-173, 'ripojisu': 1.1005420059740019e-175, 'nagazinn': 3.4802193995684815e-176, 'noeda2020': 3.4802193995684815e-176, 'asagakiraisa': 3.4802193995684815e-176, 'teilsyousetu': 3.4802193995684815e-176, 'irastlovely': 3.4802193995684815e-176, 'onakagasuitak': 3.4802193995684815e-176, 'chicchi_s_c': 3.4802193995684815e-176, 'shoanaden': 3.4802193995684815e-176, 'hakuoden': 3.4802193995684815e-176, 'lionsryoji': 3.4802193995684815e-176, 'Aizome_Riria': 3.3192867489863e-190, 'Yomomo173': 1.355093140833011e-190, 'kishina28': 1.355093140833011e-190, 'takemitsu8021': 1.355093140833011e-190, 'pararaoshigoto': 1.355093140833011e-190, 'Teihen__Panda': 1.355093140833011e-190, 'vtsekka': 1.355093140833011e-190, 'hanaseurara': 3.835475919820548e-195, 'CreatorProjects': 1.715276976556456e-195, 'tanemakiflower': 1.715276976556456e-195, 'PoChiChi_Wan': 1.715276976556456e-195, 'fukuri_kosame': 1.715276976556456e-195, 'TamashiAl': 1.715276976556456e-195, 'kouseiinA': 5.348886812180751e-201, 'vu_his': 5.348886812180751e-201, 'ka61_neu': 5.348886812180751e-201, 'fatesupa': 2.674443406090376e-201, 'chata_game': 2.674443406090376e-201, 'Sakuraba_moel': 2.674443406090376e-201, 'unataros3': 2.674443406090376e-201, 'PSLpYisRSUCfECE': 2.674443406090376e-201, 'buibui3966': 2.674443406090376e-201, 'sameriki141215': 2.674443406090376e-201, 'Y0sH1u': 2.674443406090376e-201, '1GmAhyKxi4jKtIl': 2.674443406090376e-201, 'RizaYMT': 2.674443406090376e-201, 'krkmAkre': 2.674443406090376e-201, 'zrm310': 2.674443406090376e-201, 'VERTEC9': 3.130988066537468e-208, 'Iktc_xiix': 3.130988066537468e-208, 'Managarmr_pp': 3.130988066537468e-208, 'okusanhayabai': 3.130988066537468e-208, 'Bhai_Rab420': 3.130988066537468e-208, 'Journey_of_MiRa': 3.130988066537468e-208, 'yassan3330410': 1.8076768030449131e-208, '3WlXiGyfT77tGhf': 1.8076768030449131e-208, 'UDMR18': 1.8076768030449131e-208, 'soul_sphinx': 1.8076768030449131e-208, 'tknk_AE': 1.8076768030449131e-208, 'iamfoxesxi': 1.8076768030449131e-208, 'XseTsuX4010': 1.8076768030449131e-208, 'takKRITIKA1': 1.8076768030449131e-208, 'di_yma': 1.8076768030449131e-208, 'nekohirominn': 1.8076768030449131e-208, 'jjubeat_NV_SK_R': 1.8076768030449131e-208, 'OnabeNiMaro23': 1.8076768030449131e-208, 'yu_puriconne': 1.8076768030449131e-208, 'konatakamin': 1.8076768030449131e-208, 'RkKSVOp7qrePPB7': 1.8076768030449131e-208, 'Lmno_PPP': 1.8076768030449131e-208, 'Gululu_ddmk': 1.8076768030449131e-208, 'Keiyan2525': 1.8076768030449131e-208, 'kamisato_family': 1.4184857924888236e-211, 'game0573': 1.4184857924888236e-211, 'EtiFwk7f3XV3xpO': 8.766724323169233e-212, 'kou_09_16': 8.766724323169233e-212, 'XL22DQ6SDNdVRTK': 8.605023444859195e-218, 'bar_aniani622': 8.605023444859195e-218, 'SayUEChannel': 8.605023444859195e-218, 'negoto_nezou': 8.605023444859195e-218, 'SuzumeCH555': 8.605023444859195e-218, 'Amasora_Ia': 8.605023444859195e-218, 'Roy700210': 8.605023444859195e-218, 'mentai_mi': 8.605023444859195e-218, 'RIRI_Lily55': 8.605023444859195e-218, 'INUyoriNEKO14': 8.605023444859195e-218, 'hanayuyuzu': 8.605023444859195e-218, 'GU5jP4dZogyfkDl': 8.605023444859195e-218, 'howagyuuu': 8.605023444859195e-218, 'louis_art_': 8.605023444859195e-218, '23tubusi': 8.605023444859195e-218, 'kuria_games': 8.605023444859195e-218, 'FreemanVolg': 8.605023444859195e-218, 'whitecolonel1': 8.605023444859195e-218, 'hypelions': 8.605023444859195e-218, 'simaji02': 8.605023444859195e-218, 'if_ikaruga321': 6.084670430129161e-218, 'pontawings': 6.084670430129161e-218, 'R___Tsion_to': 6.084670430129161e-218, 'meganenokiwami': 6.084670430129161e-218, 'pet_rao': 6.084670430129161e-218, 'ikiataribatario': 6.084670430129161e-218, 'tukiyoru23': 6.084670430129161e-218, 'uec_seiyu_bunka': 6.084670430129161e-218, 'gamingH75355067': 6.084670430129161e-218, 'CkwAlTIYVxeIQDo': 6.084670430129161e-218, 'Hayabusa_prsk': 6.084670430129161e-218, 'KAF_Muku': 6.084670430129161e-218, 'SoulKtr': 6.084670430129161e-218, 'MUSIC04917394': 6.084670430129161e-218, 'ho7714961': 6.084670430129161e-218, 'kagetora_o_o': 6.084670430129161e-218, 'hira70883592': 6.084670430129161e-218, 'OscarLo77591325': 6.084670430129161e-218, 'rinji0401': 6.084670430129161e-218, 'StoK4645': 6.084670430129161e-218, 'vtubersdaily': 6.084670430129161e-218, 'jie980210': 6.084670430129161e-218, 'beat_pop': 6.084670430129161e-218, 'shuryou_obhr': 6.084670430129161e-218, 'go5jouka': 6.084670430129161e-218, 'garura_Key': 6.084670430129161e-218, 'ATOM6331': 6.084670430129161e-218, 'himanasabu': 6.084670430129161e-218, 'KuonSuou': 6.084670430129161e-218, 'ponkotsu155': 6.084670430129161e-218, 'AnGrY_cAt_0000': 6.084670430129161e-218, '81H4OIgZY63Tc1L': 6.084670430129161e-218, 'post_No77': 6.084670430129161e-218, 'momoch_momonga': 6.084670430129161e-218, 'ghr48': 6.084670430129161e-218, 'torikaramixup': 6.084670430129161e-218, 'yu3bb': 6.084670430129161e-218, 'rusha_ff14ridil': 6.084670430129161e-218, 'wpt2lklBAEGpMbZ': 6.084670430129161e-218, 'mirai_setuna': 6.084670430129161e-218, 'kentaroh_8050': 2.4211366169491288e-232, 'Naki1Cl': 2.4211366169491288e-232, 'oR5n8b22IRMn5dS': 2.4211366169491288e-232, 'creatorharu': 2.4211366169491288e-232, 'simo74031763': 2.4211366169491288e-232, 'teokuon': 2.4211366169491288e-232, 'mossanfavo': 2.4211366169491288e-232, 'LuciAchilles': 2.4211366169491288e-232, 'Sayuuu72': 2.4211366169491288e-232, 'Amaj7_add9': 2.4211366169491288e-232, 'omotezawayoshio': 2.4211366169491288e-232, 'trevligliv525': 2.4211366169491288e-232, 'hokamoko4': 2.4211366169491288e-232, 'NeriJin_Fairya': 2.4211366169491288e-232, 'rika76680426': 2.4211366169491288e-232, 'I0C0O9gO4yF51eD': 2.4211366169491288e-232, 'XwcSx81V9x8T9De': 2.4211366169491288e-232, 'yoimono1blog': 2.4211366169491288e-232, 'Rosen_Pi': 2.4211366169491288e-232, 'heroboy_pi': 2.4211366169491288e-232, 'A66chan': 2.4211366169491288e-232, 'FairyGod_Clash': 2.4211366169491288e-232, 'LRfdT74AZoxMqhw': 2.4211366169491288e-232, 'Jack_Moon_Night': 2.4211366169491288e-232, 'mongol_guchi': 2.4211366169491288e-232, 'neo_mongol18': 2.4211366169491288e-232, 'yu_nj61': 2.4211366169491288e-232, 'kanademia215': 2.4211366169491288e-232, 'TYrGQRVoiROKe34': 2.4211366169491288e-232, 'Analog_B1': 2.4211366169491288e-232, 'dmpwbs': 2.4211366169491288e-232, 'No_239': 2.4211366169491288e-232, 'WTn2tbRe6SLHK0U': 2.4211366169491288e-232, 'kazu_Vtuber': 2.4211366169491288e-232, 'koyakouki0726': 2.4211366169491288e-232, 'uchida_shu0524': 2.4211366169491288e-232, 'gamikunnn': 2.4211366169491288e-232, 'rimuranaidene': 2.4211366169491288e-232, 'Blacksheep_6969': 2.4211366169491288e-232, 'nanami_asagi777': 2.4211366169491288e-232, 'darts_key': 2.4211366169491288e-232, 'oogiri_zamurai': 2.4211366169491288e-232, 'epicac7': 2.4211366169491288e-232, 'Buraratchukyu': 2.4211366169491288e-232, 'dSvhQRG1HimhwH4': 2.4211366169491288e-232, 'yaesen_nagi': 2.4211366169491288e-232, 'xymoeInnfQ5umLA': 2.4211366169491288e-232, 'hiro_kurea': 2.4211366169491288e-232, 'ayasaki_komarin': 2.4211366169491288e-232, 'My_sister_Kudo': 2.4211366169491288e-232, 'nekonekol0324': 2.4211366169491288e-232, 'IOaiZgYvPrR6LIn': 2.4211366169491288e-232, 'hhwwddii2': 2.4211366169491288e-232, 'Juso02418878': 2.4211366169491288e-232, 'Miki29788384': 2.4211366169491288e-232, 'dRecF3pYDVHBL92': 2.4211366169491288e-232, 'milktank_mole': 2.4211366169491288e-232, '10tomoya20': 2.4211366169491288e-232, '2136_taku': 2.4211366169491288e-232, 'mittann1007ww': 2.4211366169491288e-232, 'eiennhumetu': 2.4211366169491288e-232, 'mukurohukurou': 2.4211366169491288e-232, 'AK_akki_HBR': 2.4211366169491288e-232, 'AK_akki_24': 2.4211366169491288e-232, 'JonnySpong': 2.4211366169491288e-232, 'jurn55aw': 2.4211366169491288e-232, 'safiroanejo': 2.4211366169491288e-232, 'poa_moba': 2.4211366169491288e-232, '7easXA': 2.4211366169491288e-232, 'karasusousui': 2.4211366169491288e-232, 'Cocoafuumi': 2.4211366169491288e-232, 'tanakaichizoku5': 2.4211366169491288e-232, 'y79ia': 2.4211366169491288e-232, 'sakuramochi0039': 2.4211366169491288e-232, 'Naru040911': 2.4211366169491288e-232, 'bane950123_2': 2.4211366169491288e-232, 'amount_wata06': 2.4211366169491288e-232, 'aoki73227': 2.4211366169491288e-232, 'Yuka98365649': 2.4211366169491288e-232, 'neo_neko': 2.4211366169491288e-232, 'kn_3mkt': 2.4211366169491288e-232, 'xxsB17RplcleI40': 2.4211366169491288e-232, 'freezaDB530000': 2.4211366169491288e-232, 'hiragi_1106': 2.4211366169491288e-232, 'DJ_1KB': 2.4211366169491288e-232, 'C0tETsTeZ4vOs4p': 2.4211366169491288e-232, 'Attirant_echun': 2.4211366169491288e-232, 'rank0520': 2.4211366169491288e-232, 'mao_mugi': 2.4211366169491288e-232, 'HBR_31B': 2.4211366169491288e-232, 'gkaohal': 2.4211366169491288e-232, 'AoHal_GZ': 2.4211366169491288e-232, 'watuki09': 2.4211366169491288e-232, 'soyokaze_senpai': 2.4211366169491288e-232, '_momo_666666666': 2.4211366169491288e-232, 'Rorschach710': 2.4211366169491288e-232, 'ROOTSRMDR': 2.4211366169491288e-232, 'ALICE666RagMas': 2.4211366169491288e-232, 'ono1005liene': 2.4211366169491288e-232, 'paipai_daisuko': 2.4211366169491288e-232, 'harunoto_aokana': 2.4211366169491288e-232, 'CXSZIDycw7jLYEz': 2.4211366169491288e-232, 'lanp0007820000': 2.4211366169491288e-232, 'mio_hoshitani': 2.4211366169491288e-232, 'Dizoko_': 2.4211366169491288e-232, 'kasugamaho': 2.4211366169491288e-232, 'titansaxis': 2.4211366169491288e-232, 'Revise_PWL': 2.4211366169491288e-232, 'Gnome_Yocchi': 2.4211366169491288e-232, 'kei_irome': 2.4211366169491288e-232, 'Bw4jDp': 2.4211366169491288e-232, 'quiz_riku': 2.4211366169491288e-232, 'bc_boclbhbr08': 2.4211366169491288e-232, 'ENA_mon01': 2.4211366169491288e-232, 'Yoko61749026': 2.4211366169491288e-232, 'SuuRWwtlTLGZMUq': 2.4211366169491288e-232, 'maTsu_NOPPE': 2.4211366169491288e-232, 'shizuku_drop_45': 2.4211366169491288e-232, 'Aoi15430864': 2.4211366169491288e-232, 'T_CaliforniaX': 2.4211366169491288e-232, 'haruhi__xx': 2.4211366169491288e-232, 'makkuiyoutube': 2.4211366169491288e-232, 'aoki_seirei': 2.4211366169491288e-232, 'nanasi_game07': 2.4211366169491288e-232, 'Esper1x': 2.4211366169491288e-232, 'Holmes_________': 2.4211366169491288e-232, 'YAI_yuzurihai': 2.4211366169491288e-232, 'ARTO27518136': 2.4211366169491288e-232, 'R_X_rated': 2.4211366169491288e-232, 'asuka_sp': 2.4211366169491288e-232, 'sumaragd': 2.4211366169491288e-232, 'rionos': 2.4211366169491288e-232, 'syungiku_moti': 2.4211366169491288e-232, 'JDTJ8ma7tYzdCqC': 2.4211366169491288e-232, 'Hira87672280': 2.4211366169491288e-232, 'lAKhgJbER8Hjtd2': 2.4211366169491288e-232, 'NightMono': 2.4211366169491288e-232, 'sakadachi_kun22': 2.4211366169491288e-232, '80rWg4Ly5mkkZtt': 2.4211366169491288e-232, 'ron_voice_917': 2.4211366169491288e-232, 'wakiming_umpd': 2.4211366169491288e-232, 'DgameKi': 2.4211366169491288e-232, 'yahuhinu_star': 2.4211366169491288e-232, 'ikke_irene': 2.4211366169491288e-232, 'illvamechi_1228': 2.4211366169491288e-232, 'key_official': 2.4211366169491288e-232}\n"
          ]
        }
      ]
    },
    {
      "cell_type": "markdown",
      "source": [
        "Hasil menjadi Dataframe"
      ],
      "metadata": {
        "id": "APcpzCrksPCS"
      }
    },
    {
      "cell_type": "code",
      "source": [
        "list_influence = list(nilai_centrality.keys())\n",
        "list_nilai = list(nilai_centrality.values())\n",
        "\n",
        "df_influence = pd.DataFrame({'Username' : list_influence, 'Nilai Eigenvector' : list_nilai})\n",
        "df_influence.head(11)"
      ],
      "metadata": {
        "colab": {
          "base_uri": "https://localhost:8080/",
          "height": 394
        },
        "id": "0bG0pdCGpM15",
        "outputId": "9f438c94-33d3-435d-f883-90a4b59814a3"
      },
      "execution_count": 103,
      "outputs": [
        {
          "output_type": "execute_result",
          "data": {
            "text/plain": [
              "          Username  Nilai Eigenvector\n",
              "0   heavenburnsred           0.699312\n",
              "1        Yuugen_99           0.040409\n",
              "2         ndjiru_n           0.040397\n",
              "3         092596Tk           0.038065\n",
              "4        Tatika081           0.029662\n",
              "5    KegurunekuR33           0.028999\n",
              "6      game_tori10           0.028088\n",
              "7       ogayan0301           0.026894\n",
              "8      kegani_0207           0.026858\n",
              "9    DIVAvivylove1           0.026283\n",
              "10      sera050520           0.025813"
            ],
            "text/html": [
              "\n",
              "  <div id=\"df-6739a721-c363-4341-824b-906d5dc36ff5\">\n",
              "    <div class=\"colab-df-container\">\n",
              "      <div>\n",
              "<style scoped>\n",
              "    .dataframe tbody tr th:only-of-type {\n",
              "        vertical-align: middle;\n",
              "    }\n",
              "\n",
              "    .dataframe tbody tr th {\n",
              "        vertical-align: top;\n",
              "    }\n",
              "\n",
              "    .dataframe thead th {\n",
              "        text-align: right;\n",
              "    }\n",
              "</style>\n",
              "<table border=\"1\" class=\"dataframe\">\n",
              "  <thead>\n",
              "    <tr style=\"text-align: right;\">\n",
              "      <th></th>\n",
              "      <th>Username</th>\n",
              "      <th>Nilai Eigenvector</th>\n",
              "    </tr>\n",
              "  </thead>\n",
              "  <tbody>\n",
              "    <tr>\n",
              "      <th>0</th>\n",
              "      <td>heavenburnsred</td>\n",
              "      <td>0.699312</td>\n",
              "    </tr>\n",
              "    <tr>\n",
              "      <th>1</th>\n",
              "      <td>Yuugen_99</td>\n",
              "      <td>0.040409</td>\n",
              "    </tr>\n",
              "    <tr>\n",
              "      <th>2</th>\n",
              "      <td>ndjiru_n</td>\n",
              "      <td>0.040397</td>\n",
              "    </tr>\n",
              "    <tr>\n",
              "      <th>3</th>\n",
              "      <td>092596Tk</td>\n",
              "      <td>0.038065</td>\n",
              "    </tr>\n",
              "    <tr>\n",
              "      <th>4</th>\n",
              "      <td>Tatika081</td>\n",
              "      <td>0.029662</td>\n",
              "    </tr>\n",
              "    <tr>\n",
              "      <th>5</th>\n",
              "      <td>KegurunekuR33</td>\n",
              "      <td>0.028999</td>\n",
              "    </tr>\n",
              "    <tr>\n",
              "      <th>6</th>\n",
              "      <td>game_tori10</td>\n",
              "      <td>0.028088</td>\n",
              "    </tr>\n",
              "    <tr>\n",
              "      <th>7</th>\n",
              "      <td>ogayan0301</td>\n",
              "      <td>0.026894</td>\n",
              "    </tr>\n",
              "    <tr>\n",
              "      <th>8</th>\n",
              "      <td>kegani_0207</td>\n",
              "      <td>0.026858</td>\n",
              "    </tr>\n",
              "    <tr>\n",
              "      <th>9</th>\n",
              "      <td>DIVAvivylove1</td>\n",
              "      <td>0.026283</td>\n",
              "    </tr>\n",
              "    <tr>\n",
              "      <th>10</th>\n",
              "      <td>sera050520</td>\n",
              "      <td>0.025813</td>\n",
              "    </tr>\n",
              "  </tbody>\n",
              "</table>\n",
              "</div>\n",
              "      <button class=\"colab-df-convert\" onclick=\"convertToInteractive('df-6739a721-c363-4341-824b-906d5dc36ff5')\"\n",
              "              title=\"Convert this dataframe to an interactive table.\"\n",
              "              style=\"display:none;\">\n",
              "        \n",
              "  <svg xmlns=\"http://www.w3.org/2000/svg\" height=\"24px\"viewBox=\"0 0 24 24\"\n",
              "       width=\"24px\">\n",
              "    <path d=\"M0 0h24v24H0V0z\" fill=\"none\"/>\n",
              "    <path d=\"M18.56 5.44l.94 2.06.94-2.06 2.06-.94-2.06-.94-.94-2.06-.94 2.06-2.06.94zm-11 1L8.5 8.5l.94-2.06 2.06-.94-2.06-.94L8.5 2.5l-.94 2.06-2.06.94zm10 10l.94 2.06.94-2.06 2.06-.94-2.06-.94-.94-2.06-.94 2.06-2.06.94z\"/><path d=\"M17.41 7.96l-1.37-1.37c-.4-.4-.92-.59-1.43-.59-.52 0-1.04.2-1.43.59L10.3 9.45l-7.72 7.72c-.78.78-.78 2.05 0 2.83L4 21.41c.39.39.9.59 1.41.59.51 0 1.02-.2 1.41-.59l7.78-7.78 2.81-2.81c.8-.78.8-2.07 0-2.86zM5.41 20L4 18.59l7.72-7.72 1.47 1.35L5.41 20z\"/>\n",
              "  </svg>\n",
              "      </button>\n",
              "      \n",
              "  <style>\n",
              "    .colab-df-container {\n",
              "      display:flex;\n",
              "      flex-wrap:wrap;\n",
              "      gap: 12px;\n",
              "    }\n",
              "\n",
              "    .colab-df-convert {\n",
              "      background-color: #E8F0FE;\n",
              "      border: none;\n",
              "      border-radius: 50%;\n",
              "      cursor: pointer;\n",
              "      display: none;\n",
              "      fill: #1967D2;\n",
              "      height: 32px;\n",
              "      padding: 0 0 0 0;\n",
              "      width: 32px;\n",
              "    }\n",
              "\n",
              "    .colab-df-convert:hover {\n",
              "      background-color: #E2EBFA;\n",
              "      box-shadow: 0px 1px 2px rgba(60, 64, 67, 0.3), 0px 1px 3px 1px rgba(60, 64, 67, 0.15);\n",
              "      fill: #174EA6;\n",
              "    }\n",
              "\n",
              "    [theme=dark] .colab-df-convert {\n",
              "      background-color: #3B4455;\n",
              "      fill: #D2E3FC;\n",
              "    }\n",
              "\n",
              "    [theme=dark] .colab-df-convert:hover {\n",
              "      background-color: #434B5C;\n",
              "      box-shadow: 0px 1px 3px 1px rgba(0, 0, 0, 0.15);\n",
              "      filter: drop-shadow(0px 1px 2px rgba(0, 0, 0, 0.3));\n",
              "      fill: #FFFFFF;\n",
              "    }\n",
              "  </style>\n",
              "\n",
              "      <script>\n",
              "        const buttonEl =\n",
              "          document.querySelector('#df-6739a721-c363-4341-824b-906d5dc36ff5 button.colab-df-convert');\n",
              "        buttonEl.style.display =\n",
              "          google.colab.kernel.accessAllowed ? 'block' : 'none';\n",
              "\n",
              "        async function convertToInteractive(key) {\n",
              "          const element = document.querySelector('#df-6739a721-c363-4341-824b-906d5dc36ff5');\n",
              "          const dataTable =\n",
              "            await google.colab.kernel.invokeFunction('convertToInteractive',\n",
              "                                                     [key], {});\n",
              "          if (!dataTable) return;\n",
              "\n",
              "          const docLinkHtml = 'Like what you see? Visit the ' +\n",
              "            '<a target=\"_blank\" href=https://colab.research.google.com/notebooks/data_table.ipynb>data table notebook</a>'\n",
              "            + ' to learn more about interactive tables.';\n",
              "          element.innerHTML = '';\n",
              "          dataTable['output_type'] = 'display_data';\n",
              "          await google.colab.output.renderOutput(dataTable, element);\n",
              "          const docLink = document.createElement('div');\n",
              "          docLink.innerHTML = docLinkHtml;\n",
              "          element.appendChild(docLink);\n",
              "        }\n",
              "      </script>\n",
              "    </div>\n",
              "  </div>\n",
              "  "
            ]
          },
          "metadata": {},
          "execution_count": 103
        }
      ]
    },
    {
      "cell_type": "markdown",
      "source": [
        "## Statistik dan Visualisasi"
      ],
      "metadata": {
        "id": "Mo-LOkOQwnm-"
      }
    },
    {
      "cell_type": "code",
      "source": [
        "print(\"Banyaknya Nodes = \", h_graph.number_of_nodes())\n",
        "print(\"Banyaknya Edges = \", h_graph.number_of_edges())"
      ],
      "metadata": {
        "colab": {
          "base_uri": "https://localhost:8080/"
        },
        "id": "A-2_qxXGwqHE",
        "outputId": "99c36c00-90ae-4914-ab65-0a9485347c41"
      },
      "execution_count": 104,
      "outputs": [
        {
          "output_type": "stream",
          "name": "stdout",
          "text": [
            "Banyaknya Nodes =  4367\n",
            "Banyaknya Edges =  7112\n"
          ]
        }
      ]
    }
  ]
}