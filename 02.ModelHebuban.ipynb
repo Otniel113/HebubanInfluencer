{
  "nbformat": 4,
  "nbformat_minor": 0,
  "metadata": {
    "colab": {
      "name": "02.ModelHebuban.ipynb",
      "provenance": [],
      "collapsed_sections": []
    },
    "kernelspec": {
      "name": "python3",
      "display_name": "Python 3"
    },
    "language_info": {
      "name": "python"
    }
  },
  "cells": [
    {
      "cell_type": "markdown",
      "source": [
        "# Run All"
      ],
      "metadata": {
        "id": "dqPTJfieVGuv"
      }
    },
    {
      "cell_type": "markdown",
      "source": [
        "## Import and Load"
      ],
      "metadata": {
        "id": "tYE7az_TVI_a"
      }
    },
    {
      "cell_type": "markdown",
      "source": [
        "Import library yang dibutuhkan"
      ],
      "metadata": {
        "id": "4enSTSAyubGk"
      }
    },
    {
      "cell_type": "code",
      "execution_count": null,
      "metadata": {
        "id": "HfarWBYwUH4j"
      },
      "outputs": [],
      "source": [
        "import pandas as pd\n",
        "import networkx as nx\n",
        "import seaborn as sns\n",
        "import matplotlib as mpl\n",
        "import matplotlib.pyplot as plt\n",
        "from matplotlib import rcParams\n",
        "%matplotlib inline\n",
        "import itertools"
      ]
    },
    {
      "cell_type": "markdown",
      "source": [
        "Mengubah Style"
      ],
      "metadata": {
        "id": "Tlke4cg-udxv"
      }
    },
    {
      "cell_type": "code",
      "source": [
        "rcParams['figure.figsize'] = 15, 8\n",
        "mpl.style.use(['ggplot'])"
      ],
      "metadata": {
        "id": "QTBl5kAJjn9c"
      },
      "execution_count": null,
      "outputs": []
    },
    {
      "cell_type": "markdown",
      "source": [
        "Load Dataset"
      ],
      "metadata": {
        "id": "DsO6hkpxufpk"
      }
    },
    {
      "cell_type": "code",
      "source": [
        "df_hebuban = pd.read_excel('https://drive.google.com/uc?id=1l3tRHD0umuyyHLJxMBVZY_szLNRKgAa1')"
      ],
      "metadata": {
        "id": "aLRoXtPiUwrc"
      },
      "execution_count": null,
      "outputs": []
    },
    {
      "cell_type": "markdown",
      "source": [
        "Lihat Dataset"
      ],
      "metadata": {
        "id": "1G53BXPeujBB"
      }
    },
    {
      "cell_type": "code",
      "source": [
        "df_hebuban.head()"
      ],
      "metadata": {
        "colab": {
          "base_uri": "https://localhost:8080/"
        },
        "id": "KTsL462HVA1S",
        "outputId": "b7b108e7-9d8f-47fb-dc29-2351b7f3c66d"
      },
      "execution_count": null,
      "outputs": [
        {
          "output_type": "execute_result",
          "data": {
            "text/plain": [
              "  author_username  referenced_author_username            author_id  \\\n",
              "0       yasuthi13  Tidak ada referenced tweet   716452119931330560   \n",
              "1    KOKUHAKU_210             sHjSu1LfvuPseH0  1476093504011276289   \n",
              "2        hakuoden  Tidak ada referenced tweet  1089445166128062464   \n",
              "3    West99974912                     824_aoi  1342479462776983552   \n",
              "4    West99974912              yumekibogakuen  1342479462776983552   \n",
              "\n",
              "         referenced_author_id             tweet_id  \\\n",
              "0  Tidak ada referenced tweet  1511905311535247361   \n",
              "1         1503233976655237121  1511905300995264517   \n",
              "2  Tidak ada referenced tweet  1511905296406704131   \n",
              "3                  3111958734  1511905133478572037   \n",
              "4         1255058861112692736  1511905123781382145   \n",
              "\n",
              "          referenced_tweet_id  \\\n",
              "0  Tidak ada referenced tweet   \n",
              "1         1511886232745558018   \n",
              "2  Tidak ada referenced tweet   \n",
              "3         1511696175866707972   \n",
              "4         1511636485249765387   \n",
              "\n",
              "                                                text  \\\n",
              "0                           ヘブバンの2章普通に泣けるんだが…\\n#ヘブバン   \n",
              "1  RT @sHjSu1LfvuPseH0: #hvbnFA\\n#ヘブバン\\n#大島四ツ葉\\n\\...   \n",
              "2  ( ⌒ ͜ ⌒ )＜おでん今日の #ヘブバン\\n\\n緊急参戦！\\nLDブログのゲームNO.1...   \n",
              "3  RT @824_aoi: 次回の #ゆめきぼ 学園は…！🕊\\n\\n🏫4月13日21:00〜🏫...   \n",
              "4  RT @yumekibogakuen: #古賀葵 の羽ばたけ！！ #ゆめきぼ 学園\\nお友達...   \n",
              "\n",
              "                  created_at          relation lang               source  \n",
              "0  2022-04-07 03:14:50+00:00  Tidak ada relasi   ja   Twitter for iPhone  \n",
              "1  2022-04-07 03:14:48+00:00         retweeted   ja   Twitter for iPhone  \n",
              "2  2022-04-07 03:14:47+00:00  Tidak ada relasi   ja  Twitter for Android  \n",
              "3  2022-04-07 03:14:08+00:00         retweeted   ja   Twitter for iPhone  \n",
              "4  2022-04-07 03:14:06+00:00         retweeted   ja   Twitter for iPhone  "
            ],
            "text/html": [
              "\n",
              "  <div id=\"df-1fad7e37-8818-40cc-ba39-ca533b4fd087\">\n",
              "    <div class=\"colab-df-container\">\n",
              "      <div>\n",
              "<style scoped>\n",
              "    .dataframe tbody tr th:only-of-type {\n",
              "        vertical-align: middle;\n",
              "    }\n",
              "\n",
              "    .dataframe tbody tr th {\n",
              "        vertical-align: top;\n",
              "    }\n",
              "\n",
              "    .dataframe thead th {\n",
              "        text-align: right;\n",
              "    }\n",
              "</style>\n",
              "<table border=\"1\" class=\"dataframe\">\n",
              "  <thead>\n",
              "    <tr style=\"text-align: right;\">\n",
              "      <th></th>\n",
              "      <th>author_username</th>\n",
              "      <th>referenced_author_username</th>\n",
              "      <th>author_id</th>\n",
              "      <th>referenced_author_id</th>\n",
              "      <th>tweet_id</th>\n",
              "      <th>referenced_tweet_id</th>\n",
              "      <th>text</th>\n",
              "      <th>created_at</th>\n",
              "      <th>relation</th>\n",
              "      <th>lang</th>\n",
              "      <th>source</th>\n",
              "    </tr>\n",
              "  </thead>\n",
              "  <tbody>\n",
              "    <tr>\n",
              "      <th>0</th>\n",
              "      <td>yasuthi13</td>\n",
              "      <td>Tidak ada referenced tweet</td>\n",
              "      <td>716452119931330560</td>\n",
              "      <td>Tidak ada referenced tweet</td>\n",
              "      <td>1511905311535247361</td>\n",
              "      <td>Tidak ada referenced tweet</td>\n",
              "      <td>ヘブバンの2章普通に泣けるんだが…\\n#ヘブバン</td>\n",
              "      <td>2022-04-07 03:14:50+00:00</td>\n",
              "      <td>Tidak ada relasi</td>\n",
              "      <td>ja</td>\n",
              "      <td>Twitter for iPhone</td>\n",
              "    </tr>\n",
              "    <tr>\n",
              "      <th>1</th>\n",
              "      <td>KOKUHAKU_210</td>\n",
              "      <td>sHjSu1LfvuPseH0</td>\n",
              "      <td>1476093504011276289</td>\n",
              "      <td>1503233976655237121</td>\n",
              "      <td>1511905300995264517</td>\n",
              "      <td>1511886232745558018</td>\n",
              "      <td>RT @sHjSu1LfvuPseH0: #hvbnFA\\n#ヘブバン\\n#大島四ツ葉\\n\\...</td>\n",
              "      <td>2022-04-07 03:14:48+00:00</td>\n",
              "      <td>retweeted</td>\n",
              "      <td>ja</td>\n",
              "      <td>Twitter for iPhone</td>\n",
              "    </tr>\n",
              "    <tr>\n",
              "      <th>2</th>\n",
              "      <td>hakuoden</td>\n",
              "      <td>Tidak ada referenced tweet</td>\n",
              "      <td>1089445166128062464</td>\n",
              "      <td>Tidak ada referenced tweet</td>\n",
              "      <td>1511905296406704131</td>\n",
              "      <td>Tidak ada referenced tweet</td>\n",
              "      <td>( ⌒ ͜ ⌒ )＜おでん今日の #ヘブバン\\n\\n緊急参戦！\\nLDブログのゲームNO.1...</td>\n",
              "      <td>2022-04-07 03:14:47+00:00</td>\n",
              "      <td>Tidak ada relasi</td>\n",
              "      <td>ja</td>\n",
              "      <td>Twitter for Android</td>\n",
              "    </tr>\n",
              "    <tr>\n",
              "      <th>3</th>\n",
              "      <td>West99974912</td>\n",
              "      <td>824_aoi</td>\n",
              "      <td>1342479462776983552</td>\n",
              "      <td>3111958734</td>\n",
              "      <td>1511905133478572037</td>\n",
              "      <td>1511696175866707972</td>\n",
              "      <td>RT @824_aoi: 次回の #ゆめきぼ 学園は…！🕊\\n\\n🏫4月13日21:00〜🏫...</td>\n",
              "      <td>2022-04-07 03:14:08+00:00</td>\n",
              "      <td>retweeted</td>\n",
              "      <td>ja</td>\n",
              "      <td>Twitter for iPhone</td>\n",
              "    </tr>\n",
              "    <tr>\n",
              "      <th>4</th>\n",
              "      <td>West99974912</td>\n",
              "      <td>yumekibogakuen</td>\n",
              "      <td>1342479462776983552</td>\n",
              "      <td>1255058861112692736</td>\n",
              "      <td>1511905123781382145</td>\n",
              "      <td>1511636485249765387</td>\n",
              "      <td>RT @yumekibogakuen: #古賀葵 の羽ばたけ！！ #ゆめきぼ 学園\\nお友達...</td>\n",
              "      <td>2022-04-07 03:14:06+00:00</td>\n",
              "      <td>retweeted</td>\n",
              "      <td>ja</td>\n",
              "      <td>Twitter for iPhone</td>\n",
              "    </tr>\n",
              "  </tbody>\n",
              "</table>\n",
              "</div>\n",
              "      <button class=\"colab-df-convert\" onclick=\"convertToInteractive('df-1fad7e37-8818-40cc-ba39-ca533b4fd087')\"\n",
              "              title=\"Convert this dataframe to an interactive table.\"\n",
              "              style=\"display:none;\">\n",
              "        \n",
              "  <svg xmlns=\"http://www.w3.org/2000/svg\" height=\"24px\"viewBox=\"0 0 24 24\"\n",
              "       width=\"24px\">\n",
              "    <path d=\"M0 0h24v24H0V0z\" fill=\"none\"/>\n",
              "    <path d=\"M18.56 5.44l.94 2.06.94-2.06 2.06-.94-2.06-.94-.94-2.06-.94 2.06-2.06.94zm-11 1L8.5 8.5l.94-2.06 2.06-.94-2.06-.94L8.5 2.5l-.94 2.06-2.06.94zm10 10l.94 2.06.94-2.06 2.06-.94-2.06-.94-.94-2.06-.94 2.06-2.06.94z\"/><path d=\"M17.41 7.96l-1.37-1.37c-.4-.4-.92-.59-1.43-.59-.52 0-1.04.2-1.43.59L10.3 9.45l-7.72 7.72c-.78.78-.78 2.05 0 2.83L4 21.41c.39.39.9.59 1.41.59.51 0 1.02-.2 1.41-.59l7.78-7.78 2.81-2.81c.8-.78.8-2.07 0-2.86zM5.41 20L4 18.59l7.72-7.72 1.47 1.35L5.41 20z\"/>\n",
              "  </svg>\n",
              "      </button>\n",
              "      \n",
              "  <style>\n",
              "    .colab-df-container {\n",
              "      display:flex;\n",
              "      flex-wrap:wrap;\n",
              "      gap: 12px;\n",
              "    }\n",
              "\n",
              "    .colab-df-convert {\n",
              "      background-color: #E8F0FE;\n",
              "      border: none;\n",
              "      border-radius: 50%;\n",
              "      cursor: pointer;\n",
              "      display: none;\n",
              "      fill: #1967D2;\n",
              "      height: 32px;\n",
              "      padding: 0 0 0 0;\n",
              "      width: 32px;\n",
              "    }\n",
              "\n",
              "    .colab-df-convert:hover {\n",
              "      background-color: #E2EBFA;\n",
              "      box-shadow: 0px 1px 2px rgba(60, 64, 67, 0.3), 0px 1px 3px 1px rgba(60, 64, 67, 0.15);\n",
              "      fill: #174EA6;\n",
              "    }\n",
              "\n",
              "    [theme=dark] .colab-df-convert {\n",
              "      background-color: #3B4455;\n",
              "      fill: #D2E3FC;\n",
              "    }\n",
              "\n",
              "    [theme=dark] .colab-df-convert:hover {\n",
              "      background-color: #434B5C;\n",
              "      box-shadow: 0px 1px 3px 1px rgba(0, 0, 0, 0.15);\n",
              "      filter: drop-shadow(0px 1px 2px rgba(0, 0, 0, 0.3));\n",
              "      fill: #FFFFFF;\n",
              "    }\n",
              "  </style>\n",
              "\n",
              "      <script>\n",
              "        const buttonEl =\n",
              "          document.querySelector('#df-1fad7e37-8818-40cc-ba39-ca533b4fd087 button.colab-df-convert');\n",
              "        buttonEl.style.display =\n",
              "          google.colab.kernel.accessAllowed ? 'block' : 'none';\n",
              "\n",
              "        async function convertToInteractive(key) {\n",
              "          const element = document.querySelector('#df-1fad7e37-8818-40cc-ba39-ca533b4fd087');\n",
              "          const dataTable =\n",
              "            await google.colab.kernel.invokeFunction('convertToInteractive',\n",
              "                                                     [key], {});\n",
              "          if (!dataTable) return;\n",
              "\n",
              "          const docLinkHtml = 'Like what you see? Visit the ' +\n",
              "            '<a target=\"_blank\" href=https://colab.research.google.com/notebooks/data_table.ipynb>data table notebook</a>'\n",
              "            + ' to learn more about interactive tables.';\n",
              "          element.innerHTML = '';\n",
              "          dataTable['output_type'] = 'display_data';\n",
              "          await google.colab.output.renderOutput(dataTable, element);\n",
              "          const docLink = document.createElement('div');\n",
              "          docLink.innerHTML = docLinkHtml;\n",
              "          element.appendChild(docLink);\n",
              "        }\n",
              "      </script>\n",
              "    </div>\n",
              "  </div>\n",
              "  "
            ]
          },
          "metadata": {},
          "execution_count": 4
        }
      ]
    },
    {
      "cell_type": "markdown",
      "source": [
        "Ukuran Dataset"
      ],
      "metadata": {
        "id": "KtBoY76SumUE"
      }
    },
    {
      "cell_type": "code",
      "source": [
        "df_hebuban.shape"
      ],
      "metadata": {
        "colab": {
          "base_uri": "https://localhost:8080/"
        },
        "id": "JDAkdxVsVMN0",
        "outputId": "7e042b51-6f1e-4cc0-aadb-06d103ec28d8"
      },
      "execution_count": null,
      "outputs": [
        {
          "output_type": "execute_result",
          "data": {
            "text/plain": [
              "(14852, 11)"
            ]
          },
          "metadata": {},
          "execution_count": 5
        }
      ]
    },
    {
      "cell_type": "markdown",
      "source": [
        "Info Dataset"
      ],
      "metadata": {
        "id": "nryWLg6buoXl"
      }
    },
    {
      "cell_type": "code",
      "source": [
        "df_hebuban.info()"
      ],
      "metadata": {
        "colab": {
          "base_uri": "https://localhost:8080/"
        },
        "id": "Fh7ESFF2VPEq",
        "outputId": "f53648fb-f500-4c1f-e532-c59c2feba371"
      },
      "execution_count": null,
      "outputs": [
        {
          "output_type": "stream",
          "name": "stdout",
          "text": [
            "<class 'pandas.core.frame.DataFrame'>\n",
            "RangeIndex: 14852 entries, 0 to 14851\n",
            "Data columns (total 11 columns):\n",
            " #   Column                      Non-Null Count  Dtype \n",
            "---  ------                      --------------  ----- \n",
            " 0   author_username             14852 non-null  object\n",
            " 1   referenced_author_username  14852 non-null  object\n",
            " 2   author_id                   14852 non-null  int64 \n",
            " 3   referenced_author_id        14852 non-null  object\n",
            " 4   tweet_id                    14852 non-null  int64 \n",
            " 5   referenced_tweet_id         14852 non-null  object\n",
            " 6   text                        14852 non-null  object\n",
            " 7   created_at                  14852 non-null  object\n",
            " 8   relation                    14852 non-null  object\n",
            " 9   lang                        14852 non-null  object\n",
            " 10  source                      14852 non-null  object\n",
            "dtypes: int64(2), object(9)\n",
            "memory usage: 1.2+ MB\n"
          ]
        }
      ]
    },
    {
      "cell_type": "markdown",
      "source": [
        "## Praproses"
      ],
      "metadata": {
        "id": "gabbsG8wVaPC"
      }
    },
    {
      "cell_type": "markdown",
      "source": [
        "### Melakukan Drop pada Tweet yang tidak berelasi"
      ],
      "metadata": {
        "id": "A4Hq-WpOZLof"
      }
    },
    {
      "cell_type": "markdown",
      "source": [
        "Mencari yang tidak memiliki relasi"
      ],
      "metadata": {
        "id": "rokz8r9CZSfZ"
      }
    },
    {
      "cell_type": "code",
      "source": [
        "df_hebuban['author_username'][df_hebuban[\"referenced_author_username\"] == \"Tidak ada referenced tweet\"].count()"
      ],
      "metadata": {
        "colab": {
          "base_uri": "https://localhost:8080/"
        },
        "id": "qbtbWH7eWO1G",
        "outputId": "9510f40e-ff5e-42cf-a391-71a790579301"
      },
      "execution_count": null,
      "outputs": [
        {
          "output_type": "execute_result",
          "data": {
            "text/plain": [
              "6513"
            ]
          },
          "metadata": {},
          "execution_count": 7
        }
      ]
    },
    {
      "cell_type": "markdown",
      "source": [
        "Ditampung ke index_drop"
      ],
      "metadata": {
        "id": "RS7pdnBnZWtL"
      }
    },
    {
      "cell_type": "code",
      "source": [
        "index_drop = df_hebuban[df_hebuban[\"referenced_author_username\"] == \"Tidak ada referenced tweet\"].index\n",
        "len(index_drop)"
      ],
      "metadata": {
        "colab": {
          "base_uri": "https://localhost:8080/"
        },
        "id": "X6ZyvlycX1h3",
        "outputId": "adffd937-0aac-4cfd-c0af-5fccb35a3098"
      },
      "execution_count": null,
      "outputs": [
        {
          "output_type": "execute_result",
          "data": {
            "text/plain": [
              "6513"
            ]
          },
          "metadata": {},
          "execution_count": 8
        }
      ]
    },
    {
      "cell_type": "markdown",
      "source": [
        "Melakukan drop dan melihat sisa data"
      ],
      "metadata": {
        "id": "Mw65aRPnZZ6Q"
      }
    },
    {
      "cell_type": "code",
      "source": [
        "df_hebuban = df_hebuban.drop(index_drop)\n",
        "df_hebuban.shape"
      ],
      "metadata": {
        "colab": {
          "base_uri": "https://localhost:8080/"
        },
        "id": "5cdkwgd1Y8RN",
        "outputId": "9d254530-305f-4ae2-b945-fb10ec4eb745"
      },
      "execution_count": null,
      "outputs": [
        {
          "output_type": "execute_result",
          "data": {
            "text/plain": [
              "(8339, 11)"
            ]
          },
          "metadata": {},
          "execution_count": 9
        }
      ]
    },
    {
      "cell_type": "markdown",
      "source": [
        "### Cek Relasi ke Diri Sendiri"
      ],
      "metadata": {
        "id": "J1QKXO-uZmBM"
      }
    },
    {
      "cell_type": "markdown",
      "source": [
        "Mencari yang berelasi ke diri sendiri"
      ],
      "metadata": {
        "id": "PrDIOZ3GuubK"
      }
    },
    {
      "cell_type": "code",
      "source": [
        "df_hebuban['author_username'][df_hebuban[\"referenced_author_username\"] == df_hebuban[\"author_username\"]].count()"
      ],
      "metadata": {
        "colab": {
          "base_uri": "https://localhost:8080/"
        },
        "id": "HPzkaL0nZora",
        "outputId": "e24c2eff-1168-49bc-dfa0-17be6103e341"
      },
      "execution_count": null,
      "outputs": [
        {
          "output_type": "execute_result",
          "data": {
            "text/plain": [
              "299"
            ]
          },
          "metadata": {},
          "execution_count": 10
        }
      ]
    },
    {
      "cell_type": "markdown",
      "source": [
        "Menampung index yang akan didrop"
      ],
      "metadata": {
        "id": "SiGgmrkguxtv"
      }
    },
    {
      "cell_type": "code",
      "source": [
        "index_drop = df_hebuban['author_username'][df_hebuban[\"referenced_author_username\"] == df_hebuban[\"author_username\"]].index\n",
        "len(index_drop)"
      ],
      "metadata": {
        "colab": {
          "base_uri": "https://localhost:8080/"
        },
        "id": "Gl9J1zL3Z5Ij",
        "outputId": "d144649a-13c1-4a12-fb61-a5bd9d9dd415"
      },
      "execution_count": null,
      "outputs": [
        {
          "output_type": "execute_result",
          "data": {
            "text/plain": [
              "299"
            ]
          },
          "metadata": {},
          "execution_count": 11
        }
      ]
    },
    {
      "cell_type": "markdown",
      "source": [
        "Hasil akhir setelah drop"
      ],
      "metadata": {
        "id": "SWUeN-Jcu1IU"
      }
    },
    {
      "cell_type": "code",
      "source": [
        "df_hebuban = df_hebuban.drop(index_drop)\n",
        "df_hebuban.shape"
      ],
      "metadata": {
        "colab": {
          "base_uri": "https://localhost:8080/"
        },
        "id": "w7QhqgxSaC5F",
        "outputId": "7d383516-3f4c-4231-de34-facf5dea6338"
      },
      "execution_count": null,
      "outputs": [
        {
          "output_type": "execute_result",
          "data": {
            "text/plain": [
              "(8040, 11)"
            ]
          },
          "metadata": {},
          "execution_count": 12
        }
      ]
    },
    {
      "cell_type": "markdown",
      "source": [
        "### Reset Index"
      ],
      "metadata": {
        "id": "v8cA7vljg-iM"
      }
    },
    {
      "cell_type": "markdown",
      "source": [
        "Melakukan reset index karena sebelumnya ada index yang didrop"
      ],
      "metadata": {
        "id": "_crikfH1u53z"
      }
    },
    {
      "cell_type": "code",
      "source": [
        "df_hebuban = df_hebuban.reset_index(drop=True)\n",
        "df_hebuban.head()"
      ],
      "metadata": {
        "colab": {
          "base_uri": "https://localhost:8080/"
        },
        "id": "xOl86eYag7ji",
        "outputId": "1c4fa695-8774-491b-c0cf-e6d60584f4de"
      },
      "execution_count": null,
      "outputs": [
        {
          "output_type": "execute_result",
          "data": {
            "text/plain": [
              "  author_username referenced_author_username            author_id  \\\n",
              "0    KOKUHAKU_210            sHjSu1LfvuPseH0  1476093504011276289   \n",
              "1    West99974912                    824_aoi  1342479462776983552   \n",
              "2    West99974912             yumekibogakuen  1342479462776983552   \n",
              "3     sanagi_hvbn            sHjSu1LfvuPseH0  1497853701717135361   \n",
              "4    isshi_nekoha                   092596Tk  1465274875841769475   \n",
              "\n",
              "  referenced_author_id             tweet_id  referenced_tweet_id  \\\n",
              "0  1503233976655237121  1511905300995264517  1511886232745558018   \n",
              "1           3111958734  1511905133478572037  1511696175866707972   \n",
              "2  1255058861112692736  1511905123781382145  1511636485249765387   \n",
              "3  1503233976655237121  1511904694456963073  1511886232745558018   \n",
              "4           2373534090  1511904344882352138  1510215147054280705   \n",
              "\n",
              "                                                text  \\\n",
              "0  RT @sHjSu1LfvuPseH0: #hvbnFA\\n#ヘブバン\\n#大島四ツ葉\\n\\...   \n",
              "1  RT @824_aoi: 次回の #ゆめきぼ 学園は…！🕊\\n\\n🏫4月13日21:00〜🏫...   \n",
              "2  RT @yumekibogakuen: #古賀葵 の羽ばたけ！！ #ゆめきぼ 学園\\nお友達...   \n",
              "3  RT @sHjSu1LfvuPseH0: #hvbnFA\\n#ヘブバン\\n#大島四ツ葉\\n\\...   \n",
              "4  RT @092596Tk: くるくるパーカー(  ˘ω˘ )\\n#ヘブバン\\n#hvbnFA...   \n",
              "\n",
              "                  created_at   relation lang               source  \n",
              "0  2022-04-07 03:14:48+00:00  retweeted   ja   Twitter for iPhone  \n",
              "1  2022-04-07 03:14:08+00:00  retweeted   ja   Twitter for iPhone  \n",
              "2  2022-04-07 03:14:06+00:00  retweeted   ja   Twitter for iPhone  \n",
              "3  2022-04-07 03:12:23+00:00  retweeted   ja   Twitter for iPhone  \n",
              "4  2022-04-07 03:11:00+00:00  retweeted   ja  Twitter for Android  "
            ],
            "text/html": [
              "\n",
              "  <div id=\"df-42ca7790-4b92-4904-bcec-39e8a3ac2c32\">\n",
              "    <div class=\"colab-df-container\">\n",
              "      <div>\n",
              "<style scoped>\n",
              "    .dataframe tbody tr th:only-of-type {\n",
              "        vertical-align: middle;\n",
              "    }\n",
              "\n",
              "    .dataframe tbody tr th {\n",
              "        vertical-align: top;\n",
              "    }\n",
              "\n",
              "    .dataframe thead th {\n",
              "        text-align: right;\n",
              "    }\n",
              "</style>\n",
              "<table border=\"1\" class=\"dataframe\">\n",
              "  <thead>\n",
              "    <tr style=\"text-align: right;\">\n",
              "      <th></th>\n",
              "      <th>author_username</th>\n",
              "      <th>referenced_author_username</th>\n",
              "      <th>author_id</th>\n",
              "      <th>referenced_author_id</th>\n",
              "      <th>tweet_id</th>\n",
              "      <th>referenced_tweet_id</th>\n",
              "      <th>text</th>\n",
              "      <th>created_at</th>\n",
              "      <th>relation</th>\n",
              "      <th>lang</th>\n",
              "      <th>source</th>\n",
              "    </tr>\n",
              "  </thead>\n",
              "  <tbody>\n",
              "    <tr>\n",
              "      <th>0</th>\n",
              "      <td>KOKUHAKU_210</td>\n",
              "      <td>sHjSu1LfvuPseH0</td>\n",
              "      <td>1476093504011276289</td>\n",
              "      <td>1503233976655237121</td>\n",
              "      <td>1511905300995264517</td>\n",
              "      <td>1511886232745558018</td>\n",
              "      <td>RT @sHjSu1LfvuPseH0: #hvbnFA\\n#ヘブバン\\n#大島四ツ葉\\n\\...</td>\n",
              "      <td>2022-04-07 03:14:48+00:00</td>\n",
              "      <td>retweeted</td>\n",
              "      <td>ja</td>\n",
              "      <td>Twitter for iPhone</td>\n",
              "    </tr>\n",
              "    <tr>\n",
              "      <th>1</th>\n",
              "      <td>West99974912</td>\n",
              "      <td>824_aoi</td>\n",
              "      <td>1342479462776983552</td>\n",
              "      <td>3111958734</td>\n",
              "      <td>1511905133478572037</td>\n",
              "      <td>1511696175866707972</td>\n",
              "      <td>RT @824_aoi: 次回の #ゆめきぼ 学園は…！🕊\\n\\n🏫4月13日21:00〜🏫...</td>\n",
              "      <td>2022-04-07 03:14:08+00:00</td>\n",
              "      <td>retweeted</td>\n",
              "      <td>ja</td>\n",
              "      <td>Twitter for iPhone</td>\n",
              "    </tr>\n",
              "    <tr>\n",
              "      <th>2</th>\n",
              "      <td>West99974912</td>\n",
              "      <td>yumekibogakuen</td>\n",
              "      <td>1342479462776983552</td>\n",
              "      <td>1255058861112692736</td>\n",
              "      <td>1511905123781382145</td>\n",
              "      <td>1511636485249765387</td>\n",
              "      <td>RT @yumekibogakuen: #古賀葵 の羽ばたけ！！ #ゆめきぼ 学園\\nお友達...</td>\n",
              "      <td>2022-04-07 03:14:06+00:00</td>\n",
              "      <td>retweeted</td>\n",
              "      <td>ja</td>\n",
              "      <td>Twitter for iPhone</td>\n",
              "    </tr>\n",
              "    <tr>\n",
              "      <th>3</th>\n",
              "      <td>sanagi_hvbn</td>\n",
              "      <td>sHjSu1LfvuPseH0</td>\n",
              "      <td>1497853701717135361</td>\n",
              "      <td>1503233976655237121</td>\n",
              "      <td>1511904694456963073</td>\n",
              "      <td>1511886232745558018</td>\n",
              "      <td>RT @sHjSu1LfvuPseH0: #hvbnFA\\n#ヘブバン\\n#大島四ツ葉\\n\\...</td>\n",
              "      <td>2022-04-07 03:12:23+00:00</td>\n",
              "      <td>retweeted</td>\n",
              "      <td>ja</td>\n",
              "      <td>Twitter for iPhone</td>\n",
              "    </tr>\n",
              "    <tr>\n",
              "      <th>4</th>\n",
              "      <td>isshi_nekoha</td>\n",
              "      <td>092596Tk</td>\n",
              "      <td>1465274875841769475</td>\n",
              "      <td>2373534090</td>\n",
              "      <td>1511904344882352138</td>\n",
              "      <td>1510215147054280705</td>\n",
              "      <td>RT @092596Tk: くるくるパーカー(  ˘ω˘ )\\n#ヘブバン\\n#hvbnFA...</td>\n",
              "      <td>2022-04-07 03:11:00+00:00</td>\n",
              "      <td>retweeted</td>\n",
              "      <td>ja</td>\n",
              "      <td>Twitter for Android</td>\n",
              "    </tr>\n",
              "  </tbody>\n",
              "</table>\n",
              "</div>\n",
              "      <button class=\"colab-df-convert\" onclick=\"convertToInteractive('df-42ca7790-4b92-4904-bcec-39e8a3ac2c32')\"\n",
              "              title=\"Convert this dataframe to an interactive table.\"\n",
              "              style=\"display:none;\">\n",
              "        \n",
              "  <svg xmlns=\"http://www.w3.org/2000/svg\" height=\"24px\"viewBox=\"0 0 24 24\"\n",
              "       width=\"24px\">\n",
              "    <path d=\"M0 0h24v24H0V0z\" fill=\"none\"/>\n",
              "    <path d=\"M18.56 5.44l.94 2.06.94-2.06 2.06-.94-2.06-.94-.94-2.06-.94 2.06-2.06.94zm-11 1L8.5 8.5l.94-2.06 2.06-.94-2.06-.94L8.5 2.5l-.94 2.06-2.06.94zm10 10l.94 2.06.94-2.06 2.06-.94-2.06-.94-.94-2.06-.94 2.06-2.06.94z\"/><path d=\"M17.41 7.96l-1.37-1.37c-.4-.4-.92-.59-1.43-.59-.52 0-1.04.2-1.43.59L10.3 9.45l-7.72 7.72c-.78.78-.78 2.05 0 2.83L4 21.41c.39.39.9.59 1.41.59.51 0 1.02-.2 1.41-.59l7.78-7.78 2.81-2.81c.8-.78.8-2.07 0-2.86zM5.41 20L4 18.59l7.72-7.72 1.47 1.35L5.41 20z\"/>\n",
              "  </svg>\n",
              "      </button>\n",
              "      \n",
              "  <style>\n",
              "    .colab-df-container {\n",
              "      display:flex;\n",
              "      flex-wrap:wrap;\n",
              "      gap: 12px;\n",
              "    }\n",
              "\n",
              "    .colab-df-convert {\n",
              "      background-color: #E8F0FE;\n",
              "      border: none;\n",
              "      border-radius: 50%;\n",
              "      cursor: pointer;\n",
              "      display: none;\n",
              "      fill: #1967D2;\n",
              "      height: 32px;\n",
              "      padding: 0 0 0 0;\n",
              "      width: 32px;\n",
              "    }\n",
              "\n",
              "    .colab-df-convert:hover {\n",
              "      background-color: #E2EBFA;\n",
              "      box-shadow: 0px 1px 2px rgba(60, 64, 67, 0.3), 0px 1px 3px 1px rgba(60, 64, 67, 0.15);\n",
              "      fill: #174EA6;\n",
              "    }\n",
              "\n",
              "    [theme=dark] .colab-df-convert {\n",
              "      background-color: #3B4455;\n",
              "      fill: #D2E3FC;\n",
              "    }\n",
              "\n",
              "    [theme=dark] .colab-df-convert:hover {\n",
              "      background-color: #434B5C;\n",
              "      box-shadow: 0px 1px 3px 1px rgba(0, 0, 0, 0.15);\n",
              "      filter: drop-shadow(0px 1px 2px rgba(0, 0, 0, 0.3));\n",
              "      fill: #FFFFFF;\n",
              "    }\n",
              "  </style>\n",
              "\n",
              "      <script>\n",
              "        const buttonEl =\n",
              "          document.querySelector('#df-42ca7790-4b92-4904-bcec-39e8a3ac2c32 button.colab-df-convert');\n",
              "        buttonEl.style.display =\n",
              "          google.colab.kernel.accessAllowed ? 'block' : 'none';\n",
              "\n",
              "        async function convertToInteractive(key) {\n",
              "          const element = document.querySelector('#df-42ca7790-4b92-4904-bcec-39e8a3ac2c32');\n",
              "          const dataTable =\n",
              "            await google.colab.kernel.invokeFunction('convertToInteractive',\n",
              "                                                     [key], {});\n",
              "          if (!dataTable) return;\n",
              "\n",
              "          const docLinkHtml = 'Like what you see? Visit the ' +\n",
              "            '<a target=\"_blank\" href=https://colab.research.google.com/notebooks/data_table.ipynb>data table notebook</a>'\n",
              "            + ' to learn more about interactive tables.';\n",
              "          element.innerHTML = '';\n",
              "          dataTable['output_type'] = 'display_data';\n",
              "          await google.colab.output.renderOutput(dataTable, element);\n",
              "          const docLink = document.createElement('div');\n",
              "          docLink.innerHTML = docLinkHtml;\n",
              "          element.appendChild(docLink);\n",
              "        }\n",
              "      </script>\n",
              "    </div>\n",
              "  </div>\n",
              "  "
            ]
          },
          "metadata": {},
          "execution_count": 13
        }
      ]
    },
    {
      "cell_type": "markdown",
      "source": [
        "## Model Graf"
      ],
      "metadata": {
        "id": "idKYLAsvaK6T"
      }
    },
    {
      "cell_type": "markdown",
      "source": [
        "Membuat Graf"
      ],
      "metadata": {
        "id": "fgnCOSzmuUgu"
      }
    },
    {
      "cell_type": "code",
      "source": [
        "h_graph = nx.Graph()\n",
        "\n",
        "for i in range(len(df_hebuban)):\n",
        "  h_graph.add_edge(df_hebuban['author_username'][i], df_hebuban['referenced_author_username'][i])"
      ],
      "metadata": {
        "id": "jICiNk3giDNp"
      },
      "execution_count": null,
      "outputs": []
    },
    {
      "cell_type": "markdown",
      "source": [
        "Visualisasi Graf. Waktu Run sekitar 1.5 menit"
      ],
      "metadata": {
        "id": "vjs8cFyRnEbk"
      }
    },
    {
      "cell_type": "code",
      "source": [
        "nx.draw_networkx(h_graph, node_size=50, width=3, with_labels=False)\n",
        "plt.show()"
      ],
      "metadata": {
        "colab": {
          "base_uri": "https://localhost:8080/"
        },
        "id": "9-c4GKQNmJ-c",
        "outputId": "9ea48d83-9c52-41a9-f112-f1640f9fcf96"
      },
      "execution_count": null,
      "outputs": [
        {
          "output_type": "display_data",
          "data": {
            "text/plain": [
              "<Figure size 1080x576 with 1 Axes>"
            ],
            "image/png": "[encoded data removed]"
          },
          "metadata": {}
        }
      ]
    },
    {
      "cell_type": "markdown",
      "source": [
        "## Perhitungan Centrality"
      ],
      "metadata": {
        "id": "QeY52fnUsIJW"
      }
    },
    {
      "cell_type": "markdown",
      "source": [
        "Menggunakan eigenvector_centrality()"
      ],
      "metadata": {
        "id": "OL2hotFrsLnZ"
      }
    },
    {
      "cell_type": "code",
      "source": [
        "nilai_centrality = nx.eigenvector_centrality(h_graph, max_iter=200)\n",
        "nilai_centrality = dict(sorted(nilai_centrality.items(), key=lambda item: item[1],reverse=True))\n",
        "# print(nilai_centrality)"
      ],
      "metadata": {
        "id": "GZHFYho5l0Ji"
      },
      "execution_count": null,
      "outputs": []
    },
    {
      "cell_type": "markdown",
      "source": [
        "Hasil menjadi Dataframe"
      ],
      "metadata": {
        "id": "APcpzCrksPCS"
      }
    },
    {
      "cell_type": "code",
      "source": [
        "list_influence = list(nilai_centrality.keys())\n",
        "list_nilai = list(nilai_centrality.values())\n",
        "\n",
        "df_influence = pd.DataFrame({'Username' : list_influence, 'Nilai Eigenvector' : list_nilai})\n",
        "df_influence.head(11)"
      ],
      "metadata": {
        "colab": {
          "base_uri": "https://localhost:8080/"
        },
        "id": "0bG0pdCGpM15",
        "outputId": "ef8e81ad-beae-4765-b5f1-796b934f432c"
      },
      "execution_count": null,
      "outputs": [
        {
          "output_type": "execute_result",
          "data": {
            "text/plain": [
              "          Username  Nilai Eigenvector\n",
              "0   heavenburnsred           0.699312\n",
              "1        Yuugen_99           0.040409\n",
              "2         ndjiru_n           0.040397\n",
              "3         092596Tk           0.038065\n",
              "4        Tatika081           0.029662\n",
              "5    KegurunekuR33           0.028999\n",
              "6      game_tori10           0.028088\n",
              "7       ogayan0301           0.026894\n",
              "8      kegani_0207           0.026858\n",
              "9    DIVAvivylove1           0.026283\n",
              "10      sera050520           0.025813"
            ],
            "text/html": [
              "\n",
              "  <div id=\"df-77435729-97e4-4e88-84ef-a0d91c037fb3\">\n",
              "    <div class=\"colab-df-container\">\n",
              "      <div>\n",
              "<style scoped>\n",
              "    .dataframe tbody tr th:only-of-type {\n",
              "        vertical-align: middle;\n",
              "    }\n",
              "\n",
              "    .dataframe tbody tr th {\n",
              "        vertical-align: top;\n",
              "    }\n",
              "\n",
              "    .dataframe thead th {\n",
              "        text-align: right;\n",
              "    }\n",
              "</style>\n",
              "<table border=\"1\" class=\"dataframe\">\n",
              "  <thead>\n",
              "    <tr style=\"text-align: right;\">\n",
              "      <th></th>\n",
              "      <th>Username</th>\n",
              "      <th>Nilai Eigenvector</th>\n",
              "    </tr>\n",
              "  </thead>\n",
              "  <tbody>\n",
              "    <tr>\n",
              "      <th>0</th>\n",
              "      <td>heavenburnsred</td>\n",
              "      <td>0.699312</td>\n",
              "    </tr>\n",
              "    <tr>\n",
              "      <th>1</th>\n",
              "      <td>Yuugen_99</td>\n",
              "      <td>0.040409</td>\n",
              "    </tr>\n",
              "    <tr>\n",
              "      <th>2</th>\n",
              "      <td>ndjiru_n</td>\n",
              "      <td>0.040397</td>\n",
              "    </tr>\n",
              "    <tr>\n",
              "      <th>3</th>\n",
              "      <td>092596Tk</td>\n",
              "      <td>0.038065</td>\n",
              "    </tr>\n",
              "    <tr>\n",
              "      <th>4</th>\n",
              "      <td>Tatika081</td>\n",
              "      <td>0.029662</td>\n",
              "    </tr>\n",
              "    <tr>\n",
              "      <th>5</th>\n",
              "      <td>KegurunekuR33</td>\n",
              "      <td>0.028999</td>\n",
              "    </tr>\n",
              "    <tr>\n",
              "      <th>6</th>\n",
              "      <td>game_tori10</td>\n",
              "      <td>0.028088</td>\n",
              "    </tr>\n",
              "    <tr>\n",
              "      <th>7</th>\n",
              "      <td>ogayan0301</td>\n",
              "      <td>0.026894</td>\n",
              "    </tr>\n",
              "    <tr>\n",
              "      <th>8</th>\n",
              "      <td>kegani_0207</td>\n",
              "      <td>0.026858</td>\n",
              "    </tr>\n",
              "    <tr>\n",
              "      <th>9</th>\n",
              "      <td>DIVAvivylove1</td>\n",
              "      <td>0.026283</td>\n",
              "    </tr>\n",
              "    <tr>\n",
              "      <th>10</th>\n",
              "      <td>sera050520</td>\n",
              "      <td>0.025813</td>\n",
              "    </tr>\n",
              "  </tbody>\n",
              "</table>\n",
              "</div>\n",
              "      <button class=\"colab-df-convert\" onclick=\"convertToInteractive('df-77435729-97e4-4e88-84ef-a0d91c037fb3')\"\n",
              "              title=\"Convert this dataframe to an interactive table.\"\n",
              "              style=\"display:none;\">\n",
              "        \n",
              "  <svg xmlns=\"http://www.w3.org/2000/svg\" height=\"24px\"viewBox=\"0 0 24 24\"\n",
              "       width=\"24px\">\n",
              "    <path d=\"M0 0h24v24H0V0z\" fill=\"none\"/>\n",
              "    <path d=\"M18.56 5.44l.94 2.06.94-2.06 2.06-.94-2.06-.94-.94-2.06-.94 2.06-2.06.94zm-11 1L8.5 8.5l.94-2.06 2.06-.94-2.06-.94L8.5 2.5l-.94 2.06-2.06.94zm10 10l.94 2.06.94-2.06 2.06-.94-2.06-.94-.94-2.06-.94 2.06-2.06.94z\"/><path d=\"M17.41 7.96l-1.37-1.37c-.4-.4-.92-.59-1.43-.59-.52 0-1.04.2-1.43.59L10.3 9.45l-7.72 7.72c-.78.78-.78 2.05 0 2.83L4 21.41c.39.39.9.59 1.41.59.51 0 1.02-.2 1.41-.59l7.78-7.78 2.81-2.81c.8-.78.8-2.07 0-2.86zM5.41 20L4 18.59l7.72-7.72 1.47 1.35L5.41 20z\"/>\n",
              "  </svg>\n",
              "      </button>\n",
              "      \n",
              "  <style>\n",
              "    .colab-df-container {\n",
              "      display:flex;\n",
              "      flex-wrap:wrap;\n",
              "      gap: 12px;\n",
              "    }\n",
              "\n",
              "    .colab-df-convert {\n",
              "      background-color: #E8F0FE;\n",
              "      border: none;\n",
              "      border-radius: 50%;\n",
              "      cursor: pointer;\n",
              "      display: none;\n",
              "      fill: #1967D2;\n",
              "      height: 32px;\n",
              "      padding: 0 0 0 0;\n",
              "      width: 32px;\n",
              "    }\n",
              "\n",
              "    .colab-df-convert:hover {\n",
              "      background-color: #E2EBFA;\n",
              "      box-shadow: 0px 1px 2px rgba(60, 64, 67, 0.3), 0px 1px 3px 1px rgba(60, 64, 67, 0.15);\n",
              "      fill: #174EA6;\n",
              "    }\n",
              "\n",
              "    [theme=dark] .colab-df-convert {\n",
              "      background-color: #3B4455;\n",
              "      fill: #D2E3FC;\n",
              "    }\n",
              "\n",
              "    [theme=dark] .colab-df-convert:hover {\n",
              "      background-color: #434B5C;\n",
              "      box-shadow: 0px 1px 3px 1px rgba(0, 0, 0, 0.15);\n",
              "      filter: drop-shadow(0px 1px 2px rgba(0, 0, 0, 0.3));\n",
              "      fill: #FFFFFF;\n",
              "    }\n",
              "  </style>\n",
              "\n",
              "      <script>\n",
              "        const buttonEl =\n",
              "          document.querySelector('#df-77435729-97e4-4e88-84ef-a0d91c037fb3 button.colab-df-convert');\n",
              "        buttonEl.style.display =\n",
              "          google.colab.kernel.accessAllowed ? 'block' : 'none';\n",
              "\n",
              "        async function convertToInteractive(key) {\n",
              "          const element = document.querySelector('#df-77435729-97e4-4e88-84ef-a0d91c037fb3');\n",
              "          const dataTable =\n",
              "            await google.colab.kernel.invokeFunction('convertToInteractive',\n",
              "                                                     [key], {});\n",
              "          if (!dataTable) return;\n",
              "\n",
              "          const docLinkHtml = 'Like what you see? Visit the ' +\n",
              "            '<a target=\"_blank\" href=https://colab.research.google.com/notebooks/data_table.ipynb>data table notebook</a>'\n",
              "            + ' to learn more about interactive tables.';\n",
              "          element.innerHTML = '';\n",
              "          dataTable['output_type'] = 'display_data';\n",
              "          await google.colab.output.renderOutput(dataTable, element);\n",
              "          const docLink = document.createElement('div');\n",
              "          docLink.innerHTML = docLinkHtml;\n",
              "          element.appendChild(docLink);\n",
              "        }\n",
              "      </script>\n",
              "    </div>\n",
              "  </div>\n",
              "  "
            ]
          },
          "metadata": {},
          "execution_count": 17
        }
      ]
    },
    {
      "cell_type": "markdown",
      "source": [
        "## Statistik"
      ],
      "metadata": {
        "id": "Mo-LOkOQwnm-"
      }
    },
    {
      "cell_type": "code",
      "source": [
        "print(\"Banyaknya Nodes = \", h_graph.number_of_nodes())\n",
        "print(\"Banyaknya Edges = \", h_graph.number_of_edges())"
      ],
      "metadata": {
        "colab": {
          "base_uri": "https://localhost:8080/"
        },
        "id": "A-2_qxXGwqHE",
        "outputId": "632425fb-3fbc-43a0-9271-77915f3ef650"
      },
      "execution_count": null,
      "outputs": [
        {
          "output_type": "stream",
          "name": "stdout",
          "text": [
            "Banyaknya Nodes =  4367\n",
            "Banyaknya Edges =  7112\n"
          ]
        }
      ]
    }
  ]
}